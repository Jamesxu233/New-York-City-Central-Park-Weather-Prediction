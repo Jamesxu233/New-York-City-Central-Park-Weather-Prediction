{
  "cells": [
    {
      "cell_type": "code",
      "execution_count": 1,
      "metadata": {
        "colab": {
          "base_uri": "https://localhost:8080/",
          "height": 89
        },
        "id": "NJObNRJO-aJk",
        "outputId": "d6cea257-5013-4159-fdc5-45dde028fc13"
      },
      "outputs": [
        {
          "output_type": "display_data",
          "data": {
            "text/html": [
              "        <script type=\"text/javascript\">\n",
              "        window.PlotlyConfig = {MathJaxConfig: 'local'};\n",
              "        if (window.MathJax && window.MathJax.Hub && window.MathJax.Hub.Config) {window.MathJax.Hub.Config({SVG: {font: \"STIX-Web\"}});}\n",
              "        if (typeof require !== 'undefined') {\n",
              "        require.undef(\"plotly\");\n",
              "        requirejs.config({\n",
              "            paths: {\n",
              "                'plotly': ['https://cdn.plot.ly/plotly-2.24.1.min']\n",
              "            }\n",
              "        });\n",
              "        require(['plotly'], function(Plotly) {\n",
              "            window._Plotly = Plotly;\n",
              "        });\n",
              "        }\n",
              "        </script>\n",
              "        "
            ]
          },
          "metadata": {}
        },
        {
          "output_type": "stream",
          "name": "stdout",
          "text": [
            "Collecting fake-useragent\n",
            "  Downloading fake_useragent-1.4.0-py3-none-any.whl (15 kB)\n",
            "Installing collected packages: fake-useragent\n",
            "Successfully installed fake-useragent-1.4.0\n"
          ]
        }
      ],
      "source": [
        "#-----General------#\n",
        "import numpy as np\n",
        "import pandas as pd\n",
        "import os\n",
        "import sys\n",
        "import math\n",
        "import random\n",
        "import requests\n",
        "import json\n",
        "\n",
        "#-----Plotting-----#\n",
        "import matplotlib.pyplot as plt\n",
        "import plotly.graph_objects as go\n",
        "import plotly.express as px\n",
        "import plotly.offline as py\n",
        "py.init_notebook_mode(connected=True)\n",
        "import seaborn as sns\n",
        "# from pandas_profiling import ProfileReport\n",
        "\n",
        "#-----Utility-----#\n",
        "import itertools\n",
        "import warnings\n",
        "warnings.filterwarnings(\"ignore\")\n",
        "import re\n",
        "import gc\n",
        "from bs4 import BeautifulSoup as soup\n",
        "from urllib.request import Request, urlopen\n",
        "from datetime import date, datetime,timedelta\n",
        "!pip install fake-useragent\n",
        "from fake_useragent import UserAgent\n",
        "ua = UserAgent()"
      ]
    },
    {
      "cell_type": "markdown",
      "metadata": {
        "id": "D9URmhcZ-aJm"
      },
      "source": [
        "# Previous Data"
      ]
    },
    {
      "cell_type": "code",
      "execution_count": 2,
      "metadata": {
        "id": "xGmTyTrY-aJn",
        "colab": {
          "base_uri": "https://localhost:8080/"
        },
        "outputId": "8a668dde-2a7e-4691-fe48-af1807bd0fcf"
      },
      "outputs": [
        {
          "output_type": "stream",
          "name": "stdout",
          "text": [
            "Error: 503 - <!DOCTYPE HTML PUBLIC \"-//IETF//DTD HTML 2.0//EN\">\n",
            "<html><head>\n",
            "<title>503 Service Unavailable</title>\n",
            "</head><body>\n",
            "<h1>Service Unavailable</h1>\n",
            "<p>The server is temporarily unable to service your\n",
            "request due to maintenance downtime or capacity\n",
            "problems. Please try again later.</p>\n",
            "<p>Additionally, a 503 Service Unavailable\n",
            "error was encountered while trying to use an ErrorDocument to handle the request.</p>\n",
            "</body></html>\n",
            "\n"
          ]
        }
      ],
      "source": [
        "# Function to convert string date to datetime object\n",
        "def str_to_date(date_str):\n",
        "    return datetime.strptime(date_str, '%Y-%m-%d')\n",
        "\n",
        "# Function to convert datetime object to string date\n",
        "def date_to_str(date_obj):\n",
        "    return date_obj.strftime('%Y-%m-%d')\n",
        "\n",
        "# Initialize parameters\n",
        "base_url = 'https://www.ncdc.noaa.gov/cdo-web/api/v2/data'\n",
        "api_key = 'csaPPKuENBgQQVGQTQFgMmUuDTGxdFpr'\n",
        "headers = {'token': api_key,\n",
        "           'User-Agent':ua.random,}\n",
        "\n",
        "# Start and end dates for the entire data fetching period\n",
        "start_date = str_to_date('2020-08-15')\n",
        "end_date = str_to_date('2023-11-01')\n",
        "2\n",
        "# Adjust this depending on how much data you expect each day\n",
        "days_per_request = 50\n",
        "\n",
        "# DataFrame to hold all results\n",
        "all_data_1 = pd.DataFrame()\n",
        "\n",
        "while start_date < end_date:\n",
        "    # Update end date for the request\n",
        "    request_end_date = min(start_date + timedelta(days=days_per_request), end_date)\n",
        "\n",
        "    # Set up parameters for the request\n",
        "    params = {\n",
        "        'datasetid': 'GHCND',\n",
        "        'locationid': 'CITY:US360019',\n",
        "        'stationid':'GHCND:USW00094728',\n",
        "        'startdate': date_to_str(start_date),\n",
        "        'enddate': date_to_str(request_end_date),\n",
        "        'units': 'metric',\n",
        "        'limit': 1000\n",
        "    }\n",
        "\n",
        "    # Make the request\n",
        "    response = requests.get(base_url, headers=headers, params=params)\n",
        "\n",
        "    # Check if the request was successful\n",
        "    if response.status_code == 200:\n",
        "        data = response.json()\n",
        "\n",
        "        # Convert this part of the results to a DataFrame and append\n",
        "        part_data = pd.json_normalize(data['results'])\n",
        "        all_data_1 = pd.concat([all_data_1, part_data], ignore_index=True)\n",
        "\n",
        "        # Update the start date for the next request\n",
        "        start_date = request_end_date + timedelta(days=1)\n",
        "    else:\n",
        "        print(f\"Error: {response.status_code} - {response.text}\")\n",
        "        break"
      ]
    },
    {
      "cell_type": "markdown",
      "metadata": {
        "id": "DqGDd_ir-aJo"
      },
      "source": [
        "# Make previous data as dataframe"
      ]
    },
    {
      "cell_type": "code",
      "execution_count": 3,
      "metadata": {
        "id": "u5p2FmPs-aJo"
      },
      "outputs": [],
      "source": [
        "df_prev = all_data_1.copy()\n",
        "\n",
        "df_prev = df_prev.drop(columns=['attributes','station'])\n",
        "df_prev = df_prev.pivot(index='date', columns='datatype', values='value')\n",
        "df_prev = df_prev.drop(columns=['TSUN'])"
      ]
    },
    {
      "cell_type": "markdown",
      "metadata": {
        "id": "5oznueLm-aJo"
      },
      "source": [
        "# Check the consistency"
      ]
    },
    {
      "cell_type": "code",
      "execution_count": 4,
      "metadata": {
        "colab": {
          "base_uri": "https://localhost:8080/"
        },
        "id": "6xkywzDl-aJp",
        "outputId": "ce3e2676-c12c-4fab-a3e1-2f7b1d4c3949"
      },
      "outputs": [
        {
          "output_type": "stream",
          "name": "stdout",
          "text": [
            "1173\n",
            "(408, 23)\n"
          ]
        }
      ],
      "source": [
        "# Define the start and end dates\n",
        "start_date = datetime(2020, 8, 15)\n",
        "end_date = datetime(2023, 11, 1)\n",
        "\n",
        "# Calculate the number of days between the two dates\n",
        "number_of_days = (end_date - start_date).days\n",
        "print(number_of_days)\n",
        "\n",
        "print(df_prev.shape)"
      ]
    },
    {
      "cell_type": "markdown",
      "metadata": {
        "id": "A2O_aRNO-aJp"
      },
      "source": [
        "# Get today's data"
      ]
    },
    {
      "cell_type": "code",
      "execution_count": 5,
      "metadata": {
        "id": "8vUJkbBU-aJq"
      },
      "outputs": [],
      "source": [
        "# Start and end dates for the entire data fetching period\n",
        "start_date = str_to_date('2023-11-02')\n",
        "end_date = datetime.now()\n",
        "2\n",
        "# Adjust this depending on how much data you expect each day\n",
        "days_per_request = 50\n",
        "\n",
        "# DataFrame to hold all results\n",
        "all_data = pd.DataFrame()\n",
        "\n",
        "while start_date < end_date:\n",
        "    # Update end date for the request\n",
        "    request_end_date = min(start_date + timedelta(days=days_per_request), end_date)\n",
        "\n",
        "    # Set up parameters for the request\n",
        "    params = {\n",
        "        'datasetid': 'GHCND',\n",
        "        'locationid': 'CITY:US360019',\n",
        "        'stationid':'GHCND:USW00094728',\n",
        "        'startdate': date_to_str(start_date),\n",
        "        'enddate': date_to_str(request_end_date),\n",
        "        'units': 'metric',\n",
        "        'limit': 1000\n",
        "    }\n",
        "\n",
        "    # Make the request\n",
        "    response = requests.get(base_url, headers=headers, params=params)\n",
        "\n",
        "    # Check if the request was successful\n",
        "    if response.status_code == 200:\n",
        "        data = response.json()\n",
        "\n",
        "        # Convert this part of the results to a DataFrame and append\n",
        "        part_data = pd.json_normalize(data['results'])\n",
        "        all_data = pd.concat([all_data, part_data], ignore_index=True)\n",
        "\n",
        "        # Update the start date for the next request\n",
        "        start_date = request_end_date + timedelta(days=1)\n",
        "    else:\n",
        "        print(f\"Error: {response.status_code} - {response.text}\")\n",
        "        break"
      ]
    },
    {
      "cell_type": "markdown",
      "metadata": {
        "id": "vi2Hq9-R-aJq"
      },
      "source": [
        "# Make today's data as df"
      ]
    },
    {
      "cell_type": "code",
      "execution_count": 6,
      "metadata": {
        "colab": {
          "base_uri": "https://localhost:8080/"
        },
        "id": "cZAc5MEm-aJr",
        "outputId": "ff811a50-a892-44e7-ef7f-f5e789d39402"
      },
      "outputs": [
        {
          "output_type": "stream",
          "name": "stdout",
          "text": [
            "(35, 12)\n",
            "39\n"
          ]
        }
      ],
      "source": [
        "df_today = all_data.copy()\n",
        "df_today = df_today.drop(columns=['attributes','station'])\n",
        "df_today = df_today.pivot(index='date', columns='datatype', values='value')\n",
        "print(df_today.shape)\n",
        "from datetime import datetime\n",
        "\n",
        "# Define the start and end dates\n",
        "start_date = datetime(2023, 11, 1)\n",
        "end_date = datetime.now()\n",
        "\n",
        "# Calculate the number of days between the two dates\n",
        "number_of_days = (end_date - start_date).days\n",
        "print(number_of_days)\n",
        "# df_today = df_today.drop(columns=['PGTM'])"
      ]
    },
    {
      "cell_type": "markdown",
      "metadata": {
        "id": "GKHem5NL-aJr"
      },
      "source": [
        "# Check the columms from two dataset(for self use)"
      ]
    },
    {
      "cell_type": "code",
      "execution_count": 7,
      "metadata": {
        "colab": {
          "base_uri": "https://localhost:8080/"
        },
        "id": "Vq88LaXt-aJr",
        "outputId": "c0b34fea-851b-4bd4-97d4-287ad3844c4e"
      },
      "outputs": [
        {
          "output_type": "stream",
          "name": "stdout",
          "text": [
            "Datasets do not have the same columns.\n",
            "Columns only in the first dataset: {'ASLP', 'WT06', 'ASTP', 'RHMX', 'WT02', 'RHMN', 'AWBT', 'WT03', 'ADPT', 'WT04', 'RHAV'}\n"
          ]
        }
      ],
      "source": [
        "\n",
        "# Get the columns of each dataset\n",
        "columns_df1 = set(df_prev.columns)\n",
        "columns_df2 = set(df_today.columns)\n",
        "\n",
        "# Compare columns\n",
        "if columns_df1 == columns_df2:\n",
        "    print(\"Both datasets have the same columns.\")\n",
        "else:\n",
        "    print(\"Datasets do not have the same columns.\")\n",
        "\n",
        "    # To see which columns are different\n",
        "    only_in_df1 = columns_df1 - columns_df2\n",
        "    only_in_df2 = columns_df2 - columns_df1\n",
        "\n",
        "    if only_in_df1:\n",
        "        print(\"Columns only in the first dataset:\", only_in_df1)\n",
        "    if only_in_df2:\n",
        "        print(\"Columns only in the second dataset:\", only_in_df2)\n"
      ]
    },
    {
      "cell_type": "markdown",
      "metadata": {
        "id": "3ZVnOEZE-aJr"
      },
      "source": [
        "# Try to combine them together"
      ]
    },
    {
      "cell_type": "code",
      "execution_count": 8,
      "metadata": {
        "id": "QnfR2M92-aJr"
      },
      "outputs": [],
      "source": [
        "column_name = 'PGTM'  # Replace 'col' with your actual column name\n",
        "\n",
        "# Check if the column exists in the DataFrame and drop it if it does\n",
        "if column_name in df_today.columns:\n",
        "    df_today = df_today.drop(columns=[column_name])\n",
        "df_combine = pd.concat([df_prev,df_today],axis=0)\n",
        "df_combine.index = pd.to_datetime(df_combine.index)"
      ]
    },
    {
      "cell_type": "code",
      "execution_count": 9,
      "metadata": {
        "colab": {
          "base_uri": "https://localhost:8080/"
        },
        "id": "tCPqCMnw-aJs",
        "outputId": "11aa4c39-8b55-4f32-f3ee-1b6b0b3cfbca"
      },
      "outputs": [
        {
          "output_type": "execute_result",
          "data": {
            "text/plain": [
              "(443, 23)"
            ]
          },
          "metadata": {},
          "execution_count": 9
        }
      ],
      "source": [
        "df_combine.shape"
      ]
    },
    {
      "cell_type": "code",
      "execution_count": 10,
      "metadata": {
        "colab": {
          "base_uri": "https://localhost:8080/"
        },
        "id": "HrZVbzab-aJs",
        "outputId": "ab1e7196-9ae3-4c25-843a-5f8766fa0b0b"
      },
      "outputs": [
        {
          "output_type": "stream",
          "name": "stdout",
          "text": [
            "<class 'pandas.core.frame.DataFrame'>\n",
            "DatetimeIndex: 443 entries, 2020-08-15 to 2023-12-06\n",
            "Data columns (total 23 columns):\n",
            " #   Column  Non-Null Count  Dtype  \n",
            "---  ------  --------------  -----  \n",
            " 0   ADPT    404 non-null    float64\n",
            " 1   ASLP    404 non-null    float64\n",
            " 2   ASTP    404 non-null    float64\n",
            " 3   AWBT    404 non-null    float64\n",
            " 4   AWND    432 non-null    float64\n",
            " 5   PRCP    443 non-null    float64\n",
            " 6   RHAV    404 non-null    float64\n",
            " 7   RHMN    404 non-null    float64\n",
            " 8   RHMX    404 non-null    float64\n",
            " 9   SNOW    443 non-null    float64\n",
            " 10  SNWD    443 non-null    float64\n",
            " 11  TMAX    443 non-null    float64\n",
            " 12  TMIN    443 non-null    float64\n",
            " 13  WDF2    433 non-null    float64\n",
            " 14  WDF5    426 non-null    float64\n",
            " 15  WSF2    433 non-null    float64\n",
            " 16  WSF5    426 non-null    float64\n",
            " 17  WT01    175 non-null    float64\n",
            " 18  WT02    15 non-null     float64\n",
            " 19  WT03    32 non-null     float64\n",
            " 20  WT04    5 non-null      float64\n",
            " 21  WT06    3 non-null      float64\n",
            " 22  WT08    61 non-null     float64\n",
            "dtypes: float64(23)\n",
            "memory usage: 83.1 KB\n"
          ]
        }
      ],
      "source": [
        "df_combine.info()"
      ]
    },
    {
      "cell_type": "markdown",
      "metadata": {
        "id": "YzGCDCBx-aJs"
      },
      "source": [
        "#  handle multiple columns with missing data and fill them with the average values from the corresponding day in previous years"
      ]
    },
    {
      "cell_type": "code",
      "execution_count": 11,
      "metadata": {
        "colab": {
          "base_uri": "https://localhost:8080/"
        },
        "id": "VBu-RprV-aJs",
        "outputId": "f035aaf4-44ad-4cde-97f1-ad2cf189659f"
      },
      "outputs": [
        {
          "output_type": "stream",
          "name": "stdout",
          "text": [
            "<class 'pandas.core.frame.DataFrame'>\n",
            "DatetimeIndex: 443 entries, 2020-08-15 to 2023-12-06\n",
            "Data columns (total 23 columns):\n",
            " #   Column  Non-Null Count  Dtype  \n",
            "---  ------  --------------  -----  \n",
            " 0   ADPT    443 non-null    float64\n",
            " 1   ASLP    443 non-null    float64\n",
            " 2   ASTP    443 non-null    float64\n",
            " 3   AWBT    443 non-null    float64\n",
            " 4   AWND    443 non-null    float64\n",
            " 5   PRCP    443 non-null    float64\n",
            " 6   RHAV    443 non-null    float64\n",
            " 7   RHMN    443 non-null    float64\n",
            " 8   RHMX    443 non-null    float64\n",
            " 9   SNOW    443 non-null    float64\n",
            " 10  SNWD    443 non-null    float64\n",
            " 11  TMAX    443 non-null    float64\n",
            " 12  TMIN    443 non-null    float64\n",
            " 13  WDF2    443 non-null    float64\n",
            " 14  WDF5    443 non-null    float64\n",
            " 15  WSF2    443 non-null    float64\n",
            " 16  WSF5    443 non-null    float64\n",
            " 17  WT01    443 non-null    float64\n",
            " 18  WT02    443 non-null    float64\n",
            " 19  WT03    443 non-null    float64\n",
            " 20  WT04    443 non-null    float64\n",
            " 21  WT06    443 non-null    float64\n",
            " 22  WT08    443 non-null    float64\n",
            "dtypes: float64(23)\n",
            "memory usage: 83.1 KB\n"
          ]
        }
      ],
      "source": [
        "average_values = df_combine.groupby([df_combine.index.month, df_combine.index.day]).mean()\n",
        "\n",
        "def impute_missing(row, avg_values):\n",
        "    for col in df_combine.columns:\n",
        "        if pd.isna(row[col]):\n",
        "            month_day = (row.name.month, row.name.day)\n",
        "            row[col] = avg_values.loc[month_day, col]\n",
        "    return row\n",
        "df_combine = df_combine.apply(impute_missing, axis=1, args=(average_values,))\n",
        "\n",
        "df_combine.fillna(0, inplace=True)\n",
        "df_combine.info()"
      ]
    },
    {
      "cell_type": "markdown",
      "metadata": {
        "id": "gzHXmRnH-aJs"
      },
      "source": [
        "# Feature enginnering (using the regular method without)"
      ]
    },
    {
      "cell_type": "code",
      "execution_count": 12,
      "metadata": {
        "colab": {
          "base_uri": "https://localhost:8080/"
        },
        "id": "amHy0IR7-aJt",
        "outputId": "76d735a9-0295-46ba-e820-a111eec67ecf"
      },
      "outputs": [
        {
          "output_type": "stream",
          "name": "stdout",
          "text": [
            "<class 'pandas.core.frame.DataFrame'>\n",
            "DatetimeIndex: 440 entries, 2020-08-18 to 2023-12-06\n",
            "Data columns (total 60 columns):\n",
            " #   Column  Non-Null Count  Dtype  \n",
            "---  ------  --------------  -----  \n",
            " 0   ADPT    440 non-null    float64\n",
            " 1   ASLP    440 non-null    float64\n",
            " 2   ASTP    440 non-null    float64\n",
            " 3   AWBT    440 non-null    float64\n",
            " 4   AWND    440 non-null    float64\n",
            " 5   PRCP    440 non-null    float64\n",
            " 6   RHAV    440 non-null    float64\n",
            " 7   RHMN    440 non-null    float64\n",
            " 8   RHMX    440 non-null    float64\n",
            " 9   SNOW    440 non-null    float64\n",
            " 10  SNWD    440 non-null    float64\n",
            " 11  TMAX    440 non-null    float64\n",
            " 12  TMIN    440 non-null    float64\n",
            " 13  WDF2    440 non-null    float64\n",
            " 14  WDF5    440 non-null    float64\n",
            " 15  WSF2    440 non-null    float64\n",
            " 16  WSF5    440 non-null    float64\n",
            " 17  WT01    440 non-null    float64\n",
            " 18  WT02    440 non-null    float64\n",
            " 19  WT03    440 non-null    float64\n",
            " 20  WT04    440 non-null    float64\n",
            " 21  WT06    440 non-null    float64\n",
            " 22  WT08    440 non-null    float64\n",
            " 23  TAVG    440 non-null    float64\n",
            " 24  TAVG_1  440 non-null    float64\n",
            " 25  TAVG_2  440 non-null    float64\n",
            " 26  TAVG_3  440 non-null    float64\n",
            " 27  TMAX_1  440 non-null    float64\n",
            " 28  TMAX_2  440 non-null    float64\n",
            " 29  TMAX_3  440 non-null    float64\n",
            " 30  TMIN_1  440 non-null    float64\n",
            " 31  TMIN_2  440 non-null    float64\n",
            " 32  TMIN_3  440 non-null    float64\n",
            " 33  PRCP_1  440 non-null    float64\n",
            " 34  PRCP_2  440 non-null    float64\n",
            " 35  PRCP_3  440 non-null    float64\n",
            " 36  SNOW_1  440 non-null    float64\n",
            " 37  SNOW_2  440 non-null    float64\n",
            " 38  SNOW_3  440 non-null    float64\n",
            " 39  AWND_1  440 non-null    float64\n",
            " 40  AWND_2  440 non-null    float64\n",
            " 41  AWND_3  440 non-null    float64\n",
            " 42  RHAV_1  440 non-null    float64\n",
            " 43  RHAV_2  440 non-null    float64\n",
            " 44  RHAV_3  440 non-null    float64\n",
            " 45  RHMN_1  440 non-null    float64\n",
            " 46  RHMN_2  440 non-null    float64\n",
            " 47  RHMN_3  440 non-null    float64\n",
            " 48  RHMX_1  440 non-null    float64\n",
            " 49  RHMX_2  440 non-null    float64\n",
            " 50  RHMX_3  440 non-null    float64\n",
            " 51  ADPT_1  440 non-null    float64\n",
            " 52  ADPT_2  440 non-null    float64\n",
            " 53  ADPT_3  440 non-null    float64\n",
            " 54  ASLP_1  440 non-null    float64\n",
            " 55  ASLP_2  440 non-null    float64\n",
            " 56  ASLP_3  440 non-null    float64\n",
            " 57  ASTP_1  440 non-null    float64\n",
            " 58  ASTP_2  440 non-null    float64\n",
            " 59  ASTP_3  440 non-null    float64\n",
            "dtypes: float64(60)\n",
            "memory usage: 209.7 KB\n"
          ]
        }
      ],
      "source": [
        "df_combine['TAVG'] = (df_combine['TMAX'].astype(float)+df_combine['TMIN'].astype(float))/2\n",
        "columns_to_shift = ['TAVG','TMAX', 'TMIN', 'PRCP', 'SNOW', 'AWND', 'RHAV', 'RHMN', 'RHMX', 'ADPT', 'ASLP', 'ASTP']\n",
        "\n",
        "for col in columns_to_shift:\n",
        "    for i in range(1, 4):  # Shift 1, 2, and 3 steps\n",
        "        df_combine[f'{col}_{i}'] = df_combine[col].shift(i)\n",
        "\n",
        "\n",
        "df_combine = df_combine.dropna()\n",
        "scaled_df = df_combine\n",
        "scaled_df.info()"
      ]
    },
    {
      "cell_type": "markdown",
      "metadata": {
        "id": "fYLP80cC-iQ8"
      },
      "source": [
        "# Model Training"
      ]
    },
    {
      "cell_type": "code",
      "execution_count": 13,
      "metadata": {
        "id": "fYa7zven-kcb"
      },
      "outputs": [],
      "source": [
        "import tensorflow as tf\n",
        "from sklearn.model_selection import train_test_split,GridSearchCV\n",
        "from keras.models import Sequential\n",
        "from keras.layers import Dense\n",
        "from keras.callbacks import EarlyStopping\n",
        "from sklearn.preprocessing import StandardScaler\n",
        "from tensorflow.keras.optimizers.legacy import Adam\n",
        "from sklearn.metrics import mean_absolute_error, mean_squared_error\n",
        "from tensorflow.keras.regularizers import l2"
      ]
    },
    {
      "cell_type": "code",
      "execution_count": 14,
      "metadata": {
        "colab": {
          "base_uri": "https://localhost:8080/",
          "height": 1000
        },
        "id": "bXkCW_ld2o-u",
        "outputId": "a5765297-e6c2-48bf-fb83-ce5c7ea9218b"
      },
      "outputs": [
        {
          "output_type": "stream",
          "name": "stdout",
          "text": [
            "Epoch 1/200\n",
            "9/9 [==============================] - 9s 55ms/step - loss: 291.9035 - mse: 279.5101 - val_loss: 267.9105 - val_mse: 255.5581\n",
            "Epoch 2/200\n",
            "9/9 [==============================] - 0s 16ms/step - loss: 242.6345 - mse: 230.2837 - val_loss: 225.3218 - val_mse: 212.9559\n",
            "Epoch 3/200\n",
            "9/9 [==============================] - 0s 26ms/step - loss: 196.8122 - mse: 184.4126 - val_loss: 184.0032 - val_mse: 171.5435\n",
            "Epoch 4/200\n",
            "9/9 [==============================] - 0s 26ms/step - loss: 155.5025 - mse: 142.9759 - val_loss: 144.0264 - val_mse: 131.4016\n",
            "Epoch 5/200\n",
            "9/9 [==============================] - 0s 28ms/step - loss: 116.2232 - mse: 103.5156 - val_loss: 111.0595 - val_mse: 98.2352\n",
            "Epoch 6/200\n",
            "9/9 [==============================] - 0s 12ms/step - loss: 87.0272 - mse: 74.1135 - val_loss: 86.9397 - val_mse: 73.9112\n",
            "Epoch 7/200\n",
            "9/9 [==============================] - 0s 19ms/step - loss: 67.3251 - mse: 54.2179 - val_loss: 69.3092 - val_mse: 56.1111\n",
            "Epoch 8/200\n",
            "9/9 [==============================] - 0s 19ms/step - loss: 53.5693 - mse: 40.3160 - val_loss: 55.1440 - val_mse: 41.8267\n",
            "Epoch 9/200\n",
            "9/9 [==============================] - 0s 19ms/step - loss: 44.3112 - mse: 30.9538 - val_loss: 46.2242 - val_mse: 32.8154\n",
            "Epoch 10/200\n",
            "9/9 [==============================] - 0s 16ms/step - loss: 38.8656 - mse: 25.4243 - val_loss: 40.8269 - val_mse: 27.3471\n",
            "Epoch 11/200\n",
            "9/9 [==============================] - 0s 23ms/step - loss: 35.3210 - mse: 21.8221 - val_loss: 37.2761 - val_mse: 23.7658\n",
            "Epoch 12/200\n",
            "9/9 [==============================] - 0s 20ms/step - loss: 32.4924 - mse: 18.9877 - val_loss: 34.6699 - val_mse: 21.1817\n",
            "Epoch 13/200\n",
            "9/9 [==============================] - 0s 17ms/step - loss: 30.3608 - mse: 16.8951 - val_loss: 32.3354 - val_mse: 18.8938\n",
            "Epoch 14/200\n",
            "9/9 [==============================] - 0s 33ms/step - loss: 28.3306 - mse: 14.9005 - val_loss: 30.8872 - val_mse: 17.4783\n",
            "Epoch 15/200\n",
            "9/9 [==============================] - 0s 30ms/step - loss: 26.7912 - mse: 13.4072 - val_loss: 29.2692 - val_mse: 15.9173\n",
            "Epoch 16/200\n",
            "9/9 [==============================] - 0s 33ms/step - loss: 25.4991 - mse: 12.1745 - val_loss: 28.0279 - val_mse: 14.7411\n",
            "Epoch 17/200\n",
            "9/9 [==============================] - 0s 33ms/step - loss: 24.5194 - mse: 11.2641 - val_loss: 27.0528 - val_mse: 13.8385\n",
            "Epoch 18/200\n",
            "9/9 [==============================] - 0s 27ms/step - loss: 23.4850 - mse: 10.3049 - val_loss: 25.9895 - val_mse: 12.8540\n",
            "Epoch 19/200\n",
            "9/9 [==============================] - 0s 23ms/step - loss: 22.7229 - mse: 9.6179 - val_loss: 25.0998 - val_mse: 12.0382\n",
            "Epoch 20/200\n",
            "9/9 [==============================] - 0s 12ms/step - loss: 22.1656 - mse: 9.1344 - val_loss: 24.0801 - val_mse: 11.0908\n",
            "Epoch 21/200\n",
            "9/9 [==============================] - 0s 29ms/step - loss: 21.4485 - mse: 8.5012 - val_loss: 23.5604 - val_mse: 10.6680\n",
            "Epoch 22/200\n",
            "9/9 [==============================] - 0s 24ms/step - loss: 20.9188 - mse: 8.0688 - val_loss: 22.8733 - val_mse: 10.0786\n",
            "Epoch 23/200\n",
            "9/9 [==============================] - 0s 36ms/step - loss: 20.4666 - mse: 7.7153 - val_loss: 22.3197 - val_mse: 9.6258\n",
            "Epoch 24/200\n",
            "9/9 [==============================] - 0s 41ms/step - loss: 20.0502 - mse: 7.3982 - val_loss: 21.8729 - val_mse: 9.2749\n",
            "Epoch 25/200\n",
            "9/9 [==============================] - 0s 28ms/step - loss: 19.5971 - mse: 7.0444 - val_loss: 21.2283 - val_mse: 8.7331\n",
            "Epoch 26/200\n",
            "9/9 [==============================] - 0s 35ms/step - loss: 19.2341 - mse: 6.7798 - val_loss: 20.8661 - val_mse: 8.4670\n",
            "Epoch 27/200\n",
            "9/9 [==============================] - 0s 19ms/step - loss: 18.8864 - mse: 6.5391 - val_loss: 20.4832 - val_mse: 8.2006\n",
            "Epoch 28/200\n",
            "9/9 [==============================] - 0s 17ms/step - loss: 18.5684 - mse: 6.3400 - val_loss: 20.1038 - val_mse: 7.9384\n",
            "Epoch 29/200\n",
            "9/9 [==============================] - 0s 13ms/step - loss: 18.2167 - mse: 6.0930 - val_loss: 19.6939 - val_mse: 7.6264\n",
            "Epoch 30/200\n",
            "9/9 [==============================] - 0s 20ms/step - loss: 17.9283 - mse: 5.9038 - val_loss: 19.3352 - val_mse: 7.3725\n",
            "Epoch 31/200\n",
            "9/9 [==============================] - 0s 25ms/step - loss: 17.6693 - mse: 5.7617 - val_loss: 19.0159 - val_mse: 7.1752\n",
            "Epoch 32/200\n",
            "9/9 [==============================] - 0s 13ms/step - loss: 17.3988 - mse: 5.6055 - val_loss: 18.8214 - val_mse: 7.0932\n",
            "Epoch 33/200\n",
            "9/9 [==============================] - 0s 19ms/step - loss: 17.1074 - mse: 5.4311 - val_loss: 18.4546 - val_mse: 6.8414\n",
            "Epoch 34/200\n",
            "9/9 [==============================] - 0s 18ms/step - loss: 16.8608 - mse: 5.2930 - val_loss: 18.2031 - val_mse: 6.6967\n",
            "Epoch 35/200\n",
            "9/9 [==============================] - 0s 9ms/step - loss: 16.6251 - mse: 5.1676 - val_loss: 17.8645 - val_mse: 6.4670\n",
            "Epoch 36/200\n",
            "9/9 [==============================] - 0s 14ms/step - loss: 16.5379 - mse: 5.1854 - val_loss: 17.6878 - val_mse: 6.4044\n",
            "Epoch 37/200\n",
            "9/9 [==============================] - 0s 24ms/step - loss: 16.1533 - mse: 4.9242 - val_loss: 17.4322 - val_mse: 6.2639\n",
            "Epoch 38/200\n",
            "9/9 [==============================] - 0s 20ms/step - loss: 15.9282 - mse: 4.8016 - val_loss: 17.2264 - val_mse: 6.1609\n",
            "Epoch 39/200\n",
            "9/9 [==============================] - 0s 18ms/step - loss: 15.6978 - mse: 4.6879 - val_loss: 16.9554 - val_mse: 6.0118\n",
            "Epoch 40/200\n",
            "9/9 [==============================] - 0s 25ms/step - loss: 15.4699 - mse: 4.5735 - val_loss: 16.7776 - val_mse: 5.9426\n",
            "Epoch 41/200\n",
            "9/9 [==============================] - 0s 24ms/step - loss: 15.2428 - mse: 4.4528 - val_loss: 16.5054 - val_mse: 5.7735\n",
            "Epoch 42/200\n",
            "9/9 [==============================] - 0s 20ms/step - loss: 15.0394 - mse: 4.3537 - val_loss: 16.2922 - val_mse: 5.6688\n",
            "Epoch 43/200\n",
            "9/9 [==============================] - 0s 23ms/step - loss: 14.8270 - mse: 4.2491 - val_loss: 16.0641 - val_mse: 5.5430\n",
            "Epoch 44/200\n",
            "9/9 [==============================] - 0s 27ms/step - loss: 14.6642 - mse: 4.1929 - val_loss: 15.9189 - val_mse: 5.5143\n",
            "Epoch 45/200\n",
            "9/9 [==============================] - 0s 23ms/step - loss: 14.4312 - mse: 4.0723 - val_loss: 15.7071 - val_mse: 5.4028\n",
            "Epoch 46/200\n",
            "9/9 [==============================] - 0s 20ms/step - loss: 14.2478 - mse: 3.9825 - val_loss: 15.5607 - val_mse: 5.3546\n",
            "Epoch 47/200\n",
            "9/9 [==============================] - 0s 14ms/step - loss: 14.0575 - mse: 3.9039 - val_loss: 15.3752 - val_mse: 5.2885\n",
            "Epoch 48/200\n",
            "9/9 [==============================] - 0s 13ms/step - loss: 13.8695 - mse: 3.8283 - val_loss: 15.2239 - val_mse: 5.2418\n",
            "Epoch 49/200\n",
            "9/9 [==============================] - 0s 17ms/step - loss: 13.6914 - mse: 3.7509 - val_loss: 15.0106 - val_mse: 5.1288\n",
            "Epoch 50/200\n",
            "9/9 [==============================] - 0s 15ms/step - loss: 13.5165 - mse: 3.6757 - val_loss: 14.8606 - val_mse: 5.0788\n",
            "Epoch 51/200\n",
            "9/9 [==============================] - 0s 15ms/step - loss: 13.3676 - mse: 3.6299 - val_loss: 14.6070 - val_mse: 4.9249\n",
            "Epoch 52/200\n",
            "9/9 [==============================] - 0s 27ms/step - loss: 13.1728 - mse: 3.5321 - val_loss: 14.4335 - val_mse: 4.8479\n",
            "Epoch 53/200\n",
            "9/9 [==============================] - 0s 16ms/step - loss: 13.0189 - mse: 3.4772 - val_loss: 14.3424 - val_mse: 4.8587\n",
            "Epoch 54/200\n",
            "9/9 [==============================] - 0s 12ms/step - loss: 12.8750 - mse: 3.4353 - val_loss: 14.1665 - val_mse: 4.7823\n",
            "Epoch 55/200\n",
            "9/9 [==============================] - 0s 14ms/step - loss: 12.7140 - mse: 3.3747 - val_loss: 13.9854 - val_mse: 4.7041\n",
            "Epoch 56/200\n",
            "9/9 [==============================] - 0s 13ms/step - loss: 12.5925 - mse: 3.3537 - val_loss: 13.8725 - val_mse: 4.6836\n",
            "Epoch 57/200\n",
            "9/9 [==============================] - 0s 12ms/step - loss: 12.3968 - mse: 3.2480 - val_loss: 13.7181 - val_mse: 4.6251\n",
            "Epoch 58/200\n",
            "9/9 [==============================] - 0s 16ms/step - loss: 12.2720 - mse: 3.2213 - val_loss: 13.5429 - val_mse: 4.5456\n",
            "Epoch 59/200\n",
            "9/9 [==============================] - 0s 14ms/step - loss: 12.1806 - mse: 3.2264 - val_loss: 13.5161 - val_mse: 4.6212\n",
            "Epoch 60/200\n",
            "9/9 [==============================] - 0s 11ms/step - loss: 11.9739 - mse: 3.1185 - val_loss: 13.3116 - val_mse: 4.5007\n",
            "Epoch 61/200\n",
            "9/9 [==============================] - 0s 14ms/step - loss: 11.8107 - mse: 3.0361 - val_loss: 13.1131 - val_mse: 4.3914\n",
            "Epoch 62/200\n",
            "9/9 [==============================] - 0s 25ms/step - loss: 11.6783 - mse: 3.0016 - val_loss: 12.9765 - val_mse: 4.3508\n",
            "Epoch 63/200\n",
            "9/9 [==============================] - 0s 15ms/step - loss: 11.5361 - mse: 2.9467 - val_loss: 12.9004 - val_mse: 4.3647\n",
            "Epoch 64/200\n",
            "9/9 [==============================] - 0s 18ms/step - loss: 11.4418 - mse: 2.9434 - val_loss: 12.7155 - val_mse: 4.2619\n",
            "Epoch 65/200\n",
            "9/9 [==============================] - 0s 14ms/step - loss: 11.2985 - mse: 2.8846 - val_loss: 12.5501 - val_mse: 4.1877\n",
            "Epoch 66/200\n",
            "9/9 [==============================] - 0s 9ms/step - loss: 11.1437 - mse: 2.8220 - val_loss: 12.5149 - val_mse: 4.2463\n",
            "Epoch 67/200\n",
            "9/9 [==============================] - 0s 7ms/step - loss: 11.0276 - mse: 2.7965 - val_loss: 12.4054 - val_mse: 4.2204\n",
            "Epoch 68/200\n",
            "9/9 [==============================] - 0s 8ms/step - loss: 10.8759 - mse: 2.7271 - val_loss: 12.2401 - val_mse: 4.1406\n",
            "Epoch 69/200\n",
            "9/9 [==============================] - 0s 7ms/step - loss: 10.7836 - mse: 2.7195 - val_loss: 12.0502 - val_mse: 4.0350\n",
            "Epoch 70/200\n",
            "9/9 [==============================] - 0s 7ms/step - loss: 10.6431 - mse: 2.6595 - val_loss: 11.9522 - val_mse: 4.0117\n",
            "Epoch 71/200\n",
            "9/9 [==============================] - 0s 9ms/step - loss: 10.5289 - mse: 2.6297 - val_loss: 11.8799 - val_mse: 4.0361\n",
            "Epoch 72/200\n",
            "9/9 [==============================] - 0s 7ms/step - loss: 10.4302 - mse: 2.6193 - val_loss: 11.7673 - val_mse: 3.9978\n",
            "Epoch 73/200\n",
            "9/9 [==============================] - 0s 7ms/step - loss: 10.2987 - mse: 2.5667 - val_loss: 11.6319 - val_mse: 3.9512\n",
            "Epoch 74/200\n",
            "9/9 [==============================] - 0s 12ms/step - loss: 10.1614 - mse: 2.5167 - val_loss: 11.5674 - val_mse: 3.9649\n",
            "Epoch 75/200\n",
            "9/9 [==============================] - 0s 7ms/step - loss: 10.0628 - mse: 2.4925 - val_loss: 11.4374 - val_mse: 3.9129\n",
            "Epoch 76/200\n",
            "9/9 [==============================] - 0s 9ms/step - loss: 9.9287 - mse: 2.4415 - val_loss: 11.3146 - val_mse: 3.8726\n",
            "Epoch 77/200\n",
            "9/9 [==============================] - 0s 9ms/step - loss: 9.8368 - mse: 2.4230 - val_loss: 11.2409 - val_mse: 3.8702\n",
            "Epoch 78/200\n",
            "9/9 [==============================] - 0s 7ms/step - loss: 9.7471 - mse: 2.4144 - val_loss: 11.1650 - val_mse: 3.8798\n",
            "Epoch 79/200\n",
            "9/9 [==============================] - 0s 8ms/step - loss: 9.6626 - mse: 2.4097 - val_loss: 10.9962 - val_mse: 3.7791\n",
            "Epoch 80/200\n",
            "9/9 [==============================] - 0s 7ms/step - loss: 9.5760 - mse: 2.3882 - val_loss: 10.9495 - val_mse: 3.8116\n",
            "Epoch 81/200\n",
            "9/9 [==============================] - 0s 7ms/step - loss: 9.4222 - mse: 2.3233 - val_loss: 10.9113 - val_mse: 3.8540\n",
            "Epoch 82/200\n",
            "9/9 [==============================] - 0s 9ms/step - loss: 9.3398 - mse: 2.3119 - val_loss: 10.6952 - val_mse: 3.7060\n",
            "Epoch 83/200\n",
            "9/9 [==============================] - 0s 7ms/step - loss: 9.2594 - mse: 2.2962 - val_loss: 10.6787 - val_mse: 3.7579\n",
            "Epoch 84/200\n",
            "9/9 [==============================] - 0s 9ms/step - loss: 9.1344 - mse: 2.2479 - val_loss: 10.5866 - val_mse: 3.7459\n",
            "Epoch 85/200\n",
            "9/9 [==============================] - 0s 7ms/step - loss: 9.0225 - mse: 2.2135 - val_loss: 10.4827 - val_mse: 3.7155\n",
            "Epoch 86/200\n",
            "9/9 [==============================] - 0s 8ms/step - loss: 8.9308 - mse: 2.1948 - val_loss: 10.3544 - val_mse: 3.6520\n",
            "Epoch 87/200\n",
            "9/9 [==============================] - 0s 7ms/step - loss: 8.8444 - mse: 2.1705 - val_loss: 10.3068 - val_mse: 3.6761\n",
            "Epoch 88/200\n",
            "9/9 [==============================] - 0s 9ms/step - loss: 8.8158 - mse: 2.2124 - val_loss: 10.2194 - val_mse: 3.6542\n",
            "Epoch 89/200\n",
            "9/9 [==============================] - 0s 9ms/step - loss: 8.6707 - mse: 2.1380 - val_loss: 10.1486 - val_mse: 3.6542\n",
            "Epoch 90/200\n",
            "9/9 [==============================] - 0s 7ms/step - loss: 8.5851 - mse: 2.1154 - val_loss: 10.0453 - val_mse: 3.6153\n",
            "Epoch 91/200\n",
            "9/9 [==============================] - 0s 7ms/step - loss: 8.4912 - mse: 2.0951 - val_loss: 9.9279 - val_mse: 3.5679\n",
            "Epoch 92/200\n",
            "9/9 [==============================] - 0s 8ms/step - loss: 8.4173 - mse: 2.0855 - val_loss: 9.8853 - val_mse: 3.5893\n",
            "Epoch 93/200\n",
            "9/9 [==============================] - 0s 7ms/step - loss: 8.3322 - mse: 2.0591 - val_loss: 9.7841 - val_mse: 3.5503\n",
            "Epoch 94/200\n",
            "9/9 [==============================] - 0s 8ms/step - loss: 8.2620 - mse: 2.0634 - val_loss: 9.7381 - val_mse: 3.5780\n",
            "Epoch 95/200\n",
            "9/9 [==============================] - 0s 7ms/step - loss: 8.1832 - mse: 2.0453 - val_loss: 9.6477 - val_mse: 3.5431\n",
            "Epoch 96/200\n",
            "9/9 [==============================] - 0s 7ms/step - loss: 8.1498 - mse: 2.0756 - val_loss: 9.6102 - val_mse: 3.5728\n",
            "Epoch 97/200\n",
            "9/9 [==============================] - 0s 9ms/step - loss: 8.0053 - mse: 1.9971 - val_loss: 9.5034 - val_mse: 3.5281\n",
            "Epoch 98/200\n",
            "9/9 [==============================] - 0s 8ms/step - loss: 8.0860 - mse: 2.1354 - val_loss: 9.4303 - val_mse: 3.5179\n",
            "Epoch 99/200\n",
            "9/9 [==============================] - 0s 7ms/step - loss: 8.0665 - mse: 2.1844 - val_loss: 9.4781 - val_mse: 3.6257\n",
            "Epoch 100/200\n",
            "9/9 [==============================] - 0s 6ms/step - loss: 7.9054 - mse: 2.0795 - val_loss: 9.3946 - val_mse: 3.6138\n",
            "Epoch 101/200\n",
            "9/9 [==============================] - 0s 8ms/step - loss: 7.7527 - mse: 1.9973 - val_loss: 9.3169 - val_mse: 3.5879\n",
            "Epoch 102/200\n",
            "9/9 [==============================] - 0s 7ms/step - loss: 7.6797 - mse: 1.9753 - val_loss: 9.1796 - val_mse: 3.5043\n",
            "Epoch 103/200\n",
            "9/9 [==============================] - 0s 9ms/step - loss: 7.6578 - mse: 2.0109 - val_loss: 9.1876 - val_mse: 3.5836\n",
            "Epoch 104/200\n",
            "9/9 [==============================] - 0s 9ms/step - loss: 7.5398 - mse: 1.9574 - val_loss: 9.1526 - val_mse: 3.5944\n",
            "Epoch 105/200\n",
            "9/9 [==============================] - 0s 7ms/step - loss: 7.4184 - mse: 1.8867 - val_loss: 9.0065 - val_mse: 3.5096\n",
            "Epoch 106/200\n",
            "9/9 [==============================] - 0s 9ms/step - loss: 7.3393 - mse: 1.8653 - val_loss: 8.9716 - val_mse: 3.5256\n",
            "Epoch 107/200\n",
            "9/9 [==============================] - 0s 9ms/step - loss: 7.3300 - mse: 1.9112 - val_loss: 8.9354 - val_mse: 3.5472\n",
            "Epoch 108/200\n",
            "9/9 [==============================] - 0s 8ms/step - loss: 7.3014 - mse: 1.9327 - val_loss: 8.9302 - val_mse: 3.5995\n",
            "Epoch 109/200\n",
            "9/9 [==============================] - 0s 10ms/step - loss: 7.2331 - mse: 1.9268 - val_loss: 8.8665 - val_mse: 3.5873\n",
            "Epoch 110/200\n",
            "9/9 [==============================] - 0s 10ms/step - loss: 7.1303 - mse: 1.8769 - val_loss: 8.7116 - val_mse: 3.4850\n",
            "Epoch 111/200\n",
            "9/9 [==============================] - 0s 10ms/step - loss: 7.0771 - mse: 1.8712 - val_loss: 8.6884 - val_mse: 3.5120\n",
            "Epoch 112/200\n",
            "9/9 [==============================] - 0s 11ms/step - loss: 6.9883 - mse: 1.8383 - val_loss: 8.6490 - val_mse: 3.5299\n",
            "Epoch 113/200\n",
            "9/9 [==============================] - 0s 11ms/step - loss: 6.9243 - mse: 1.8286 - val_loss: 8.5814 - val_mse: 3.5141\n",
            "Epoch 114/200\n",
            "9/9 [==============================] - 0s 11ms/step - loss: 6.8490 - mse: 1.7972 - val_loss: 8.5773 - val_mse: 3.5532\n",
            "Epoch 115/200\n",
            "9/9 [==============================] - 0s 10ms/step - loss: 6.8395 - mse: 1.8392 - val_loss: 8.5106 - val_mse: 3.5412\n",
            "Epoch 116/200\n",
            "9/9 [==============================] - 0s 11ms/step - loss: 6.7588 - mse: 1.8114 - val_loss: 8.4895 - val_mse: 3.5693\n",
            "Epoch 117/200\n",
            "9/9 [==============================] - 0s 12ms/step - loss: 6.6803 - mse: 1.7789 - val_loss: 8.4831 - val_mse: 3.6134\n",
            "Epoch 118/200\n",
            "9/9 [==============================] - 0s 11ms/step - loss: 6.6704 - mse: 1.8249 - val_loss: 8.3827 - val_mse: 3.5597\n",
            "Epoch 119/200\n",
            "9/9 [==============================] - 0s 11ms/step - loss: 6.5533 - mse: 1.7488 - val_loss: 8.3593 - val_mse: 3.5859\n",
            "Epoch 120/200\n",
            "9/9 [==============================] - 0s 11ms/step - loss: 6.5851 - mse: 1.8321 - val_loss: 8.4739 - val_mse: 3.7423\n",
            "Epoch 121/200\n",
            "9/9 [==============================] - 0s 11ms/step - loss: 6.5717 - mse: 1.8628 - val_loss: 8.2783 - val_mse: 3.5909\n",
            "Epoch 122/200\n",
            "9/9 [==============================] - 0s 12ms/step - loss: 6.4094 - mse: 1.7436 - val_loss: 8.2101 - val_mse: 3.5787\n",
            "Epoch 123/200\n",
            "9/9 [==============================] - 0s 12ms/step - loss: 6.3534 - mse: 1.7405 - val_loss: 8.2281 - val_mse: 3.6366\n",
            "Epoch 124/200\n",
            "9/9 [==============================] - 0s 9ms/step - loss: 6.2605 - mse: 1.6898 - val_loss: 8.1380 - val_mse: 3.5911\n",
            "Epoch 125/200\n",
            "9/9 [==============================] - 0s 10ms/step - loss: 6.2344 - mse: 1.7062 - val_loss: 8.0610 - val_mse: 3.5578\n",
            "Epoch 126/200\n",
            "9/9 [==============================] - 0s 11ms/step - loss: 6.1890 - mse: 1.7039 - val_loss: 8.0421 - val_mse: 3.5809\n",
            "Epoch 127/200\n",
            "9/9 [==============================] - 0s 11ms/step - loss: 6.1116 - mse: 1.6707 - val_loss: 8.1146 - val_mse: 3.7020\n",
            "Epoch 128/200\n",
            "9/9 [==============================] - 0s 10ms/step - loss: 6.0977 - mse: 1.6987 - val_loss: 8.0252 - val_mse: 3.6501\n",
            "Epoch 129/200\n",
            "9/9 [==============================] - 0s 10ms/step - loss: 6.0676 - mse: 1.7101 - val_loss: 7.9425 - val_mse: 3.6114\n",
            "Epoch 130/200\n",
            "9/9 [==============================] - 0s 11ms/step - loss: 5.9983 - mse: 1.6838 - val_loss: 7.8391 - val_mse: 3.5444\n",
            "Epoch 131/200\n",
            "9/9 [==============================] - 0s 11ms/step - loss: 5.9444 - mse: 1.6686 - val_loss: 7.9175 - val_mse: 3.6716\n",
            "Epoch 132/200\n",
            "9/9 [==============================] - 0s 9ms/step - loss: 5.9132 - mse: 1.6838 - val_loss: 7.7750 - val_mse: 3.5661\n",
            "Epoch 133/200\n",
            "9/9 [==============================] - 0s 11ms/step - loss: 5.8482 - mse: 1.6538 - val_loss: 7.8722 - val_mse: 3.7054\n",
            "Epoch 134/200\n",
            "9/9 [==============================] - 0s 14ms/step - loss: 5.8258 - mse: 1.6744 - val_loss: 7.7843 - val_mse: 3.6525\n",
            "Epoch 135/200\n",
            "9/9 [==============================] - 0s 12ms/step - loss: 5.7511 - mse: 1.6383 - val_loss: 7.7093 - val_mse: 3.6163\n",
            "Epoch 136/200\n",
            "9/9 [==============================] - 0s 12ms/step - loss: 5.7574 - mse: 1.6849 - val_loss: 7.7765 - val_mse: 3.7319\n",
            "Epoch 137/200\n",
            "9/9 [==============================] - 0s 10ms/step - loss: 5.6588 - mse: 1.6268 - val_loss: 7.7411 - val_mse: 3.7210\n",
            "Epoch 138/200\n",
            "9/9 [==============================] - 0s 11ms/step - loss: 5.7744 - mse: 1.7756 - val_loss: 7.7332 - val_mse: 3.7665\n",
            "Epoch 139/200\n",
            "9/9 [==============================] - 0s 11ms/step - loss: 5.6066 - mse: 1.6502 - val_loss: 7.6116 - val_mse: 3.6690\n",
            "Epoch 140/200\n",
            "9/9 [==============================] - 0s 10ms/step - loss: 5.5517 - mse: 1.6306 - val_loss: 7.5152 - val_mse: 3.6129\n",
            "Epoch 141/200\n",
            "9/9 [==============================] - 0s 9ms/step - loss: 5.5454 - mse: 1.6558 - val_loss: 7.4723 - val_mse: 3.6087\n",
            "Epoch 142/200\n",
            "9/9 [==============================] - 0s 9ms/step - loss: 5.4720 - mse: 1.6261 - val_loss: 7.3965 - val_mse: 3.5721\n",
            "Epoch 143/200\n",
            "9/9 [==============================] - 0s 11ms/step - loss: 5.4453 - mse: 1.6331 - val_loss: 7.3530 - val_mse: 3.5555\n",
            "Epoch 144/200\n",
            "9/9 [==============================] - 0s 12ms/step - loss: 5.4807 - mse: 1.7004 - val_loss: 7.5169 - val_mse: 3.7601\n",
            "Epoch 145/200\n",
            "9/9 [==============================] - 0s 12ms/step - loss: 5.4384 - mse: 1.6922 - val_loss: 7.3362 - val_mse: 3.6134\n",
            "Epoch 146/200\n",
            "9/9 [==============================] - 0s 10ms/step - loss: 5.4660 - mse: 1.7602 - val_loss: 7.3012 - val_mse: 3.6109\n",
            "Epoch 147/200\n",
            "9/9 [==============================] - 0s 12ms/step - loss: 5.3854 - mse: 1.7068 - val_loss: 7.4168 - val_mse: 3.7547\n",
            "Epoch 148/200\n",
            "9/9 [==============================] - 0s 11ms/step - loss: 5.3047 - mse: 1.6631 - val_loss: 7.4134 - val_mse: 3.7941\n",
            "Epoch 149/200\n",
            "9/9 [==============================] - 0s 9ms/step - loss: 5.2656 - mse: 1.6520 - val_loss: 7.1365 - val_mse: 3.5395\n",
            "Epoch 150/200\n",
            "9/9 [==============================] - 0s 9ms/step - loss: 5.1847 - mse: 1.6084 - val_loss: 7.1723 - val_mse: 3.6150\n",
            "Epoch 151/200\n",
            "9/9 [==============================] - 0s 9ms/step - loss: 5.1999 - mse: 1.6544 - val_loss: 7.0761 - val_mse: 3.5442\n",
            "Epoch 152/200\n",
            "9/9 [==============================] - 0s 7ms/step - loss: 5.2493 - mse: 1.7318 - val_loss: 7.0895 - val_mse: 3.5894\n",
            "Epoch 153/200\n",
            "9/9 [==============================] - 0s 7ms/step - loss: 5.1008 - mse: 1.6157 - val_loss: 7.0699 - val_mse: 3.6099\n",
            "Epoch 154/200\n",
            "9/9 [==============================] - 0s 7ms/step - loss: 5.1669 - mse: 1.7172 - val_loss: 7.0016 - val_mse: 3.5651\n",
            "Epoch 155/200\n",
            "9/9 [==============================] - 0s 8ms/step - loss: 5.0365 - mse: 1.6163 - val_loss: 7.1821 - val_mse: 3.7731\n",
            "Epoch 156/200\n",
            "9/9 [==============================] - 0s 8ms/step - loss: 5.1517 - mse: 1.7552 - val_loss: 6.9835 - val_mse: 3.6109\n",
            "Epoch 157/200\n",
            "9/9 [==============================] - 0s 7ms/step - loss: 5.0519 - mse: 1.6905 - val_loss: 6.9252 - val_mse: 3.5844\n",
            "Epoch 158/200\n",
            "9/9 [==============================] - 0s 6ms/step - loss: 4.9979 - mse: 1.6677 - val_loss: 6.9568 - val_mse: 3.6361\n",
            "Epoch 159/200\n",
            "9/9 [==============================] - 0s 6ms/step - loss: 4.9676 - mse: 1.6664 - val_loss: 6.8183 - val_mse: 3.5348\n",
            "Epoch 160/200\n",
            "9/9 [==============================] - 0s 9ms/step - loss: 4.8663 - mse: 1.5880 - val_loss: 6.8197 - val_mse: 3.5548\n",
            "Epoch 161/200\n",
            "9/9 [==============================] - 0s 7ms/step - loss: 4.8240 - mse: 1.5776 - val_loss: 6.7687 - val_mse: 3.5360\n",
            "Epoch 162/200\n",
            "9/9 [==============================] - 0s 7ms/step - loss: 4.8886 - mse: 1.6710 - val_loss: 6.8599 - val_mse: 3.6605\n",
            "Epoch 163/200\n",
            "9/9 [==============================] - 0s 8ms/step - loss: 4.9064 - mse: 1.7068 - val_loss: 6.6078 - val_mse: 3.4251\n",
            "Epoch 164/200\n",
            "9/9 [==============================] - 0s 9ms/step - loss: 4.8611 - mse: 1.6982 - val_loss: 6.6654 - val_mse: 3.5177\n",
            "Epoch 165/200\n",
            "9/9 [==============================] - 0s 7ms/step - loss: 4.7685 - mse: 1.6299 - val_loss: 6.5553 - val_mse: 3.4264\n",
            "Epoch 166/200\n",
            "9/9 [==============================] - 0s 7ms/step - loss: 4.6646 - mse: 1.5496 - val_loss: 6.6269 - val_mse: 3.5242\n",
            "Epoch 167/200\n",
            "9/9 [==============================] - 0s 7ms/step - loss: 4.7055 - mse: 1.6164 - val_loss: 6.8001 - val_mse: 3.7324\n",
            "Epoch 168/200\n",
            "9/9 [==============================] - 0s 7ms/step - loss: 4.7652 - mse: 1.6979 - val_loss: 6.6334 - val_mse: 3.5783\n",
            "Epoch 169/200\n",
            "9/9 [==============================] - 0s 7ms/step - loss: 4.7252 - mse: 1.6838 - val_loss: 6.5392 - val_mse: 3.5108\n",
            "Epoch 170/200\n",
            "9/9 [==============================] - 0s 10ms/step - loss: 4.6772 - mse: 1.6619 - val_loss: 6.7088 - val_mse: 3.7138\n",
            "Epoch 171/200\n",
            "9/9 [==============================] - 0s 7ms/step - loss: 4.6327 - mse: 1.6434 - val_loss: 6.5112 - val_mse: 3.5270\n",
            "Epoch 172/200\n",
            "9/9 [==============================] - 0s 7ms/step - loss: 4.5030 - mse: 1.5302 - val_loss: 6.5031 - val_mse: 3.5469\n",
            "Epoch 173/200\n",
            "9/9 [==============================] - 0s 7ms/step - loss: 4.4481 - mse: 1.5008 - val_loss: 6.5120 - val_mse: 3.5785\n",
            "Epoch 174/200\n",
            "9/9 [==============================] - 0s 9ms/step - loss: 4.4546 - mse: 1.5362 - val_loss: 6.4228 - val_mse: 3.5195\n",
            "Epoch 175/200\n",
            "9/9 [==============================] - 0s 9ms/step - loss: 4.4679 - mse: 1.5690 - val_loss: 6.3803 - val_mse: 3.4874\n",
            "Epoch 176/200\n",
            "9/9 [==============================] - 0s 7ms/step - loss: 4.3624 - mse: 1.4824 - val_loss: 6.4551 - val_mse: 3.5910\n",
            "Epoch 177/200\n",
            "9/9 [==============================] - 0s 7ms/step - loss: 4.4055 - mse: 1.5494 - val_loss: 6.3004 - val_mse: 3.4596\n",
            "Epoch 178/200\n",
            "9/9 [==============================] - 0s 9ms/step - loss: 4.3667 - mse: 1.5310 - val_loss: 6.3095 - val_mse: 3.4849\n",
            "Epoch 179/200\n",
            "9/9 [==============================] - 0s 7ms/step - loss: 4.3767 - mse: 1.5650 - val_loss: 6.3214 - val_mse: 3.5188\n",
            "Epoch 180/200\n",
            "9/9 [==============================] - 0s 9ms/step - loss: 4.2939 - mse: 1.5067 - val_loss: 6.3253 - val_mse: 3.5539\n",
            "Epoch 181/200\n",
            "9/9 [==============================] - 0s 9ms/step - loss: 4.3433 - mse: 1.5720 - val_loss: 6.3476 - val_mse: 3.5835\n",
            "Epoch 182/200\n",
            "9/9 [==============================] - 0s 7ms/step - loss: 4.4010 - mse: 1.6545 - val_loss: 6.1460 - val_mse: 3.4082\n",
            "Epoch 183/200\n",
            "9/9 [==============================] - 0s 10ms/step - loss: 4.3655 - mse: 1.6320 - val_loss: 6.4092 - val_mse: 3.6963\n",
            "Epoch 184/200\n",
            "9/9 [==============================] - 0s 9ms/step - loss: 4.3640 - mse: 1.6604 - val_loss: 6.0221 - val_mse: 3.3287\n",
            "Epoch 185/200\n",
            "9/9 [==============================] - 0s 7ms/step - loss: 4.2455 - mse: 1.5607 - val_loss: 5.9934 - val_mse: 3.3204\n",
            "Epoch 186/200\n",
            "9/9 [==============================] - 0s 9ms/step - loss: 4.2764 - mse: 1.6115 - val_loss: 6.0479 - val_mse: 3.3862\n",
            "Epoch 187/200\n",
            "9/9 [==============================] - 0s 7ms/step - loss: 4.2656 - mse: 1.6139 - val_loss: 6.1192 - val_mse: 3.4840\n",
            "Epoch 188/200\n",
            "9/9 [==============================] - 0s 9ms/step - loss: 4.2466 - mse: 1.6256 - val_loss: 5.8710 - val_mse: 3.2564\n",
            "Epoch 189/200\n",
            "9/9 [==============================] - 0s 7ms/step - loss: 4.1861 - mse: 1.5754 - val_loss: 6.1210 - val_mse: 3.5218\n",
            "Epoch 190/200\n",
            "9/9 [==============================] - 0s 8ms/step - loss: 4.0872 - mse: 1.4942 - val_loss: 6.0609 - val_mse: 3.4786\n",
            "Epoch 191/200\n",
            "9/9 [==============================] - 0s 9ms/step - loss: 4.0740 - mse: 1.5040 - val_loss: 5.9376 - val_mse: 3.3792\n",
            "Epoch 192/200\n",
            "9/9 [==============================] - 0s 8ms/step - loss: 4.0812 - mse: 1.5234 - val_loss: 5.8966 - val_mse: 3.3451\n",
            "Epoch 193/200\n",
            "9/9 [==============================] - 0s 9ms/step - loss: 4.1074 - mse: 1.5716 - val_loss: 6.0321 - val_mse: 3.5070\n",
            "Epoch 194/200\n",
            "9/9 [==============================] - 0s 7ms/step - loss: 4.0387 - mse: 1.5203 - val_loss: 5.9601 - val_mse: 3.4541\n",
            "Epoch 195/200\n",
            "9/9 [==============================] - 0s 7ms/step - loss: 3.9721 - mse: 1.4713 - val_loss: 5.8625 - val_mse: 3.3690\n",
            "Epoch 196/200\n",
            "9/9 [==============================] - 0s 9ms/step - loss: 3.9717 - mse: 1.4878 - val_loss: 5.9601 - val_mse: 3.4924\n",
            "Epoch 197/200\n",
            "9/9 [==============================] - 0s 6ms/step - loss: 3.9991 - mse: 1.5315 - val_loss: 5.8367 - val_mse: 3.3765\n",
            "Epoch 198/200\n",
            "9/9 [==============================] - 0s 9ms/step - loss: 3.9006 - mse: 1.4519 - val_loss: 5.8701 - val_mse: 3.4358\n",
            "Epoch 199/200\n",
            "9/9 [==============================] - 0s 9ms/step - loss: 3.9785 - mse: 1.5453 - val_loss: 5.7901 - val_mse: 3.3675\n",
            "Epoch 200/200\n",
            "9/9 [==============================] - 0s 9ms/step - loss: 3.9003 - mse: 1.4828 - val_loss: 5.7930 - val_mse: 3.3823\n",
            "3/3 [==============================] - 0s 6ms/step - loss: 5.5835 - mse: 3.1729\n",
            "Test Loss: [5.5835490226745605, 3.172895669937134]\n",
            "3/3 [==============================] - 0s 5ms/step\n",
            "Predictions: [13.378413   11.020061   22.942669   16.606897   25.857655   25.250523\n",
            " -3.26343    19.742819    6.6901674   9.050153    2.3616486   9.570859\n",
            " 10.943755   21.603537   26.636335    3.9951627   4.817196    6.583639\n",
            "  5.7980123   2.9589996  26.366655   -2.3305948  21.139345    6.6715784\n",
            " 13.907155    6.6280284  15.611681   17.314981    3.8879657  12.494879\n",
            " 25.1859     29.46071     3.6507394  27.455267   27.42253    10.977463\n",
            " 10.105099   13.605127   22.453732   13.537442   23.385815    0.52733773\n",
            " 14.531619   13.924053    1.4139904  13.798324    0.16485634 23.517363\n",
            "  6.0164194  21.821827   24.634876   24.92885     5.4947343   5.1701307\n",
            " 25.245527   24.45228    24.058153   23.37003    12.15099    22.279913\n",
            "  2.2076952   2.8415654  20.530153   25.016302   11.510039    9.563822\n",
            " 20.671974   -1.5798514  10.020376    0.6094434  23.867508   22.801924\n",
            " 25.97354    25.420115    3.5557966   1.1426733  11.07931    26.240038\n",
            " 15.035593    8.878073   15.167699   10.852152    3.553902   16.010206\n",
            "  3.4105363  23.336771   26.54987    19.990534  ]\n",
            "Actual: date\n",
            "2021-05-10    11.95\n",
            "2020-11-04    10.55\n",
            "2021-07-31    20.30\n",
            "2021-04-30    14.75\n",
            "2021-07-11    23.35\n",
            "              ...  \n",
            "2020-10-14    14.70\n",
            "2021-01-02     6.40\n",
            "2020-09-11    21.10\n",
            "2020-09-04    25.00\n",
            "2020-10-23    18.90\n",
            "Name: TAVG, Length: 88, dtype: float64\n",
            "Mean Absolute Error: 1.4063919122246176\n"
          ]
        },
        {
          "output_type": "display_data",
          "data": {
            "text/plain": [
              "<Figure size 1000x600 with 1 Axes>"
            ],
            "image/png": "[encoded data removed]"
          },
          "metadata": {}
        }
      ],
      "source": [
        "df_train = scaled_df.drop(columns=['TAVG','TMIN','TMAX'], axis=1)\n",
        "model_features = df_train\n",
        "target = scaled_df['TAVG']\n",
        "\n",
        "# Splitting the data into training and testing sets\n",
        "X_train, X_test, y_train, y_test = train_test_split(model_features, target, test_size=0.2, random_state=42)\n",
        "\n",
        "scaler_x = StandardScaler()\n",
        "scale = scaler_x.fit_transform(X_train)\n",
        "X_train = pd.DataFrame(scale, columns=X_train.columns,index=X_train.index)\n",
        "\n",
        "\n",
        "scaler = StandardScaler()\n",
        "scale = scaler.fit_transform(X_test)\n",
        "X_test = pd.DataFrame(scale, columns=X_test.columns,index=X_test.index)\n",
        "l2_lambda = 0.1\n",
        "\n",
        "model = Sequential([\n",
        "    Dense(64, activation='elu', input_shape=(X_train.shape[1],),kernel_regularizer=l2(l2_lambda)),\n",
        "    Dense(64, activation='elu',kernel_regularizer=l2(l2_lambda)),\n",
        "    Dense(1)  # Output layer with one neuron and no activation for regression\n",
        "])\n",
        "\n",
        "early_stopping = EarlyStopping(monitor='val_loss', patience=10)\n",
        "\n",
        "optimizer=Adam(learning_rate = 0.001)\n",
        "model.compile(optimizer='adam', loss='mean_squared_error', metrics=['mse'])\n",
        "model.fit(X_train, y_train, epochs=200, batch_size=32, validation_split=0.2,callbacks=[early_stopping])\n",
        "\n",
        "\n",
        "loss = model.evaluate(X_test, y_test)\n",
        "\n",
        "print(f\"Test Loss: {loss}\")\n",
        "predictions = model.predict(X_test)\n",
        "print(f\"Predictions: {predictions[:,0]}\")\n",
        "print(f\"Actual: {y_test}\")\n",
        "mae = mean_absolute_error(y_test, predictions)\n",
        "print(f\"Mean Absolute Error: {mae}\")\n",
        "\n",
        "import matplotlib.pyplot as plt\n",
        "# Plotting y_test vs y_pred_rf to compare the actual and predicted values\n",
        "plt.figure(figsize=(10, 6))\n",
        "plt.scatter(y_test.reset_index().index, y_test.values, label='Actual', color='blue', marker='o')\n",
        "plt.scatter(y_test.reset_index().index, predictions, label='Predicted', color='red', marker='x')\n",
        "\n",
        "plt.title('Comparison of Actual and Predicted Average Temp per Day (Testing set)')\n",
        "plt.xlabel('Sample Index')\n",
        "plt.ylabel('Temp')\n",
        "plt.legend()\n",
        "plt.grid(True)\n",
        "plt.show()\n",
        "\n"
      ]
    },
    {
      "cell_type": "markdown",
      "metadata": {
        "id": "FYFAXu78_H0J"
      },
      "source": [
        "# Plot the model"
      ]
    },
    {
      "cell_type": "code",
      "execution_count": 15,
      "metadata": {
        "id": "-c9t6cs4_J22",
        "colab": {
          "base_uri": "https://localhost:8080/",
          "height": 422
        },
        "outputId": "aa126944-cfd1-438f-dafc-2f638c15c8c3"
      },
      "outputs": [
        {
          "output_type": "execute_result",
          "data": {
            "image/jpeg": "[encoded data removed]",
            "text/plain": [
              "<IPython.core.display.Image object>"
            ]
          },
          "metadata": {},
          "execution_count": 15
        }
      ],
      "source": [
        "from keras.utils import plot_model\n",
        "plot_model(model, to_file='model_plot.jpg', show_shapes=True, show_layer_names=True)"
      ]
    },
    {
      "cell_type": "markdown",
      "metadata": {
        "id": "EvZMLDi2-aJt"
      },
      "source": [
        "# data viz"
      ]
    },
    {
      "cell_type": "code",
      "execution_count": 16,
      "metadata": {
        "id": "L9ShX8vi-aJt",
        "colab": {
          "base_uri": "https://localhost:8080/",
          "height": 1000
        },
        "outputId": "c683c9b6-8086-4806-8e14-a206ca63146e"
      },
      "outputs": [
        {
          "output_type": "display_data",
          "data": {
            "text/plain": [
              "<Figure size 1500x500 with 4 Axes>"
            ],
            "image/png": "[encoded data removed]"
          },
          "metadata": {}
        },
        {
          "output_type": "execute_result",
          "data": {
            "text/plain": [
              "(datatype\n",
              " ADPT      0\n",
              " ASLP      0\n",
              " ASTP      0\n",
              " AWBT      0\n",
              " AWND      0\n",
              " PRCP      0\n",
              " RHAV      0\n",
              " RHMN      0\n",
              " RHMX      0\n",
              " SNOW      0\n",
              " SNWD      0\n",
              " TMAX      0\n",
              " TMIN      0\n",
              " WDF2      0\n",
              " WDF5      0\n",
              " WSF2      0\n",
              " WSF5      0\n",
              " WT01      0\n",
              " WT02      0\n",
              " WT03      0\n",
              " WT04      0\n",
              " WT06      0\n",
              " WT08      0\n",
              " TAVG      0\n",
              " TAVG_1    0\n",
              " dtype: int64,\n",
              " datatype        ADPT          ASLP          ASTP        AWBT        AWND\n",
              " count     440.000000    440.000000    440.000000  440.000000  440.000000\n",
              " mean       63.620455  10102.520455  10052.993182  103.868182    2.256136\n",
              " std       102.371934    840.788262    836.690853   84.630112    1.073732\n",
              " min      -194.000000      0.000000      0.000000  -89.000000    0.400000\n",
              " 25%       -17.000000  10125.000000  10077.250000   37.500000    1.400000\n",
              " 50%        67.000000  10166.000000  10119.000000  111.000000    2.100000\n",
              " 75%       156.000000  10217.000000  10169.000000  178.000000    2.900000\n",
              " max       228.000000  10332.000000  10281.000000  239.000000    6.400000,\n",
              " datatype      ADPT      ASLP      ASTP      AWBT      AWND\n",
              " datatype                                                  \n",
              " ADPT      1.000000  0.034691  0.036991  0.978424 -0.559295\n",
              " ASLP      0.034691  1.000000  0.999972  0.088136 -0.057351\n",
              " ASTP      0.036991  0.999972  1.000000  0.090544 -0.059530\n",
              " AWBT      0.978424  0.088136  0.090544  1.000000 -0.562112\n",
              " AWND     -0.559295 -0.057351 -0.059530 -0.562112  1.000000)"
            ]
          },
          "metadata": {},
          "execution_count": 16
        }
      ],
      "source": [
        "# Plot purpose\n",
        "df_combine = df_combine.drop(df_combine.columns[25:],axis=1)\n",
        "# Check for missing values\n",
        "missing_values = df_combine.isnull().sum()\n",
        "\n",
        "# Summary statistics for numerical features\n",
        "summary_stats = df_combine.describe()\n",
        "\n",
        "# Correlation matrix\n",
        "corr_matrix = df_combine.corr()\n",
        "\n",
        "# Plotting the distribution of the first few numerical features\n",
        "plt.figure(figsize=(15, 5))\n",
        "for i, column in enumerate(df_combine.columns[1:5], 1):  # Skip the date column\n",
        "    plt.subplot(1, 4, i)\n",
        "    sns.histplot(df_combine[column], kde=True)\n",
        "    plt.title(f'Distribution of {column}')\n",
        "\n",
        "plt.tight_layout()\n",
        "plt.show()\n",
        "\n",
        "missing_values, summary_stats.iloc[:, :5], corr_matrix.iloc[:5, :5]  # Displaying a subset for clarity\n"
      ]
    },
    {
      "cell_type": "markdown",
      "metadata": {
        "id": "6T1NHL19-aJt"
      },
      "source": [
        "# Check the correlation"
      ]
    },
    {
      "cell_type": "code",
      "execution_count": 17,
      "metadata": {
        "id": "RM8nNPR_-aJt",
        "colab": {
          "base_uri": "https://localhost:8080/",
          "height": 1000
        },
        "outputId": "4c17b82a-7bd0-4ee1-fb75-0535e034a709"
      },
      "outputs": [
        {
          "output_type": "display_data",
          "data": {
            "text/plain": [
              "<Figure size 1500x1500 with 2 Axes>"
            ],
            "image/png": "[encoded data removed]"
          },
          "metadata": {}
        }
      ],
      "source": [
        "# Plotting the correlation matrix heatmap\n",
        "plt.figure(figsize=(15, 15))\n",
        "sns.heatmap(corr_matrix, annot=False, cmap='coolwarm', linewidths=.5)\n",
        "plt.title('Correlation Matrix Heatmap')\n",
        "plt.show()\n"
      ]
    },
    {
      "cell_type": "markdown",
      "metadata": {
        "id": "ezFOvfjx-aJu"
      },
      "source": [
        "# Detect highly correlated"
      ]
    },
    {
      "cell_type": "code",
      "execution_count": 18,
      "metadata": {
        "id": "p2PhZIDa-aJu",
        "colab": {
          "base_uri": "https://localhost:8080/",
          "height": 551
        },
        "outputId": "0cf5e6a5-ff35-4213-8698-e6c403179ab9"
      },
      "outputs": [
        {
          "output_type": "execute_result",
          "data": {
            "text/plain": [
              "   Feature 1 Feature 2  Correlation\n",
              "0       ASTP      ASLP     0.999972\n",
              "10      TAVG      TMAX     0.989460\n",
              "11      TAVG      TMIN     0.987225\n",
              "1       AWBT      ADPT     0.978424\n",
              "5       TMIN      AWBT     0.961555\n",
              "9       TAVG      AWBT     0.956365\n",
              "6       TMIN      TMAX     0.953747\n",
              "14    TAVG_1      TMIN     0.937776\n",
              "15    TAVG_1      TAVG     0.937266\n",
              "3       TMAX      AWBT     0.930464\n",
              "4       TMIN      ADPT     0.924003\n",
              "13    TAVG_1      TMAX     0.916041\n",
              "2       RHMN      RHAV     0.914911\n",
              "7       WSF5      WSF2     0.909691\n",
              "8       TAVG      ADPT     0.905521\n",
              "12    TAVG_1      AWBT     0.905286"
            ],
            "text/html": [
              "\n",
              "  <div id=\"df-fcbbefa1-3d67-4b0f-ac60-cb1cc25ca94b\" class=\"colab-df-container\">\n",
              "    <div>\n",
              "<style scoped>\n",
              "    .dataframe tbody tr th:only-of-type {\n",
              "        vertical-align: middle;\n",
              "    }\n",
              "\n",
              "    .dataframe tbody tr th {\n",
              "        vertical-align: top;\n",
              "    }\n",
              "\n",
              "    .dataframe thead th {\n",
              "        text-align: right;\n",
              "    }\n",
              "</style>\n",
              "<table border=\"1\" class=\"dataframe\">\n",
              "  <thead>\n",
              "    <tr style=\"text-align: right;\">\n",
              "      <th></th>\n",
              "      <th>Feature 1</th>\n",
              "      <th>Feature 2</th>\n",
              "      <th>Correlation</th>\n",
              "    </tr>\n",
              "  </thead>\n",
              "  <tbody>\n",
              "    <tr>\n",
              "      <th>0</th>\n",
              "      <td>ASTP</td>\n",
              "      <td>ASLP</td>\n",
              "      <td>0.999972</td>\n",
              "    </tr>\n",
              "    <tr>\n",
              "      <th>10</th>\n",
              "      <td>TAVG</td>\n",
              "      <td>TMAX</td>\n",
              "      <td>0.989460</td>\n",
              "    </tr>\n",
              "    <tr>\n",
              "      <th>11</th>\n",
              "      <td>TAVG</td>\n",
              "      <td>TMIN</td>\n",
              "      <td>0.987225</td>\n",
              "    </tr>\n",
              "    <tr>\n",
              "      <th>1</th>\n",
              "      <td>AWBT</td>\n",
              "      <td>ADPT</td>\n",
              "      <td>0.978424</td>\n",
              "    </tr>\n",
              "    <tr>\n",
              "      <th>5</th>\n",
              "      <td>TMIN</td>\n",
              "      <td>AWBT</td>\n",
              "      <td>0.961555</td>\n",
              "    </tr>\n",
              "    <tr>\n",
              "      <th>9</th>\n",
              "      <td>TAVG</td>\n",
              "      <td>AWBT</td>\n",
              "      <td>0.956365</td>\n",
              "    </tr>\n",
              "    <tr>\n",
              "      <th>6</th>\n",
              "      <td>TMIN</td>\n",
              "      <td>TMAX</td>\n",
              "      <td>0.953747</td>\n",
              "    </tr>\n",
              "    <tr>\n",
              "      <th>14</th>\n",
              "      <td>TAVG_1</td>\n",
              "      <td>TMIN</td>\n",
              "      <td>0.937776</td>\n",
              "    </tr>\n",
              "    <tr>\n",
              "      <th>15</th>\n",
              "      <td>TAVG_1</td>\n",
              "      <td>TAVG</td>\n",
              "      <td>0.937266</td>\n",
              "    </tr>\n",
              "    <tr>\n",
              "      <th>3</th>\n",
              "      <td>TMAX</td>\n",
              "      <td>AWBT</td>\n",
              "      <td>0.930464</td>\n",
              "    </tr>\n",
              "    <tr>\n",
              "      <th>4</th>\n",
              "      <td>TMIN</td>\n",
              "      <td>ADPT</td>\n",
              "      <td>0.924003</td>\n",
              "    </tr>\n",
              "    <tr>\n",
              "      <th>13</th>\n",
              "      <td>TAVG_1</td>\n",
              "      <td>TMAX</td>\n",
              "      <td>0.916041</td>\n",
              "    </tr>\n",
              "    <tr>\n",
              "      <th>2</th>\n",
              "      <td>RHMN</td>\n",
              "      <td>RHAV</td>\n",
              "      <td>0.914911</td>\n",
              "    </tr>\n",
              "    <tr>\n",
              "      <th>7</th>\n",
              "      <td>WSF5</td>\n",
              "      <td>WSF2</td>\n",
              "      <td>0.909691</td>\n",
              "    </tr>\n",
              "    <tr>\n",
              "      <th>8</th>\n",
              "      <td>TAVG</td>\n",
              "      <td>ADPT</td>\n",
              "      <td>0.905521</td>\n",
              "    </tr>\n",
              "    <tr>\n",
              "      <th>12</th>\n",
              "      <td>TAVG_1</td>\n",
              "      <td>AWBT</td>\n",
              "      <td>0.905286</td>\n",
              "    </tr>\n",
              "  </tbody>\n",
              "</table>\n",
              "</div>\n",
              "    <div class=\"colab-df-buttons\">\n",
              "\n",
              "  <div class=\"colab-df-container\">\n",
              "    <button class=\"colab-df-convert\" onclick=\"convertToInteractive('df-fcbbefa1-3d67-4b0f-ac60-cb1cc25ca94b')\"\n",
              "            title=\"Convert this dataframe to an interactive table.\"\n",
              "            style=\"display:none;\">\n",
              "\n",
              "  <svg xmlns=\"http://www.w3.org/2000/svg\" height=\"24px\" viewBox=\"0 -960 960 960\">\n",
              "    <path d=\"M120-120v-720h720v720H120Zm60-500h600v-160H180v160Zm220 220h160v-160H400v160Zm0 220h160v-160H400v160ZM180-400h160v-160H180v160Zm440 0h160v-160H620v160ZM180-180h160v-160H180v160Zm440 0h160v-160H620v160Z\"/>\n",
              "  </svg>\n",
              "    </button>\n",
              "\n",
              "  <style>\n",
              "    .colab-df-container {\n",
              "      display:flex;\n",
              "      gap: 12px;\n",
              "    }\n",
              "\n",
              "    .colab-df-convert {\n",
              "      background-color: #E8F0FE;\n",
              "      border: none;\n",
              "      border-radius: 50%;\n",
              "      cursor: pointer;\n",
              "      display: none;\n",
              "      fill: #1967D2;\n",
              "      height: 32px;\n",
              "      padding: 0 0 0 0;\n",
              "      width: 32px;\n",
              "    }\n",
              "\n",
              "    .colab-df-convert:hover {\n",
              "      background-color: #E2EBFA;\n",
              "      box-shadow: 0px 1px 2px rgba(60, 64, 67, 0.3), 0px 1px 3px 1px rgba(60, 64, 67, 0.15);\n",
              "      fill: #174EA6;\n",
              "    }\n",
              "\n",
              "    .colab-df-buttons div {\n",
              "      margin-bottom: 4px;\n",
              "    }\n",
              "\n",
              "    [theme=dark] .colab-df-convert {\n",
              "      background-color: #3B4455;\n",
              "      fill: #D2E3FC;\n",
              "    }\n",
              "\n",
              "    [theme=dark] .colab-df-convert:hover {\n",
              "      background-color: #434B5C;\n",
              "      box-shadow: 0px 1px 3px 1px rgba(0, 0, 0, 0.15);\n",
              "      filter: drop-shadow(0px 1px 2px rgba(0, 0, 0, 0.3));\n",
              "      fill: #FFFFFF;\n",
              "    }\n",
              "  </style>\n",
              "\n",
              "    <script>\n",
              "      const buttonEl =\n",
              "        document.querySelector('#df-fcbbefa1-3d67-4b0f-ac60-cb1cc25ca94b button.colab-df-convert');\n",
              "      buttonEl.style.display =\n",
              "        google.colab.kernel.accessAllowed ? 'block' : 'none';\n",
              "\n",
              "      async function convertToInteractive(key) {\n",
              "        const element = document.querySelector('#df-fcbbefa1-3d67-4b0f-ac60-cb1cc25ca94b');\n",
              "        const dataTable =\n",
              "          await google.colab.kernel.invokeFunction('convertToInteractive',\n",
              "                                                    [key], {});\n",
              "        if (!dataTable) return;\n",
              "\n",
              "        const docLinkHtml = 'Like what you see? Visit the ' +\n",
              "          '<a target=\"_blank\" href=https://colab.research.google.com/notebooks/data_table.ipynb>data table notebook</a>'\n",
              "          + ' to learn more about interactive tables.';\n",
              "        element.innerHTML = '';\n",
              "        dataTable['output_type'] = 'display_data';\n",
              "        await google.colab.output.renderOutput(dataTable, element);\n",
              "        const docLink = document.createElement('div');\n",
              "        docLink.innerHTML = docLinkHtml;\n",
              "        element.appendChild(docLink);\n",
              "      }\n",
              "    </script>\n",
              "  </div>\n",
              "\n",
              "\n",
              "<div id=\"df-3683a704-1682-4b5e-9e65-074ab5fb56ab\">\n",
              "  <button class=\"colab-df-quickchart\" onclick=\"quickchart('df-3683a704-1682-4b5e-9e65-074ab5fb56ab')\"\n",
              "            title=\"Suggest charts\"\n",
              "            style=\"display:none;\">\n",
              "\n",
              "<svg xmlns=\"http://www.w3.org/2000/svg\" height=\"24px\"viewBox=\"0 0 24 24\"\n",
              "     width=\"24px\">\n",
              "    <g>\n",
              "        <path d=\"M19 3H5c-1.1 0-2 .9-2 2v14c0 1.1.9 2 2 2h14c1.1 0 2-.9 2-2V5c0-1.1-.9-2-2-2zM9 17H7v-7h2v7zm4 0h-2V7h2v10zm4 0h-2v-4h2v4z\"/>\n",
              "    </g>\n",
              "</svg>\n",
              "  </button>\n",
              "\n",
              "<style>\n",
              "  .colab-df-quickchart {\n",
              "      --bg-color: #E8F0FE;\n",
              "      --fill-color: #1967D2;\n",
              "      --hover-bg-color: #E2EBFA;\n",
              "      --hover-fill-color: #174EA6;\n",
              "      --disabled-fill-color: #AAA;\n",
              "      --disabled-bg-color: #DDD;\n",
              "  }\n",
              "\n",
              "  [theme=dark] .colab-df-quickchart {\n",
              "      --bg-color: #3B4455;\n",
              "      --fill-color: #D2E3FC;\n",
              "      --hover-bg-color: #434B5C;\n",
              "      --hover-fill-color: #FFFFFF;\n",
              "      --disabled-bg-color: #3B4455;\n",
              "      --disabled-fill-color: #666;\n",
              "  }\n",
              "\n",
              "  .colab-df-quickchart {\n",
              "    background-color: var(--bg-color);\n",
              "    border: none;\n",
              "    border-radius: 50%;\n",
              "    cursor: pointer;\n",
              "    display: none;\n",
              "    fill: var(--fill-color);\n",
              "    height: 32px;\n",
              "    padding: 0;\n",
              "    width: 32px;\n",
              "  }\n",
              "\n",
              "  .colab-df-quickchart:hover {\n",
              "    background-color: var(--hover-bg-color);\n",
              "    box-shadow: 0 1px 2px rgba(60, 64, 67, 0.3), 0 1px 3px 1px rgba(60, 64, 67, 0.15);\n",
              "    fill: var(--button-hover-fill-color);\n",
              "  }\n",
              "\n",
              "  .colab-df-quickchart-complete:disabled,\n",
              "  .colab-df-quickchart-complete:disabled:hover {\n",
              "    background-color: var(--disabled-bg-color);\n",
              "    fill: var(--disabled-fill-color);\n",
              "    box-shadow: none;\n",
              "  }\n",
              "\n",
              "  .colab-df-spinner {\n",
              "    border: 2px solid var(--fill-color);\n",
              "    border-color: transparent;\n",
              "    border-bottom-color: var(--fill-color);\n",
              "    animation:\n",
              "      spin 1s steps(1) infinite;\n",
              "  }\n",
              "\n",
              "  @keyframes spin {\n",
              "    0% {\n",
              "      border-color: transparent;\n",
              "      border-bottom-color: var(--fill-color);\n",
              "      border-left-color: var(--fill-color);\n",
              "    }\n",
              "    20% {\n",
              "      border-color: transparent;\n",
              "      border-left-color: var(--fill-color);\n",
              "      border-top-color: var(--fill-color);\n",
              "    }\n",
              "    30% {\n",
              "      border-color: transparent;\n",
              "      border-left-color: var(--fill-color);\n",
              "      border-top-color: var(--fill-color);\n",
              "      border-right-color: var(--fill-color);\n",
              "    }\n",
              "    40% {\n",
              "      border-color: transparent;\n",
              "      border-right-color: var(--fill-color);\n",
              "      border-top-color: var(--fill-color);\n",
              "    }\n",
              "    60% {\n",
              "      border-color: transparent;\n",
              "      border-right-color: var(--fill-color);\n",
              "    }\n",
              "    80% {\n",
              "      border-color: transparent;\n",
              "      border-right-color: var(--fill-color);\n",
              "      border-bottom-color: var(--fill-color);\n",
              "    }\n",
              "    90% {\n",
              "      border-color: transparent;\n",
              "      border-bottom-color: var(--fill-color);\n",
              "    }\n",
              "  }\n",
              "</style>\n",
              "\n",
              "  <script>\n",
              "    async function quickchart(key) {\n",
              "      const quickchartButtonEl =\n",
              "        document.querySelector('#' + key + ' button');\n",
              "      quickchartButtonEl.disabled = true;  // To prevent multiple clicks.\n",
              "      quickchartButtonEl.classList.add('colab-df-spinner');\n",
              "      try {\n",
              "        const charts = await google.colab.kernel.invokeFunction(\n",
              "            'suggestCharts', [key], {});\n",
              "      } catch (error) {\n",
              "        console.error('Error during call to suggestCharts:', error);\n",
              "      }\n",
              "      quickchartButtonEl.classList.remove('colab-df-spinner');\n",
              "      quickchartButtonEl.classList.add('colab-df-quickchart-complete');\n",
              "    }\n",
              "    (() => {\n",
              "      let quickchartButtonEl =\n",
              "        document.querySelector('#df-3683a704-1682-4b5e-9e65-074ab5fb56ab button');\n",
              "      quickchartButtonEl.style.display =\n",
              "        google.colab.kernel.accessAllowed ? 'block' : 'none';\n",
              "    })();\n",
              "  </script>\n",
              "</div>\n",
              "    </div>\n",
              "  </div>\n"
            ]
          },
          "metadata": {},
          "execution_count": 18
        }
      ],
      "source": [
        "# Identifying highly correlated pairs with a threshold of 0.9\n",
        "correlation_threshold = 0.9\n",
        "highly_correlated_pairs = []\n",
        "\n",
        "# Iterate over the correlation matrix\n",
        "for i in range(len(corr_matrix.columns)):\n",
        "    for j in range(i):\n",
        "        if abs(corr_matrix.iloc[i, j]) > correlation_threshold:\n",
        "            col_pair = (corr_matrix.columns[i], corr_matrix.columns[j], corr_matrix.iloc[i, j])\n",
        "            highly_correlated_pairs.append(col_pair)\n",
        "\n",
        "# Converting to a DataFrame for better readability\n",
        "highly_correlated_pairs_df = pd.DataFrame(highly_correlated_pairs, columns=['Feature 1', 'Feature 2', 'Correlation'])\n",
        "highly_correlated_pairs_df.sort_values(by='Correlation', ascending=False)\n"
      ]
    },
    {
      "cell_type": "markdown",
      "metadata": {
        "id": "nfOBb27D-aJu"
      },
      "source": [
        "# Create future data features"
      ]
    },
    {
      "cell_type": "code",
      "execution_count": 19,
      "metadata": {
        "id": "voHuqooK-aJu",
        "colab": {
          "base_uri": "https://localhost:8080/"
        },
        "outputId": "660d9b09-974a-46fc-c458-0fb797e84423"
      },
      "outputs": [
        {
          "output_type": "stream",
          "name": "stdout",
          "text": [
            "<class 'pandas.core.frame.DataFrame'>\n",
            "DatetimeIndex: 879 entries, 2021-08-14 to 2024-01-09\n",
            "Freq: D\n",
            "Data columns (total 60 columns):\n",
            " #   Column  Non-Null Count  Dtype \n",
            "---  ------  --------------  ----- \n",
            " 0   ADPT    0 non-null      object\n",
            " 1   ASLP    0 non-null      object\n",
            " 2   ASTP    0 non-null      object\n",
            " 3   AWBT    0 non-null      object\n",
            " 4   AWND    0 non-null      object\n",
            " 5   PRCP    0 non-null      object\n",
            " 6   RHAV    0 non-null      object\n",
            " 7   RHMN    0 non-null      object\n",
            " 8   RHMX    0 non-null      object\n",
            " 9   SNOW    0 non-null      object\n",
            " 10  SNWD    0 non-null      object\n",
            " 11  TMAX    0 non-null      object\n",
            " 12  TMIN    0 non-null      object\n",
            " 13  WDF2    0 non-null      object\n",
            " 14  WDF5    0 non-null      object\n",
            " 15  WSF2    0 non-null      object\n",
            " 16  WSF5    0 non-null      object\n",
            " 17  WT01    0 non-null      object\n",
            " 18  WT02    0 non-null      object\n",
            " 19  WT03    0 non-null      object\n",
            " 20  WT04    0 non-null      object\n",
            " 21  WT06    0 non-null      object\n",
            " 22  WT08    0 non-null      object\n",
            " 23  TAVG    0 non-null      object\n",
            " 24  TAVG_1  0 non-null      object\n",
            " 25  TAVG_2  0 non-null      object\n",
            " 26  TAVG_3  0 non-null      object\n",
            " 27  TMAX_1  0 non-null      object\n",
            " 28  TMAX_2  0 non-null      object\n",
            " 29  TMAX_3  0 non-null      object\n",
            " 30  TMIN_1  0 non-null      object\n",
            " 31  TMIN_2  0 non-null      object\n",
            " 32  TMIN_3  0 non-null      object\n",
            " 33  PRCP_1  0 non-null      object\n",
            " 34  PRCP_2  0 non-null      object\n",
            " 35  PRCP_3  0 non-null      object\n",
            " 36  SNOW_1  0 non-null      object\n",
            " 37  SNOW_2  0 non-null      object\n",
            " 38  SNOW_3  0 non-null      object\n",
            " 39  AWND_1  0 non-null      object\n",
            " 40  AWND_2  0 non-null      object\n",
            " 41  AWND_3  0 non-null      object\n",
            " 42  RHAV_1  0 non-null      object\n",
            " 43  RHAV_2  0 non-null      object\n",
            " 44  RHAV_3  0 non-null      object\n",
            " 45  RHMN_1  0 non-null      object\n",
            " 46  RHMN_2  0 non-null      object\n",
            " 47  RHMN_3  0 non-null      object\n",
            " 48  RHMX_1  0 non-null      object\n",
            " 49  RHMX_2  0 non-null      object\n",
            " 50  RHMX_3  0 non-null      object\n",
            " 51  ADPT_1  0 non-null      object\n",
            " 52  ADPT_2  0 non-null      object\n",
            " 53  ADPT_3  0 non-null      object\n",
            " 54  ASLP_1  0 non-null      object\n",
            " 55  ASLP_2  0 non-null      object\n",
            " 56  ASLP_3  0 non-null      object\n",
            " 57  ASTP_1  0 non-null      object\n",
            " 58  ASTP_2  0 non-null      object\n",
            " 59  ASTP_3  0 non-null      object\n",
            "dtypes: object(60)\n",
            "memory usage: 418.9+ KB\n"
          ]
        }
      ],
      "source": [
        "from pandas.tseries.offsets import DateOffset\n",
        "\n",
        "# Get the last date in the dataset\n",
        "last_date = scaled_df.index[-80]\n",
        "\n",
        "# Calculate the date 30 days after today\n",
        "today = pd.Timestamp.now().normalize()\n",
        "thirty_days_after_today = today + DateOffset(days=30)\n",
        "\n",
        "# Create a date range from the last date in the dataset to 30 days after today\n",
        "extended_dates = pd.date_range(start=last_date + DateOffset(days=1), end=thirty_days_after_today)\n",
        "\n",
        "# Create a dataframe with these new dates and NaN values for the columns\n",
        "extended_data = pd.DataFrame(index=extended_dates, columns=scaled_df.columns)\n",
        "\n",
        "# # Remove the target feature\n",
        "# extended_data = extended_data.drop(columns=['TAVG'])\n",
        "\n",
        "# Display the last few rows to verify the extension\n",
        "extended_data.info()\n"
      ]
    },
    {
      "cell_type": "markdown",
      "metadata": {
        "id": "KDtvscVz-aJv"
      },
      "source": [
        "# add features int terms of the previous data"
      ]
    },
    {
      "cell_type": "code",
      "execution_count": 20,
      "metadata": {
        "id": "v3ShKJtn-aJv"
      },
      "outputs": [],
      "source": [
        "for date in extended_data.index:\n",
        "    if date in scaled_df.index:\n",
        "        extended_data.loc[date] = scaled_df.loc[date]\n",
        "def impute_missing_pred(row, avg_values):\n",
        "    for col in scaled_df.columns:\n",
        "        if pd.isna(row[col]):\n",
        "            month_day = (row.name.month, row.name.day)\n",
        "            row[col] = avg_values.loc[month_day, col]\n",
        "    return row\n",
        "average_values_pred = scaled_df.groupby([scaled_df.index.month, scaled_df.index.day]).mean()\n",
        "\n",
        "extended_data = extended_data.apply(impute_missing_pred, axis=1, args=(average_values_pred,))\n",
        "scaled_df_pred = extended_data"
      ]
    },
    {
      "cell_type": "code",
      "execution_count": 21,
      "metadata": {
        "id": "LLbjd23G80gj",
        "colab": {
          "base_uri": "https://localhost:8080/"
        },
        "outputId": "cb7399cc-16d4-4e64-c331-1e248f111b46"
      },
      "outputs": [
        {
          "output_type": "stream",
          "name": "stdout",
          "text": [
            "<class 'pandas.core.frame.DataFrame'>\n",
            "DatetimeIndex: 879 entries, 2021-08-14 to 2024-01-09\n",
            "Freq: D\n",
            "Data columns (total 60 columns):\n",
            " #   Column  Non-Null Count  Dtype  \n",
            "---  ------  --------------  -----  \n",
            " 0   ADPT    879 non-null    float64\n",
            " 1   ASLP    879 non-null    float64\n",
            " 2   ASTP    879 non-null    float64\n",
            " 3   AWBT    879 non-null    float64\n",
            " 4   AWND    879 non-null    float64\n",
            " 5   PRCP    879 non-null    float64\n",
            " 6   RHAV    879 non-null    float64\n",
            " 7   RHMN    879 non-null    float64\n",
            " 8   RHMX    879 non-null    float64\n",
            " 9   SNOW    879 non-null    float64\n",
            " 10  SNWD    879 non-null    float64\n",
            " 11  TMAX    879 non-null    float64\n",
            " 12  TMIN    879 non-null    float64\n",
            " 13  WDF2    879 non-null    float64\n",
            " 14  WDF5    879 non-null    float64\n",
            " 15  WSF2    879 non-null    float64\n",
            " 16  WSF5    879 non-null    float64\n",
            " 17  WT01    879 non-null    float64\n",
            " 18  WT02    879 non-null    float64\n",
            " 19  WT03    879 non-null    float64\n",
            " 20  WT04    879 non-null    float64\n",
            " 21  WT06    879 non-null    float64\n",
            " 22  WT08    879 non-null    float64\n",
            " 23  TAVG    879 non-null    float64\n",
            " 24  TAVG_1  879 non-null    float64\n",
            " 25  TAVG_2  879 non-null    float64\n",
            " 26  TAVG_3  879 non-null    float64\n",
            " 27  TMAX_1  879 non-null    float64\n",
            " 28  TMAX_2  879 non-null    float64\n",
            " 29  TMAX_3  879 non-null    float64\n",
            " 30  TMIN_1  879 non-null    float64\n",
            " 31  TMIN_2  879 non-null    float64\n",
            " 32  TMIN_3  879 non-null    float64\n",
            " 33  PRCP_1  879 non-null    float64\n",
            " 34  PRCP_2  879 non-null    float64\n",
            " 35  PRCP_3  879 non-null    float64\n",
            " 36  SNOW_1  879 non-null    float64\n",
            " 37  SNOW_2  879 non-null    float64\n",
            " 38  SNOW_3  879 non-null    float64\n",
            " 39  AWND_1  879 non-null    float64\n",
            " 40  AWND_2  879 non-null    float64\n",
            " 41  AWND_3  879 non-null    float64\n",
            " 42  RHAV_1  879 non-null    float64\n",
            " 43  RHAV_2  879 non-null    float64\n",
            " 44  RHAV_3  879 non-null    float64\n",
            " 45  RHMN_1  879 non-null    float64\n",
            " 46  RHMN_2  879 non-null    float64\n",
            " 47  RHMN_3  879 non-null    float64\n",
            " 48  RHMX_1  879 non-null    float64\n",
            " 49  RHMX_2  879 non-null    float64\n",
            " 50  RHMX_3  879 non-null    float64\n",
            " 51  ADPT_1  879 non-null    float64\n",
            " 52  ADPT_2  879 non-null    float64\n",
            " 53  ADPT_3  879 non-null    float64\n",
            " 54  ASLP_1  879 non-null    float64\n",
            " 55  ASLP_2  879 non-null    float64\n",
            " 56  ASLP_3  879 non-null    float64\n",
            " 57  ASTP_1  879 non-null    float64\n",
            " 58  ASTP_2  879 non-null    float64\n",
            " 59  ASTP_3  879 non-null    float64\n",
            "dtypes: float64(60)\n",
            "memory usage: 451.2 KB\n"
          ]
        }
      ],
      "source": [
        "scaled_df_pred.info()"
      ]
    },
    {
      "cell_type": "markdown",
      "metadata": {
        "id": "9dj3ZqSe-aJv"
      },
      "source": [
        "# Generate the prediction"
      ]
    },
    {
      "cell_type": "code",
      "execution_count": 22,
      "metadata": {
        "id": "QXPaMv48-aJv",
        "colab": {
          "base_uri": "https://localhost:8080/"
        },
        "outputId": "cc7e04fe-9485-43c3-943f-6c022003328d"
      },
      "outputs": [
        {
          "output_type": "stream",
          "name": "stdout",
          "text": [
            "28/28 [==============================] - 0s 3ms/step\n"
          ]
        }
      ],
      "source": [
        "scaled_df_pred = scaled_df_pred.drop(columns=['TAVG','TMIN','TMAX'], axis=1)\n",
        "mock_data_normalized = scaler.transform(scaled_df_pred)\n",
        "predictions_predictions = model.predict(mock_data_normalized)"
      ]
    },
    {
      "cell_type": "markdown",
      "metadata": {
        "id": "XzyDhqf5-aJv"
      },
      "source": [
        "# Final Graph"
      ]
    },
    {
      "cell_type": "code",
      "execution_count": 23,
      "metadata": {
        "id": "1DWAvkUL-aJv",
        "colab": {
          "base_uri": "https://localhost:8080/",
          "height": 542
        },
        "outputId": "509d863a-739b-4b1e-8ab6-af359610a5a2"
      },
      "outputs": [
        {
          "output_type": "display_data",
          "data": {
            "application/vnd.plotly.v1+json": {
              "data": [
                {
                  "mode": "lines",
                  "name": "Actual",
                  "x": [
                    "2020-08-18T00:00:00",
                    "2020-08-19T00:00:00",
                    "2020-08-20T00:00:00",
                    "2020-08-21T00:00:00",
                    "2020-08-22T00:00:00",
                    "2020-08-23T00:00:00",
                    "2020-08-24T00:00:00",
                    "2020-08-25T00:00:00",
                    "2020-08-26T00:00:00",
                    "2020-08-27T00:00:00",
                    "2020-08-28T00:00:00",
                    "2020-08-29T00:00:00",
                    "2020-08-30T00:00:00",
                    "2020-08-31T00:00:00",
                    "2020-09-01T00:00:00",
                    "2020-09-02T00:00:00",
                    "2020-09-03T00:00:00",
                    "2020-09-04T00:00:00",
                    "2020-09-05T00:00:00",
                    "2020-09-06T00:00:00",
                    "2020-09-07T00:00:00",
                    "2020-09-08T00:00:00",
                    "2020-09-09T00:00:00",
                    "2020-09-10T00:00:00",
                    "2020-09-11T00:00:00",
                    "2020-09-12T00:00:00",
                    "2020-09-13T00:00:00",
                    "2020-09-14T00:00:00",
                    "2020-09-15T00:00:00",
                    "2020-09-16T00:00:00",
                    "2020-09-17T00:00:00",
                    "2020-09-18T00:00:00",
                    "2020-09-19T00:00:00",
                    "2020-09-20T00:00:00",
                    "2020-09-21T00:00:00",
                    "2020-09-22T00:00:00",
                    "2020-09-23T00:00:00",
                    "2020-09-24T00:00:00",
                    "2020-09-25T00:00:00",
                    "2020-09-26T00:00:00",
                    "2020-09-27T00:00:00",
                    "2020-09-28T00:00:00",
                    "2020-09-29T00:00:00",
                    "2020-09-30T00:00:00",
                    "2020-10-01T00:00:00",
                    "2020-10-02T00:00:00",
                    "2020-10-03T00:00:00",
                    "2020-10-04T00:00:00",
                    "2020-10-05T00:00:00",
                    "2020-10-06T00:00:00",
                    "2020-10-07T00:00:00",
                    "2020-10-08T00:00:00",
                    "2020-10-09T00:00:00",
                    "2020-10-10T00:00:00",
                    "2020-10-11T00:00:00",
                    "2020-10-12T00:00:00",
                    "2020-10-13T00:00:00",
                    "2020-10-14T00:00:00",
                    "2020-10-15T00:00:00",
                    "2020-10-16T00:00:00",
                    "2020-10-17T00:00:00",
                    "2020-10-18T00:00:00",
                    "2020-10-19T00:00:00",
                    "2020-10-20T00:00:00",
                    "2020-10-21T00:00:00",
                    "2020-10-22T00:00:00",
                    "2020-10-23T00:00:00",
                    "2020-10-24T00:00:00",
                    "2020-10-25T00:00:00",
                    "2020-10-26T00:00:00",
                    "2020-10-27T00:00:00",
                    "2020-10-28T00:00:00",
                    "2020-10-29T00:00:00",
                    "2020-10-30T00:00:00",
                    "2020-10-31T00:00:00",
                    "2020-11-01T00:00:00",
                    "2020-11-02T00:00:00",
                    "2020-11-03T00:00:00",
                    "2020-11-04T00:00:00",
                    "2020-11-05T00:00:00",
                    "2020-11-06T00:00:00",
                    "2020-11-07T00:00:00",
                    "2020-11-08T00:00:00",
                    "2020-11-09T00:00:00",
                    "2020-11-10T00:00:00",
                    "2020-11-11T00:00:00",
                    "2020-11-12T00:00:00",
                    "2020-11-13T00:00:00",
                    "2020-11-14T00:00:00",
                    "2020-11-15T00:00:00",
                    "2020-11-16T00:00:00",
                    "2020-11-17T00:00:00",
                    "2020-11-18T00:00:00",
                    "2020-11-19T00:00:00",
                    "2020-11-20T00:00:00",
                    "2020-11-21T00:00:00",
                    "2020-11-22T00:00:00",
                    "2020-11-23T00:00:00",
                    "2020-11-24T00:00:00",
                    "2020-11-25T00:00:00",
                    "2020-11-26T00:00:00",
                    "2020-11-27T00:00:00",
                    "2020-11-28T00:00:00",
                    "2020-11-29T00:00:00",
                    "2020-11-30T00:00:00",
                    "2020-12-01T00:00:00",
                    "2020-12-02T00:00:00",
                    "2020-12-03T00:00:00",
                    "2020-12-04T00:00:00",
                    "2020-12-05T00:00:00",
                    "2020-12-06T00:00:00",
                    "2020-12-07T00:00:00",
                    "2020-12-08T00:00:00",
                    "2020-12-09T00:00:00",
                    "2020-12-10T00:00:00",
                    "2020-12-11T00:00:00",
                    "2020-12-12T00:00:00",
                    "2020-12-13T00:00:00",
                    "2020-12-14T00:00:00",
                    "2020-12-15T00:00:00",
                    "2020-12-16T00:00:00",
                    "2020-12-17T00:00:00",
                    "2020-12-18T00:00:00",
                    "2020-12-19T00:00:00",
                    "2020-12-20T00:00:00",
                    "2020-12-21T00:00:00",
                    "2020-12-22T00:00:00",
                    "2020-12-23T00:00:00",
                    "2020-12-24T00:00:00",
                    "2020-12-25T00:00:00",
                    "2020-12-26T00:00:00",
                    "2020-12-27T00:00:00",
                    "2020-12-28T00:00:00",
                    "2020-12-29T00:00:00",
                    "2020-12-30T00:00:00",
                    "2020-12-31T00:00:00",
                    "2021-01-01T00:00:00",
                    "2021-01-02T00:00:00",
                    "2021-01-03T00:00:00",
                    "2021-01-04T00:00:00",
                    "2021-01-05T00:00:00",
                    "2021-01-06T00:00:00",
                    "2021-01-07T00:00:00",
                    "2021-01-08T00:00:00",
                    "2021-01-09T00:00:00",
                    "2021-01-10T00:00:00",
                    "2021-01-11T00:00:00",
                    "2021-01-12T00:00:00",
                    "2021-01-13T00:00:00",
                    "2021-01-14T00:00:00",
                    "2021-01-15T00:00:00",
                    "2021-01-16T00:00:00",
                    "2021-01-17T00:00:00",
                    "2021-01-18T00:00:00",
                    "2021-01-19T00:00:00",
                    "2021-01-20T00:00:00",
                    "2021-01-21T00:00:00",
                    "2021-01-22T00:00:00",
                    "2021-01-23T00:00:00",
                    "2021-01-24T00:00:00",
                    "2021-01-25T00:00:00",
                    "2021-01-26T00:00:00",
                    "2021-01-27T00:00:00",
                    "2021-01-28T00:00:00",
                    "2021-01-29T00:00:00",
                    "2021-01-30T00:00:00",
                    "2021-01-31T00:00:00",
                    "2021-02-01T00:00:00",
                    "2021-02-02T00:00:00",
                    "2021-02-03T00:00:00",
                    "2021-02-04T00:00:00",
                    "2021-02-05T00:00:00",
                    "2021-02-06T00:00:00",
                    "2021-02-07T00:00:00",
                    "2021-02-08T00:00:00",
                    "2021-02-09T00:00:00",
                    "2021-02-10T00:00:00",
                    "2021-02-11T00:00:00",
                    "2021-02-12T00:00:00",
                    "2021-02-13T00:00:00",
                    "2021-02-14T00:00:00",
                    "2021-02-15T00:00:00",
                    "2021-02-16T00:00:00",
                    "2021-02-17T00:00:00",
                    "2021-02-18T00:00:00",
                    "2021-02-19T00:00:00",
                    "2021-02-20T00:00:00",
                    "2021-02-21T00:00:00",
                    "2021-02-22T00:00:00",
                    "2021-02-23T00:00:00",
                    "2021-02-24T00:00:00",
                    "2021-02-25T00:00:00",
                    "2021-02-26T00:00:00",
                    "2021-02-27T00:00:00",
                    "2021-02-28T00:00:00",
                    "2021-03-01T00:00:00",
                    "2021-03-02T00:00:00",
                    "2021-03-03T00:00:00",
                    "2021-03-04T00:00:00",
                    "2021-03-05T00:00:00",
                    "2021-03-06T00:00:00",
                    "2021-03-07T00:00:00",
                    "2021-03-08T00:00:00",
                    "2021-03-09T00:00:00",
                    "2021-03-10T00:00:00",
                    "2021-03-11T00:00:00",
                    "2021-03-12T00:00:00",
                    "2021-03-13T00:00:00",
                    "2021-03-14T00:00:00",
                    "2021-03-15T00:00:00",
                    "2021-03-16T00:00:00",
                    "2021-03-17T00:00:00",
                    "2021-03-18T00:00:00",
                    "2021-03-19T00:00:00",
                    "2021-03-20T00:00:00",
                    "2021-03-21T00:00:00",
                    "2021-03-22T00:00:00",
                    "2021-03-23T00:00:00",
                    "2021-03-24T00:00:00",
                    "2021-03-25T00:00:00",
                    "2021-03-26T00:00:00",
                    "2021-03-27T00:00:00",
                    "2021-03-28T00:00:00",
                    "2021-03-29T00:00:00",
                    "2021-03-30T00:00:00",
                    "2021-03-31T00:00:00",
                    "2021-04-01T00:00:00",
                    "2021-04-02T00:00:00",
                    "2021-04-03T00:00:00",
                    "2021-04-04T00:00:00",
                    "2021-04-05T00:00:00",
                    "2021-04-06T00:00:00",
                    "2021-04-07T00:00:00",
                    "2021-04-08T00:00:00",
                    "2021-04-09T00:00:00",
                    "2021-04-10T00:00:00",
                    "2021-04-11T00:00:00",
                    "2021-04-12T00:00:00",
                    "2021-04-13T00:00:00",
                    "2021-04-14T00:00:00",
                    "2021-04-15T00:00:00",
                    "2021-04-16T00:00:00",
                    "2021-04-17T00:00:00",
                    "2021-04-18T00:00:00",
                    "2021-04-19T00:00:00",
                    "2021-04-20T00:00:00",
                    "2021-04-21T00:00:00",
                    "2021-04-22T00:00:00",
                    "2021-04-23T00:00:00",
                    "2021-04-24T00:00:00",
                    "2021-04-25T00:00:00",
                    "2021-04-26T00:00:00",
                    "2021-04-27T00:00:00",
                    "2021-04-28T00:00:00",
                    "2021-04-29T00:00:00",
                    "2021-04-30T00:00:00",
                    "2021-05-01T00:00:00",
                    "2021-05-02T00:00:00",
                    "2021-05-03T00:00:00",
                    "2021-05-04T00:00:00",
                    "2021-05-05T00:00:00",
                    "2021-05-06T00:00:00",
                    "2021-05-07T00:00:00",
                    "2021-05-08T00:00:00",
                    "2021-05-09T00:00:00",
                    "2021-05-10T00:00:00",
                    "2021-05-11T00:00:00",
                    "2021-05-12T00:00:00",
                    "2021-05-13T00:00:00",
                    "2021-05-14T00:00:00",
                    "2021-05-15T00:00:00",
                    "2021-05-16T00:00:00",
                    "2021-05-17T00:00:00",
                    "2021-05-18T00:00:00",
                    "2021-05-19T00:00:00",
                    "2021-05-20T00:00:00",
                    "2021-05-21T00:00:00",
                    "2021-05-22T00:00:00",
                    "2021-05-23T00:00:00",
                    "2021-05-24T00:00:00",
                    "2021-05-25T00:00:00",
                    "2021-05-26T00:00:00",
                    "2021-05-27T00:00:00",
                    "2021-05-28T00:00:00",
                    "2021-05-29T00:00:00",
                    "2021-05-30T00:00:00",
                    "2021-05-31T00:00:00",
                    "2021-06-01T00:00:00",
                    "2021-06-02T00:00:00",
                    "2021-06-03T00:00:00",
                    "2021-06-04T00:00:00",
                    "2021-06-05T00:00:00",
                    "2021-06-06T00:00:00",
                    "2021-06-07T00:00:00",
                    "2021-06-08T00:00:00",
                    "2021-06-09T00:00:00",
                    "2021-06-10T00:00:00",
                    "2021-06-11T00:00:00",
                    "2021-06-12T00:00:00",
                    "2021-06-13T00:00:00",
                    "2021-06-14T00:00:00",
                    "2021-06-15T00:00:00",
                    "2021-06-16T00:00:00",
                    "2021-06-17T00:00:00",
                    "2021-06-18T00:00:00",
                    "2021-06-19T00:00:00",
                    "2021-06-20T00:00:00",
                    "2021-06-21T00:00:00",
                    "2021-06-22T00:00:00",
                    "2021-06-23T00:00:00",
                    "2021-06-24T00:00:00",
                    "2021-06-25T00:00:00",
                    "2021-06-26T00:00:00",
                    "2021-06-27T00:00:00",
                    "2021-06-28T00:00:00",
                    "2021-06-29T00:00:00",
                    "2021-06-30T00:00:00",
                    "2021-07-01T00:00:00",
                    "2021-07-02T00:00:00",
                    "2021-07-03T00:00:00",
                    "2021-07-04T00:00:00",
                    "2021-07-05T00:00:00",
                    "2021-07-06T00:00:00",
                    "2021-07-07T00:00:00",
                    "2021-07-08T00:00:00",
                    "2021-07-09T00:00:00",
                    "2021-07-10T00:00:00",
                    "2021-07-11T00:00:00",
                    "2021-07-12T00:00:00",
                    "2021-07-13T00:00:00",
                    "2021-07-14T00:00:00",
                    "2021-07-15T00:00:00",
                    "2021-07-16T00:00:00",
                    "2021-07-17T00:00:00",
                    "2021-07-18T00:00:00",
                    "2021-07-19T00:00:00",
                    "2021-07-20T00:00:00",
                    "2021-07-21T00:00:00",
                    "2021-07-22T00:00:00",
                    "2021-07-23T00:00:00",
                    "2021-07-24T00:00:00",
                    "2021-07-25T00:00:00",
                    "2021-07-26T00:00:00",
                    "2021-07-27T00:00:00",
                    "2021-07-28T00:00:00",
                    "2021-07-29T00:00:00",
                    "2021-07-30T00:00:00",
                    "2021-07-31T00:00:00",
                    "2021-08-01T00:00:00",
                    "2021-08-02T00:00:00",
                    "2021-08-03T00:00:00",
                    "2021-08-04T00:00:00",
                    "2021-08-05T00:00:00",
                    "2021-08-06T00:00:00",
                    "2021-08-07T00:00:00",
                    "2021-08-08T00:00:00",
                    "2021-08-09T00:00:00",
                    "2021-08-10T00:00:00",
                    "2021-08-11T00:00:00",
                    "2021-08-12T00:00:00",
                    "2021-08-13T00:00:00",
                    "2021-08-14T00:00:00",
                    "2021-08-15T00:00:00",
                    "2021-08-16T00:00:00",
                    "2021-08-17T00:00:00",
                    "2021-08-18T00:00:00",
                    "2021-08-19T00:00:00",
                    "2021-08-20T00:00:00",
                    "2021-08-21T00:00:00",
                    "2021-08-22T00:00:00",
                    "2021-08-23T00:00:00",
                    "2021-08-24T00:00:00",
                    "2021-08-25T00:00:00",
                    "2021-08-26T00:00:00",
                    "2021-08-27T00:00:00",
                    "2021-08-28T00:00:00",
                    "2021-08-29T00:00:00",
                    "2021-08-30T00:00:00",
                    "2021-08-31T00:00:00",
                    "2021-09-01T00:00:00",
                    "2021-09-02T00:00:00",
                    "2021-09-03T00:00:00",
                    "2021-09-04T00:00:00",
                    "2021-09-05T00:00:00",
                    "2021-09-06T00:00:00",
                    "2021-09-07T00:00:00",
                    "2021-09-08T00:00:00",
                    "2021-09-09T00:00:00",
                    "2021-09-10T00:00:00",
                    "2021-09-11T00:00:00",
                    "2021-09-12T00:00:00",
                    "2021-09-13T00:00:00",
                    "2021-09-14T00:00:00",
                    "2021-09-15T00:00:00",
                    "2021-09-16T00:00:00",
                    "2021-09-17T00:00:00",
                    "2021-09-18T00:00:00",
                    "2021-09-19T00:00:00",
                    "2021-09-20T00:00:00",
                    "2021-09-21T00:00:00",
                    "2021-09-22T00:00:00",
                    "2021-09-23T00:00:00",
                    "2021-09-24T00:00:00",
                    "2021-09-25T00:00:00",
                    "2021-09-26T00:00:00",
                    "2023-11-02T00:00:00",
                    "2023-11-03T00:00:00",
                    "2023-11-04T00:00:00",
                    "2023-11-05T00:00:00",
                    "2023-11-06T00:00:00",
                    "2023-11-07T00:00:00",
                    "2023-11-08T00:00:00",
                    "2023-11-09T00:00:00",
                    "2023-11-10T00:00:00",
                    "2023-11-11T00:00:00",
                    "2023-11-12T00:00:00",
                    "2023-11-13T00:00:00",
                    "2023-11-14T00:00:00",
                    "2023-11-15T00:00:00",
                    "2023-11-16T00:00:00",
                    "2023-11-17T00:00:00",
                    "2023-11-18T00:00:00",
                    "2023-11-19T00:00:00",
                    "2023-11-20T00:00:00",
                    "2023-11-21T00:00:00",
                    "2023-11-22T00:00:00",
                    "2023-11-23T00:00:00",
                    "2023-11-24T00:00:00",
                    "2023-11-25T00:00:00",
                    "2023-11-26T00:00:00",
                    "2023-11-27T00:00:00",
                    "2023-11-28T00:00:00",
                    "2023-11-29T00:00:00",
                    "2023-11-30T00:00:00",
                    "2023-12-01T00:00:00",
                    "2023-12-02T00:00:00",
                    "2023-12-03T00:00:00",
                    "2023-12-04T00:00:00",
                    "2023-12-05T00:00:00",
                    "2023-12-06T00:00:00"
                  ],
                  "y": [
                    22.5,
                    21.4,
                    21.7,
                    24.15,
                    26.950000000000003,
                    26.65,
                    28.05,
                    26.7,
                    22.2,
                    25.55,
                    25.549999999999997,
                    24.7,
                    22.75,
                    21.1,
                    21.95,
                    23.35,
                    25.25,
                    25,
                    22.5,
                    23.35,
                    22.5,
                    24.45,
                    23.9,
                    25.3,
                    21.1,
                    19.700000000000003,
                    19.700000000000003,
                    19.45,
                    15.549999999999999,
                    17.5,
                    20.85,
                    16.950000000000003,
                    13.6,
                    14.15,
                    13.850000000000001,
                    15.3,
                    20,
                    20.299999999999997,
                    20.85,
                    20.8,
                    22.75,
                    22.8,
                    21.35,
                    18.65,
                    18.9,
                    15,
                    15,
                    15,
                    16.4,
                    17.25,
                    19.45,
                    14.75,
                    15.3,
                    18.05,
                    16.65,
                    11.65,
                    13.05,
                    14.7,
                    17.8,
                    13.6,
                    10.85,
                    12.25,
                    14.45,
                    17.8,
                    17.5,
                    18.9,
                    18.9,
                    14.75,
                    9.45,
                    12.8,
                    13.05,
                    12.5,
                    10.55,
                    5.550000000000001,
                    3.9,
                    9.45,
                    5,
                    8.05,
                    10.55,
                    15.25,
                    17.200000000000003,
                    18.3,
                    18.6,
                    18.049999999999997,
                    19.45,
                    20,
                    13.9,
                    9.15,
                    8.35,
                    11.4,
                    9.75,
                    6.1,
                    0.6000000000000001,
                    3.95,
                    12.2,
                    13.600000000000001,
                    10.85,
                    10.6,
                    6.95,
                    10.25,
                    15.55,
                    13.899999999999999,
                    10,
                    8.6,
                    13.6,
                    9.75,
                    4.15,
                    5.85,
                    8.9,
                    6.1000000000000005,
                    2.5,
                    2.2,
                    0.6000000000000001,
                    1.4,
                    5.800000000000001,
                    8.9,
                    11.1,
                    12.5,
                    5,
                    1.45,
                    -2.4,
                    -1.8499999999999999,
                    -2.15,
                    -3.3,
                    1.9500000000000002,
                    5.3,
                    5.55,
                    4.7,
                    10.55,
                    7.250000000000001,
                    -2.15,
                    -0.75,
                    5.85,
                    2.55,
                    1.9999999999999998,
                    5.550000000000001,
                    2.5,
                    6.4,
                    2.2,
                    3.9,
                    3.9,
                    3.05,
                    2,
                    0.04999999999999982,
                    -0.75,
                    1.7,
                    0.34999999999999987,
                    3.65,
                    3.9,
                    6.65,
                    5.55,
                    5.550000000000001,
                    4.2,
                    5,
                    3.9,
                    0.8500000000000001,
                    1.15,
                    4.7,
                    -1.0499999999999998,
                    -2.75,
                    -1.0500000000000003,
                    0.30000000000000004,
                    1.15,
                    -2.75,
                    -6.85,
                    -4.1,
                    -4.9,
                    -2.2,
                    -0.2,
                    0.5999999999999999,
                    2.8,
                    5.550000000000001,
                    3.9000000000000004,
                    0.050000000000000266,
                    -4.8999999999999995,
                    -1.05,
                    -0.7500000000000001,
                    -1.3,
                    -3.8,
                    -2.4,
                    0.2999999999999998,
                    0.8500000000000001,
                    5.85,
                    -2.2,
                    -2.65,
                    -0.75,
                    -0.7500000000000001,
                    -0.75,
                    1.95,
                    4.7,
                    8.049999999999999,
                    7.2,
                    3.9,
                    6.65,
                    6.1,
                    4.45,
                    -2.7,
                    5.55,
                    2.25,
                    -1.0500000000000003,
                    -0.25,
                    1.7,
                    1.4499999999999997,
                    11.7,
                    8.6,
                    14.2,
                    15.55,
                    5.85,
                    5.85,
                    -0.19999999999999996,
                    0.5999999999999999,
                    4.7,
                    6.65,
                    2.8,
                    7.8,
                    11.399999999999999,
                    11.149999999999999,
                    12.5,
                    10.8,
                    14.7,
                    19.45,
                    15.3,
                    12.25,
                    10,
                    10.850000000000001,
                    14.7,
                    8.85,
                    0.8999999999999999,
                    5.85,
                    12.75,
                    14.45,
                    14.700000000000001,
                    16.4,
                    15.25,
                    12.2,
                    15.850000000000001,
                    11.100000000000001,
                    8.9,
                    12.5,
                    15.55,
                    10.8,
                    8.35,
                    9.7,
                    13.600000000000001,
                    14.7,
                    18.049999999999997,
                    11.95,
                    5.550000000000001,
                    10.85,
                    16.65,
                    13.3,
                    10.3,
                    12.8,
                    20.25,
                    19.45,
                    14.75,
                    11.95,
                    20.55,
                    15,
                    16.95,
                    13.899999999999999,
                    14.45,
                    14.149999999999999,
                    10.850000000000001,
                    13.05,
                    11.95,
                    14.399999999999999,
                    13.9,
                    16.1,
                    17.75,
                    19.450000000000003,
                    19.45,
                    19.450000000000003,
                    21.7,
                    24.15,
                    19.7,
                    20.25,
                    25,
                    25.55,
                    17.5,
                    18.6,
                    24.15,
                    22.75,
                    15,
                    9.45,
                    9.45,
                    15.25,
                    19.15,
                    20.299999999999997,
                    19.45,
                    21.4,
                    25.299999999999997,
                    28.849999999999998,
                    28.599999999999998,
                    27.200000000000003,
                    27.200000000000003,
                    23.6,
                    18.65,
                    18.65,
                    20.549999999999997,
                    20.3,
                    22.799999999999997,
                    20.85,
                    19.75,
                    23.049999999999997,
                    24.700000000000003,
                    24.45,
                    26.95,
                    20.3,
                    18.6,
                    20.55,
                    22.5,
                    24.15,
                    27.5,
                    28.849999999999998,
                    30.3,
                    29.75,
                    25.549999999999997,
                    21.4,
                    16.95,
                    20.85,
                    23.85,
                    27.5,
                    27.25,
                    25.299999999999997,
                    25.25,
                    23.6,
                    23.35,
                    26.1,
                    21.4,
                    25.6,
                    27.5,
                    29.45,
                    27.799999999999997,
                    25.549999999999997,
                    24.45,
                    26.4,
                    23.9,
                    23.299999999999997,
                    23.85,
                    24.15,
                    23.6,
                    26.65,
                    27.25,
                    23.9,
                    22.8,
                    23.6,
                    20.3,
                    21.95,
                    21.95,
                    22.200000000000003,
                    21.9,
                    23.9,
                    26.1,
                    26.700000000000003,
                    21.95,
                    23.9,
                    25.299999999999997,
                    27.25,
                    28.6,
                    30,
                    27.75,
                    24.700000000000003,
                    24.450000000000003,
                    25,
                    25.8,
                    26.65,
                    25.85,
                    25.3,
                    22.75,
                    25,
                    26.95,
                    27.5,
                    29.2,
                    28.9,
                    23.35,
                    21.9,
                    26.1,
                    25.55,
                    21.4,
                    20.55,
                    19.15,
                    21.1,
                    21.35,
                    23.9,
                    22.200000000000003,
                    24.450000000000003,
                    22.2,
                    20.25,
                    20,
                    23.049999999999997,
                    23.85,
                    23.049999999999997,
                    25.549999999999997,
                    23.049999999999997,
                    22.25,
                    24.75,
                    21.1,
                    20.549999999999997,
                    20.799999999999997,
                    24.15,
                    21.950000000000003,
                    18.05,
                    18.9,
                    18.9,
                    5.3,
                    9.2,
                    12.200000000000001,
                    13.850000000000001,
                    10,
                    14.75,
                    9.149999999999999,
                    9.75,
                    9.45,
                    9.2,
                    4.45,
                    5.55,
                    8.649999999999999,
                    7.8,
                    13.05,
                    15.25,
                    11.1,
                    8.600000000000001,
                    5.3,
                    4.75,
                    10.55,
                    8.9,
                    5.6,
                    1.7000000000000002,
                    7.5,
                    7.75,
                    2.5,
                    0.2999999999999998,
                    5.85,
                    8.35,
                    11.95,
                    10.3,
                    8.899999999999999,
                    4.699999999999999,
                    3.3499999999999996
                  ],
                  "type": "scatter"
                },
                {
                  "mode": "lines",
                  "name": "Prediction",
                  "x": [
                    "2021-08-14T00:00:00",
                    "2021-08-15T00:00:00",
                    "2021-08-16T00:00:00",
                    "2021-08-17T00:00:00",
                    "2021-08-18T00:00:00",
                    "2021-08-19T00:00:00",
                    "2021-08-20T00:00:00",
                    "2021-08-21T00:00:00",
                    "2021-08-22T00:00:00",
                    "2021-08-23T00:00:00",
                    "2021-08-24T00:00:00",
                    "2021-08-25T00:00:00",
                    "2021-08-26T00:00:00",
                    "2021-08-27T00:00:00",
                    "2021-08-28T00:00:00",
                    "2021-08-29T00:00:00",
                    "2021-08-30T00:00:00",
                    "2021-08-31T00:00:00",
                    "2021-09-01T00:00:00",
                    "2021-09-02T00:00:00",
                    "2021-09-03T00:00:00",
                    "2021-09-04T00:00:00",
                    "2021-09-05T00:00:00",
                    "2021-09-06T00:00:00",
                    "2021-09-07T00:00:00",
                    "2021-09-08T00:00:00",
                    "2021-09-09T00:00:00",
                    "2021-09-10T00:00:00",
                    "2021-09-11T00:00:00",
                    "2021-09-12T00:00:00",
                    "2021-09-13T00:00:00",
                    "2021-09-14T00:00:00",
                    "2021-09-15T00:00:00",
                    "2021-09-16T00:00:00",
                    "2021-09-17T00:00:00",
                    "2021-09-18T00:00:00",
                    "2021-09-19T00:00:00",
                    "2021-09-20T00:00:00",
                    "2021-09-21T00:00:00",
                    "2021-09-22T00:00:00",
                    "2021-09-23T00:00:00",
                    "2021-09-24T00:00:00",
                    "2021-09-25T00:00:00",
                    "2021-09-26T00:00:00",
                    "2021-09-27T00:00:00",
                    "2021-09-28T00:00:00",
                    "2021-09-29T00:00:00",
                    "2021-09-30T00:00:00",
                    "2021-10-01T00:00:00",
                    "2021-10-02T00:00:00",
                    "2021-10-03T00:00:00",
                    "2021-10-04T00:00:00",
                    "2021-10-05T00:00:00",
                    "2021-10-06T00:00:00",
                    "2021-10-07T00:00:00",
                    "2021-10-08T00:00:00",
                    "2021-10-09T00:00:00",
                    "2021-10-10T00:00:00",
                    "2021-10-11T00:00:00",
                    "2021-10-12T00:00:00",
                    "2021-10-13T00:00:00",
                    "2021-10-14T00:00:00",
                    "2021-10-15T00:00:00",
                    "2021-10-16T00:00:00",
                    "2021-10-17T00:00:00",
                    "2021-10-18T00:00:00",
                    "2021-10-19T00:00:00",
                    "2021-10-20T00:00:00",
                    "2021-10-21T00:00:00",
                    "2021-10-22T00:00:00",
                    "2021-10-23T00:00:00",
                    "2021-10-24T00:00:00",
                    "2021-10-25T00:00:00",
                    "2021-10-26T00:00:00",
                    "2021-10-27T00:00:00",
                    "2021-10-28T00:00:00",
                    "2021-10-29T00:00:00",
                    "2021-10-30T00:00:00",
                    "2021-10-31T00:00:00",
                    "2021-11-01T00:00:00",
                    "2021-11-02T00:00:00",
                    "2021-11-03T00:00:00",
                    "2021-11-04T00:00:00",
                    "2021-11-05T00:00:00",
                    "2021-11-06T00:00:00",
                    "2021-11-07T00:00:00",
                    "2021-11-08T00:00:00",
                    "2021-11-09T00:00:00",
                    "2021-11-10T00:00:00",
                    "2021-11-11T00:00:00",
                    "2021-11-12T00:00:00",
                    "2021-11-13T00:00:00",
                    "2021-11-14T00:00:00",
                    "2021-11-15T00:00:00",
                    "2021-11-16T00:00:00",
                    "2021-11-17T00:00:00",
                    "2021-11-18T00:00:00",
                    "2021-11-19T00:00:00",
                    "2021-11-20T00:00:00",
                    "2021-11-21T00:00:00",
                    "2021-11-22T00:00:00",
                    "2021-11-23T00:00:00",
                    "2021-11-24T00:00:00",
                    "2021-11-25T00:00:00",
                    "2021-11-26T00:00:00",
                    "2021-11-27T00:00:00",
                    "2021-11-28T00:00:00",
                    "2021-11-29T00:00:00",
                    "2021-11-30T00:00:00",
                    "2021-12-01T00:00:00",
                    "2021-12-02T00:00:00",
                    "2021-12-03T00:00:00",
                    "2021-12-04T00:00:00",
                    "2021-12-05T00:00:00",
                    "2021-12-06T00:00:00",
                    "2021-12-07T00:00:00",
                    "2021-12-08T00:00:00",
                    "2021-12-09T00:00:00",
                    "2021-12-10T00:00:00",
                    "2021-12-11T00:00:00",
                    "2021-12-12T00:00:00",
                    "2021-12-13T00:00:00",
                    "2021-12-14T00:00:00",
                    "2021-12-15T00:00:00",
                    "2021-12-16T00:00:00",
                    "2021-12-17T00:00:00",
                    "2021-12-18T00:00:00",
                    "2021-12-19T00:00:00",
                    "2021-12-20T00:00:00",
                    "2021-12-21T00:00:00",
                    "2021-12-22T00:00:00",
                    "2021-12-23T00:00:00",
                    "2021-12-24T00:00:00",
                    "2021-12-25T00:00:00",
                    "2021-12-26T00:00:00",
                    "2021-12-27T00:00:00",
                    "2021-12-28T00:00:00",
                    "2021-12-29T00:00:00",
                    "2021-12-30T00:00:00",
                    "2021-12-31T00:00:00",
                    "2022-01-01T00:00:00",
                    "2022-01-02T00:00:00",
                    "2022-01-03T00:00:00",
                    "2022-01-04T00:00:00",
                    "2022-01-05T00:00:00",
                    "2022-01-06T00:00:00",
                    "2022-01-07T00:00:00",
                    "2022-01-08T00:00:00",
                    "2022-01-09T00:00:00",
                    "2022-01-10T00:00:00",
                    "2022-01-11T00:00:00",
                    "2022-01-12T00:00:00",
                    "2022-01-13T00:00:00",
                    "2022-01-14T00:00:00",
                    "2022-01-15T00:00:00",
                    "2022-01-16T00:00:00",
                    "2022-01-17T00:00:00",
                    "2022-01-18T00:00:00",
                    "2022-01-19T00:00:00",
                    "2022-01-20T00:00:00",
                    "2022-01-21T00:00:00",
                    "2022-01-22T00:00:00",
                    "2022-01-23T00:00:00",
                    "2022-01-24T00:00:00",
                    "2022-01-25T00:00:00",
                    "2022-01-26T00:00:00",
                    "2022-01-27T00:00:00",
                    "2022-01-28T00:00:00",
                    "2022-01-29T00:00:00",
                    "2022-01-30T00:00:00",
                    "2022-01-31T00:00:00",
                    "2022-02-01T00:00:00",
                    "2022-02-02T00:00:00",
                    "2022-02-03T00:00:00",
                    "2022-02-04T00:00:00",
                    "2022-02-05T00:00:00",
                    "2022-02-06T00:00:00",
                    "2022-02-07T00:00:00",
                    "2022-02-08T00:00:00",
                    "2022-02-09T00:00:00",
                    "2022-02-10T00:00:00",
                    "2022-02-11T00:00:00",
                    "2022-02-12T00:00:00",
                    "2022-02-13T00:00:00",
                    "2022-02-14T00:00:00",
                    "2022-02-15T00:00:00",
                    "2022-02-16T00:00:00",
                    "2022-02-17T00:00:00",
                    "2022-02-18T00:00:00",
                    "2022-02-19T00:00:00",
                    "2022-02-20T00:00:00",
                    "2022-02-21T00:00:00",
                    "2022-02-22T00:00:00",
                    "2022-02-23T00:00:00",
                    "2022-02-24T00:00:00",
                    "2022-02-25T00:00:00",
                    "2022-02-26T00:00:00",
                    "2022-02-27T00:00:00",
                    "2022-02-28T00:00:00",
                    "2022-03-01T00:00:00",
                    "2022-03-02T00:00:00",
                    "2022-03-03T00:00:00",
                    "2022-03-04T00:00:00",
                    "2022-03-05T00:00:00",
                    "2022-03-06T00:00:00",
                    "2022-03-07T00:00:00",
                    "2022-03-08T00:00:00",
                    "2022-03-09T00:00:00",
                    "2022-03-10T00:00:00",
                    "2022-03-11T00:00:00",
                    "2022-03-12T00:00:00",
                    "2022-03-13T00:00:00",
                    "2022-03-14T00:00:00",
                    "2022-03-15T00:00:00",
                    "2022-03-16T00:00:00",
                    "2022-03-17T00:00:00",
                    "2022-03-18T00:00:00",
                    "2022-03-19T00:00:00",
                    "2022-03-20T00:00:00",
                    "2022-03-21T00:00:00",
                    "2022-03-22T00:00:00",
                    "2022-03-23T00:00:00",
                    "2022-03-24T00:00:00",
                    "2022-03-25T00:00:00",
                    "2022-03-26T00:00:00",
                    "2022-03-27T00:00:00",
                    "2022-03-28T00:00:00",
                    "2022-03-29T00:00:00",
                    "2022-03-30T00:00:00",
                    "2022-03-31T00:00:00",
                    "2022-04-01T00:00:00",
                    "2022-04-02T00:00:00",
                    "2022-04-03T00:00:00",
                    "2022-04-04T00:00:00",
                    "2022-04-05T00:00:00",
                    "2022-04-06T00:00:00",
                    "2022-04-07T00:00:00",
                    "2022-04-08T00:00:00",
                    "2022-04-09T00:00:00",
                    "2022-04-10T00:00:00",
                    "2022-04-11T00:00:00",
                    "2022-04-12T00:00:00",
                    "2022-04-13T00:00:00",
                    "2022-04-14T00:00:00",
                    "2022-04-15T00:00:00",
                    "2022-04-16T00:00:00",
                    "2022-04-17T00:00:00",
                    "2022-04-18T00:00:00",
                    "2022-04-19T00:00:00",
                    "2022-04-20T00:00:00",
                    "2022-04-21T00:00:00",
                    "2022-04-22T00:00:00",
                    "2022-04-23T00:00:00",
                    "2022-04-24T00:00:00",
                    "2022-04-25T00:00:00",
                    "2022-04-26T00:00:00",
                    "2022-04-27T00:00:00",
                    "2022-04-28T00:00:00",
                    "2022-04-29T00:00:00",
                    "2022-04-30T00:00:00",
                    "2022-05-01T00:00:00",
                    "2022-05-02T00:00:00",
                    "2022-05-03T00:00:00",
                    "2022-05-04T00:00:00",
                    "2022-05-05T00:00:00",
                    "2022-05-06T00:00:00",
                    "2022-05-07T00:00:00",
                    "2022-05-08T00:00:00",
                    "2022-05-09T00:00:00",
                    "2022-05-10T00:00:00",
                    "2022-05-11T00:00:00",
                    "2022-05-12T00:00:00",
                    "2022-05-13T00:00:00",
                    "2022-05-14T00:00:00",
                    "2022-05-15T00:00:00",
                    "2022-05-16T00:00:00",
                    "2022-05-17T00:00:00",
                    "2022-05-18T00:00:00",
                    "2022-05-19T00:00:00",
                    "2022-05-20T00:00:00",
                    "2022-05-21T00:00:00",
                    "2022-05-22T00:00:00",
                    "2022-05-23T00:00:00",
                    "2022-05-24T00:00:00",
                    "2022-05-25T00:00:00",
                    "2022-05-26T00:00:00",
                    "2022-05-27T00:00:00",
                    "2022-05-28T00:00:00",
                    "2022-05-29T00:00:00",
                    "2022-05-30T00:00:00",
                    "2022-05-31T00:00:00",
                    "2022-06-01T00:00:00",
                    "2022-06-02T00:00:00",
                    "2022-06-03T00:00:00",
                    "2022-06-04T00:00:00",
                    "2022-06-05T00:00:00",
                    "2022-06-06T00:00:00",
                    "2022-06-07T00:00:00",
                    "2022-06-08T00:00:00",
                    "2022-06-09T00:00:00",
                    "2022-06-10T00:00:00",
                    "2022-06-11T00:00:00",
                    "2022-06-12T00:00:00",
                    "2022-06-13T00:00:00",
                    "2022-06-14T00:00:00",
                    "2022-06-15T00:00:00",
                    "2022-06-16T00:00:00",
                    "2022-06-17T00:00:00",
                    "2022-06-18T00:00:00",
                    "2022-06-19T00:00:00",
                    "2022-06-20T00:00:00",
                    "2022-06-21T00:00:00",
                    "2022-06-22T00:00:00",
                    "2022-06-23T00:00:00",
                    "2022-06-24T00:00:00",
                    "2022-06-25T00:00:00",
                    "2022-06-26T00:00:00",
                    "2022-06-27T00:00:00",
                    "2022-06-28T00:00:00",
                    "2022-06-29T00:00:00",
                    "2022-06-30T00:00:00",
                    "2022-07-01T00:00:00",
                    "2022-07-02T00:00:00",
                    "2022-07-03T00:00:00",
                    "2022-07-04T00:00:00",
                    "2022-07-05T00:00:00",
                    "2022-07-06T00:00:00",
                    "2022-07-07T00:00:00",
                    "2022-07-08T00:00:00",
                    "2022-07-09T00:00:00",
                    "2022-07-10T00:00:00",
                    "2022-07-11T00:00:00",
                    "2022-07-12T00:00:00",
                    "2022-07-13T00:00:00",
                    "2022-07-14T00:00:00",
                    "2022-07-15T00:00:00",
                    "2022-07-16T00:00:00",
                    "2022-07-17T00:00:00",
                    "2022-07-18T00:00:00",
                    "2022-07-19T00:00:00",
                    "2022-07-20T00:00:00",
                    "2022-07-21T00:00:00",
                    "2022-07-22T00:00:00",
                    "2022-07-23T00:00:00",
                    "2022-07-24T00:00:00",
                    "2022-07-25T00:00:00",
                    "2022-07-26T00:00:00",
                    "2022-07-27T00:00:00",
                    "2022-07-28T00:00:00",
                    "2022-07-29T00:00:00",
                    "2022-07-30T00:00:00",
                    "2022-07-31T00:00:00",
                    "2022-08-01T00:00:00",
                    "2022-08-02T00:00:00",
                    "2022-08-03T00:00:00",
                    "2022-08-04T00:00:00",
                    "2022-08-05T00:00:00",
                    "2022-08-06T00:00:00",
                    "2022-08-07T00:00:00",
                    "2022-08-08T00:00:00",
                    "2022-08-09T00:00:00",
                    "2022-08-10T00:00:00",
                    "2022-08-11T00:00:00",
                    "2022-08-12T00:00:00",
                    "2022-08-13T00:00:00",
                    "2022-08-14T00:00:00",
                    "2022-08-15T00:00:00",
                    "2022-08-16T00:00:00",
                    "2022-08-17T00:00:00",
                    "2022-08-18T00:00:00",
                    "2022-08-19T00:00:00",
                    "2022-08-20T00:00:00",
                    "2022-08-21T00:00:00",
                    "2022-08-22T00:00:00",
                    "2022-08-23T00:00:00",
                    "2022-08-24T00:00:00",
                    "2022-08-25T00:00:00",
                    "2022-08-26T00:00:00",
                    "2022-08-27T00:00:00",
                    "2022-08-28T00:00:00",
                    "2022-08-29T00:00:00",
                    "2022-08-30T00:00:00",
                    "2022-08-31T00:00:00",
                    "2022-09-01T00:00:00",
                    "2022-09-02T00:00:00",
                    "2022-09-03T00:00:00",
                    "2022-09-04T00:00:00",
                    "2022-09-05T00:00:00",
                    "2022-09-06T00:00:00",
                    "2022-09-07T00:00:00",
                    "2022-09-08T00:00:00",
                    "2022-09-09T00:00:00",
                    "2022-09-10T00:00:00",
                    "2022-09-11T00:00:00",
                    "2022-09-12T00:00:00",
                    "2022-09-13T00:00:00",
                    "2022-09-14T00:00:00",
                    "2022-09-15T00:00:00",
                    "2022-09-16T00:00:00",
                    "2022-09-17T00:00:00",
                    "2022-09-18T00:00:00",
                    "2022-09-19T00:00:00",
                    "2022-09-20T00:00:00",
                    "2022-09-21T00:00:00",
                    "2022-09-22T00:00:00",
                    "2022-09-23T00:00:00",
                    "2022-09-24T00:00:00",
                    "2022-09-25T00:00:00",
                    "2022-09-26T00:00:00",
                    "2022-09-27T00:00:00",
                    "2022-09-28T00:00:00",
                    "2022-09-29T00:00:00",
                    "2022-09-30T00:00:00",
                    "2022-10-01T00:00:00",
                    "2022-10-02T00:00:00",
                    "2022-10-03T00:00:00",
                    "2022-10-04T00:00:00",
                    "2022-10-05T00:00:00",
                    "2022-10-06T00:00:00",
                    "2022-10-07T00:00:00",
                    "2022-10-08T00:00:00",
                    "2022-10-09T00:00:00",
                    "2022-10-10T00:00:00",
                    "2022-10-11T00:00:00",
                    "2022-10-12T00:00:00",
                    "2022-10-13T00:00:00",
                    "2022-10-14T00:00:00",
                    "2022-10-15T00:00:00",
                    "2022-10-16T00:00:00",
                    "2022-10-17T00:00:00",
                    "2022-10-18T00:00:00",
                    "2022-10-19T00:00:00",
                    "2022-10-20T00:00:00",
                    "2022-10-21T00:00:00",
                    "2022-10-22T00:00:00",
                    "2022-10-23T00:00:00",
                    "2022-10-24T00:00:00",
                    "2022-10-25T00:00:00",
                    "2022-10-26T00:00:00",
                    "2022-10-27T00:00:00",
                    "2022-10-28T00:00:00",
                    "2022-10-29T00:00:00",
                    "2022-10-30T00:00:00",
                    "2022-10-31T00:00:00",
                    "2022-11-01T00:00:00",
                    "2022-11-02T00:00:00",
                    "2022-11-03T00:00:00",
                    "2022-11-04T00:00:00",
                    "2022-11-05T00:00:00",
                    "2022-11-06T00:00:00",
                    "2022-11-07T00:00:00",
                    "2022-11-08T00:00:00",
                    "2022-11-09T00:00:00",
                    "2022-11-10T00:00:00",
                    "2022-11-11T00:00:00",
                    "2022-11-12T00:00:00",
                    "2022-11-13T00:00:00",
                    "2022-11-14T00:00:00",
                    "2022-11-15T00:00:00",
                    "2022-11-16T00:00:00",
                    "2022-11-17T00:00:00",
                    "2022-11-18T00:00:00",
                    "2022-11-19T00:00:00",
                    "2022-11-20T00:00:00",
                    "2022-11-21T00:00:00",
                    "2022-11-22T00:00:00",
                    "2022-11-23T00:00:00",
                    "2022-11-24T00:00:00",
                    "2022-11-25T00:00:00",
                    "2022-11-26T00:00:00",
                    "2022-11-27T00:00:00",
                    "2022-11-28T00:00:00",
                    "2022-11-29T00:00:00",
                    "2022-11-30T00:00:00",
                    "2022-12-01T00:00:00",
                    "2022-12-02T00:00:00",
                    "2022-12-03T00:00:00",
                    "2022-12-04T00:00:00",
                    "2022-12-05T00:00:00",
                    "2022-12-06T00:00:00",
                    "2022-12-07T00:00:00",
                    "2022-12-08T00:00:00",
                    "2022-12-09T00:00:00",
                    "2022-12-10T00:00:00",
                    "2022-12-11T00:00:00",
                    "2022-12-12T00:00:00",
                    "2022-12-13T00:00:00",
                    "2022-12-14T00:00:00",
                    "2022-12-15T00:00:00",
                    "2022-12-16T00:00:00",
                    "2022-12-17T00:00:00",
                    "2022-12-18T00:00:00",
                    "2022-12-19T00:00:00",
                    "2022-12-20T00:00:00",
                    "2022-12-21T00:00:00",
                    "2022-12-22T00:00:00",
                    "2022-12-23T00:00:00",
                    "2022-12-24T00:00:00",
                    "2022-12-25T00:00:00",
                    "2022-12-26T00:00:00",
                    "2022-12-27T00:00:00",
                    "2022-12-28T00:00:00",
                    "2022-12-29T00:00:00",
                    "2022-12-30T00:00:00",
                    "2022-12-31T00:00:00",
                    "2023-01-01T00:00:00",
                    "2023-01-02T00:00:00",
                    "2023-01-03T00:00:00",
                    "2023-01-04T00:00:00",
                    "2023-01-05T00:00:00",
                    "2023-01-06T00:00:00",
                    "2023-01-07T00:00:00",
                    "2023-01-08T00:00:00",
                    "2023-01-09T00:00:00",
                    "2023-01-10T00:00:00",
                    "2023-01-11T00:00:00",
                    "2023-01-12T00:00:00",
                    "2023-01-13T00:00:00",
                    "2023-01-14T00:00:00",
                    "2023-01-15T00:00:00",
                    "2023-01-16T00:00:00",
                    "2023-01-17T00:00:00",
                    "2023-01-18T00:00:00",
                    "2023-01-19T00:00:00",
                    "2023-01-20T00:00:00",
                    "2023-01-21T00:00:00",
                    "2023-01-22T00:00:00",
                    "2023-01-23T00:00:00",
                    "2023-01-24T00:00:00",
                    "2023-01-25T00:00:00",
                    "2023-01-26T00:00:00",
                    "2023-01-27T00:00:00",
                    "2023-01-28T00:00:00",
                    "2023-01-29T00:00:00",
                    "2023-01-30T00:00:00",
                    "2023-01-31T00:00:00",
                    "2023-02-01T00:00:00",
                    "2023-02-02T00:00:00",
                    "2023-02-03T00:00:00",
                    "2023-02-04T00:00:00",
                    "2023-02-05T00:00:00",
                    "2023-02-06T00:00:00",
                    "2023-02-07T00:00:00",
                    "2023-02-08T00:00:00",
                    "2023-02-09T00:00:00",
                    "2023-02-10T00:00:00",
                    "2023-02-11T00:00:00",
                    "2023-02-12T00:00:00",
                    "2023-02-13T00:00:00",
                    "2023-02-14T00:00:00",
                    "2023-02-15T00:00:00",
                    "2023-02-16T00:00:00",
                    "2023-02-17T00:00:00",
                    "2023-02-18T00:00:00",
                    "2023-02-19T00:00:00",
                    "2023-02-20T00:00:00",
                    "2023-02-21T00:00:00",
                    "2023-02-22T00:00:00",
                    "2023-02-23T00:00:00",
                    "2023-02-24T00:00:00",
                    "2023-02-25T00:00:00",
                    "2023-02-26T00:00:00",
                    "2023-02-27T00:00:00",
                    "2023-02-28T00:00:00",
                    "2023-03-01T00:00:00",
                    "2023-03-02T00:00:00",
                    "2023-03-03T00:00:00",
                    "2023-03-04T00:00:00",
                    "2023-03-05T00:00:00",
                    "2023-03-06T00:00:00",
                    "2023-03-07T00:00:00",
                    "2023-03-08T00:00:00",
                    "2023-03-09T00:00:00",
                    "2023-03-10T00:00:00",
                    "2023-03-11T00:00:00",
                    "2023-03-12T00:00:00",
                    "2023-03-13T00:00:00",
                    "2023-03-14T00:00:00",
                    "2023-03-15T00:00:00",
                    "2023-03-16T00:00:00",
                    "2023-03-17T00:00:00",
                    "2023-03-18T00:00:00",
                    "2023-03-19T00:00:00",
                    "2023-03-20T00:00:00",
                    "2023-03-21T00:00:00",
                    "2023-03-22T00:00:00",
                    "2023-03-23T00:00:00",
                    "2023-03-24T00:00:00",
                    "2023-03-25T00:00:00",
                    "2023-03-26T00:00:00",
                    "2023-03-27T00:00:00",
                    "2023-03-28T00:00:00",
                    "2023-03-29T00:00:00",
                    "2023-03-30T00:00:00",
                    "2023-03-31T00:00:00",
                    "2023-04-01T00:00:00",
                    "2023-04-02T00:00:00",
                    "2023-04-03T00:00:00",
                    "2023-04-04T00:00:00",
                    "2023-04-05T00:00:00",
                    "2023-04-06T00:00:00",
                    "2023-04-07T00:00:00",
                    "2023-04-08T00:00:00",
                    "2023-04-09T00:00:00",
                    "2023-04-10T00:00:00",
                    "2023-04-11T00:00:00",
                    "2023-04-12T00:00:00",
                    "2023-04-13T00:00:00",
                    "2023-04-14T00:00:00",
                    "2023-04-15T00:00:00",
                    "2023-04-16T00:00:00",
                    "2023-04-17T00:00:00",
                    "2023-04-18T00:00:00",
                    "2023-04-19T00:00:00",
                    "2023-04-20T00:00:00",
                    "2023-04-21T00:00:00",
                    "2023-04-22T00:00:00",
                    "2023-04-23T00:00:00",
                    "2023-04-24T00:00:00",
                    "2023-04-25T00:00:00",
                    "2023-04-26T00:00:00",
                    "2023-04-27T00:00:00",
                    "2023-04-28T00:00:00",
                    "2023-04-29T00:00:00",
                    "2023-04-30T00:00:00",
                    "2023-05-01T00:00:00",
                    "2023-05-02T00:00:00",
                    "2023-05-03T00:00:00",
                    "2023-05-04T00:00:00",
                    "2023-05-05T00:00:00",
                    "2023-05-06T00:00:00",
                    "2023-05-07T00:00:00",
                    "2023-05-08T00:00:00",
                    "2023-05-09T00:00:00",
                    "2023-05-10T00:00:00",
                    "2023-05-11T00:00:00",
                    "2023-05-12T00:00:00",
                    "2023-05-13T00:00:00",
                    "2023-05-14T00:00:00",
                    "2023-05-15T00:00:00",
                    "2023-05-16T00:00:00",
                    "2023-05-17T00:00:00",
                    "2023-05-18T00:00:00",
                    "2023-05-19T00:00:00",
                    "2023-05-20T00:00:00",
                    "2023-05-21T00:00:00",
                    "2023-05-22T00:00:00",
                    "2023-05-23T00:00:00",
                    "2023-05-24T00:00:00",
                    "2023-05-25T00:00:00",
                    "2023-05-26T00:00:00",
                    "2023-05-27T00:00:00",
                    "2023-05-28T00:00:00",
                    "2023-05-29T00:00:00",
                    "2023-05-30T00:00:00",
                    "2023-05-31T00:00:00",
                    "2023-06-01T00:00:00",
                    "2023-06-02T00:00:00",
                    "2023-06-03T00:00:00",
                    "2023-06-04T00:00:00",
                    "2023-06-05T00:00:00",
                    "2023-06-06T00:00:00",
                    "2023-06-07T00:00:00",
                    "2023-06-08T00:00:00",
                    "2023-06-09T00:00:00",
                    "2023-06-10T00:00:00",
                    "2023-06-11T00:00:00",
                    "2023-06-12T00:00:00",
                    "2023-06-13T00:00:00",
                    "2023-06-14T00:00:00",
                    "2023-06-15T00:00:00",
                    "2023-06-16T00:00:00",
                    "2023-06-17T00:00:00",
                    "2023-06-18T00:00:00",
                    "2023-06-19T00:00:00",
                    "2023-06-20T00:00:00",
                    "2023-06-21T00:00:00",
                    "2023-06-22T00:00:00",
                    "2023-06-23T00:00:00",
                    "2023-06-24T00:00:00",
                    "2023-06-25T00:00:00",
                    "2023-06-26T00:00:00",
                    "2023-06-27T00:00:00",
                    "2023-06-28T00:00:00",
                    "2023-06-29T00:00:00",
                    "2023-06-30T00:00:00",
                    "2023-07-01T00:00:00",
                    "2023-07-02T00:00:00",
                    "2023-07-03T00:00:00",
                    "2023-07-04T00:00:00",
                    "2023-07-05T00:00:00",
                    "2023-07-06T00:00:00",
                    "2023-07-07T00:00:00",
                    "2023-07-08T00:00:00",
                    "2023-07-09T00:00:00",
                    "2023-07-10T00:00:00",
                    "2023-07-11T00:00:00",
                    "2023-07-12T00:00:00",
                    "2023-07-13T00:00:00",
                    "2023-07-14T00:00:00",
                    "2023-07-15T00:00:00",
                    "2023-07-16T00:00:00",
                    "2023-07-17T00:00:00",
                    "2023-07-18T00:00:00",
                    "2023-07-19T00:00:00",
                    "2023-07-20T00:00:00",
                    "2023-07-21T00:00:00",
                    "2023-07-22T00:00:00",
                    "2023-07-23T00:00:00",
                    "2023-07-24T00:00:00",
                    "2023-07-25T00:00:00",
                    "2023-07-26T00:00:00",
                    "2023-07-27T00:00:00",
                    "2023-07-28T00:00:00",
                    "2023-07-29T00:00:00",
                    "2023-07-30T00:00:00",
                    "2023-07-31T00:00:00",
                    "2023-08-01T00:00:00",
                    "2023-08-02T00:00:00",
                    "2023-08-03T00:00:00",
                    "2023-08-04T00:00:00",
                    "2023-08-05T00:00:00",
                    "2023-08-06T00:00:00",
                    "2023-08-07T00:00:00",
                    "2023-08-08T00:00:00",
                    "2023-08-09T00:00:00",
                    "2023-08-10T00:00:00",
                    "2023-08-11T00:00:00",
                    "2023-08-12T00:00:00",
                    "2023-08-13T00:00:00",
                    "2023-08-14T00:00:00",
                    "2023-08-15T00:00:00",
                    "2023-08-16T00:00:00",
                    "2023-08-17T00:00:00",
                    "2023-08-18T00:00:00",
                    "2023-08-19T00:00:00",
                    "2023-08-20T00:00:00",
                    "2023-08-21T00:00:00",
                    "2023-08-22T00:00:00",
                    "2023-08-23T00:00:00",
                    "2023-08-24T00:00:00",
                    "2023-08-25T00:00:00",
                    "2023-08-26T00:00:00",
                    "2023-08-27T00:00:00",
                    "2023-08-28T00:00:00",
                    "2023-08-29T00:00:00",
                    "2023-08-30T00:00:00",
                    "2023-08-31T00:00:00",
                    "2023-09-01T00:00:00",
                    "2023-09-02T00:00:00",
                    "2023-09-03T00:00:00",
                    "2023-09-04T00:00:00",
                    "2023-09-05T00:00:00",
                    "2023-09-06T00:00:00",
                    "2023-09-07T00:00:00",
                    "2023-09-08T00:00:00",
                    "2023-09-09T00:00:00",
                    "2023-09-10T00:00:00",
                    "2023-09-11T00:00:00",
                    "2023-09-12T00:00:00",
                    "2023-09-13T00:00:00",
                    "2023-09-14T00:00:00",
                    "2023-09-15T00:00:00",
                    "2023-09-16T00:00:00",
                    "2023-09-17T00:00:00",
                    "2023-09-18T00:00:00",
                    "2023-09-19T00:00:00",
                    "2023-09-20T00:00:00",
                    "2023-09-21T00:00:00",
                    "2023-09-22T00:00:00",
                    "2023-09-23T00:00:00",
                    "2023-09-24T00:00:00",
                    "2023-09-25T00:00:00",
                    "2023-09-26T00:00:00",
                    "2023-09-27T00:00:00",
                    "2023-09-28T00:00:00",
                    "2023-09-29T00:00:00",
                    "2023-09-30T00:00:00",
                    "2023-10-01T00:00:00",
                    "2023-10-02T00:00:00",
                    "2023-10-03T00:00:00",
                    "2023-10-04T00:00:00",
                    "2023-10-05T00:00:00",
                    "2023-10-06T00:00:00",
                    "2023-10-07T00:00:00",
                    "2023-10-08T00:00:00",
                    "2023-10-09T00:00:00",
                    "2023-10-10T00:00:00",
                    "2023-10-11T00:00:00",
                    "2023-10-12T00:00:00",
                    "2023-10-13T00:00:00",
                    "2023-10-14T00:00:00",
                    "2023-10-15T00:00:00",
                    "2023-10-16T00:00:00",
                    "2023-10-17T00:00:00",
                    "2023-10-18T00:00:00",
                    "2023-10-19T00:00:00",
                    "2023-10-20T00:00:00",
                    "2023-10-21T00:00:00",
                    "2023-10-22T00:00:00",
                    "2023-10-23T00:00:00",
                    "2023-10-24T00:00:00",
                    "2023-10-25T00:00:00",
                    "2023-10-26T00:00:00",
                    "2023-10-27T00:00:00",
                    "2023-10-28T00:00:00",
                    "2023-10-29T00:00:00",
                    "2023-10-30T00:00:00",
                    "2023-10-31T00:00:00",
                    "2023-11-01T00:00:00",
                    "2023-11-02T00:00:00",
                    "2023-11-03T00:00:00",
                    "2023-11-04T00:00:00",
                    "2023-11-05T00:00:00",
                    "2023-11-06T00:00:00",
                    "2023-11-07T00:00:00",
                    "2023-11-08T00:00:00",
                    "2023-11-09T00:00:00",
                    "2023-11-10T00:00:00",
                    "2023-11-11T00:00:00",
                    "2023-11-12T00:00:00",
                    "2023-11-13T00:00:00",
                    "2023-11-14T00:00:00",
                    "2023-11-15T00:00:00",
                    "2023-11-16T00:00:00",
                    "2023-11-17T00:00:00",
                    "2023-11-18T00:00:00",
                    "2023-11-19T00:00:00",
                    "2023-11-20T00:00:00",
                    "2023-11-21T00:00:00",
                    "2023-11-22T00:00:00",
                    "2023-11-23T00:00:00",
                    "2023-11-24T00:00:00",
                    "2023-11-25T00:00:00",
                    "2023-11-26T00:00:00",
                    "2023-11-27T00:00:00",
                    "2023-11-28T00:00:00",
                    "2023-11-29T00:00:00",
                    "2023-11-30T00:00:00",
                    "2023-12-01T00:00:00",
                    "2023-12-02T00:00:00",
                    "2023-12-03T00:00:00",
                    "2023-12-04T00:00:00",
                    "2023-12-05T00:00:00",
                    "2023-12-06T00:00:00",
                    "2023-12-07T00:00:00",
                    "2023-12-08T00:00:00",
                    "2023-12-09T00:00:00",
                    "2023-12-10T00:00:00",
                    "2023-12-11T00:00:00",
                    "2023-12-12T00:00:00",
                    "2023-12-13T00:00:00",
                    "2023-12-14T00:00:00",
                    "2023-12-15T00:00:00",
                    "2023-12-16T00:00:00",
                    "2023-12-17T00:00:00",
                    "2023-12-18T00:00:00",
                    "2023-12-19T00:00:00",
                    "2023-12-20T00:00:00",
                    "2023-12-21T00:00:00",
                    "2023-12-22T00:00:00",
                    "2023-12-23T00:00:00",
                    "2023-12-24T00:00:00",
                    "2023-12-25T00:00:00",
                    "2023-12-26T00:00:00",
                    "2023-12-27T00:00:00",
                    "2023-12-28T00:00:00",
                    "2023-12-29T00:00:00",
                    "2023-12-30T00:00:00",
                    "2023-12-31T00:00:00",
                    "2024-01-01T00:00:00",
                    "2024-01-02T00:00:00",
                    "2024-01-03T00:00:00",
                    "2024-01-04T00:00:00",
                    "2024-01-05T00:00:00",
                    "2024-01-06T00:00:00",
                    "2024-01-07T00:00:00",
                    "2024-01-08T00:00:00",
                    "2024-01-09T00:00:00"
                  ],
                  "y": [
                    30.483713150024414,
                    26.216901779174805,
                    25.67428970336914,
                    26.392404556274414,
                    27.871564865112305,
                    28.92279624938965,
                    28.42134666442871,
                    27.422529220581055,
                    24.780466079711914,
                    25.762754440307617,
                    28.282258987426758,
                    29.910947799682617,
                    30.326379776000977,
                    31.140653610229492,
                    25.52048683166504,
                    23.729825973510742,
                    27.45526695251465,
                    25.165197372436523,
                    23.385814666748047,
                    24.358808517456055,
                    21.821826934814453,
                    23.036348342895508,
                    23.644411087036133,
                    24.634876251220703,
                    25.079423904418945,
                    25.973539352416992,
                    23.458669662475586,
                    21.737688064575195,
                    22.801923751831055,
                    25.121383666992188,
                    26.19847869873047,
                    24.78369140625,
                    26.440202713012695,
                    25.993906021118164,
                    24.991893768310547,
                    25.01630210876465,
                    21.60353660583496,
                    21.86979866027832,
                    22.6396427154541,
                    25.265050888061523,
                    25.43449592590332,
                    19.542612075805664,
                    20.089818954467773,
                    19.701704025268555,
                    23.958587646484375,
                    24.607831954956055,
                    23.867507934570312,
                    19.71062660217285,
                    19.957773208618164,
                    18.14305305480957,
                    15.035593032836914,
                    15.35874080657959,
                    15.940154075622559,
                    17.663881301879883,
                    18.977231979370117,
                    15.65555191040039,
                    16.345182418823242,
                    18.67698097229004,
                    18.15947151184082,
                    12.494878768920898,
                    12.150989532470703,
                    16.01020622253418,
                    18.32877540588379,
                    15.283702850341797,
                    11.330355644226074,
                    13.476635932922363,
                    14.506689071655273,
                    17.54043197631836,
                    18.89548110961914,
                    20.25297737121582,
                    19.99053382873535,
                    18.734331130981445,
                    9.825726509094238,
                    13.232147216796875,
                    15.61168098449707,
                    13.37055492401123,
                    10.977462768554688,
                    5.7980122566223145,
                    5.146068572998047,
                    9.5708589553833,
                    6.083860397338867,
                    7.377297401428223,
                    11.34167194366455,
                    14.995916366577148,
                    15.749494552612305,
                    17.127859115600586,
                    18.084074020385742,
                    15.606473922729492,
                    17.389127731323242,
                    16.508136749267578,
                    11.202256202697754,
                    7.862173080444336,
                    8.358365058898926,
                    10.812650680541992,
                    9.788691520690918,
                    8.705910682678223,
                    4.9674530029296875,
                    6.667773246765137,
                    10.944101333618164,
                    11.678177833557129,
                    7.154429912567139,
                    9.614838600158691,
                    5.094085693359375,
                    8.141483306884766,
                    12.452666282653809,
                    11.061907768249512,
                    7.964935302734375,
                    6.972009181976318,
                    11.826700210571289,
                    6.794875621795654,
                    4.730368614196777,
                    7.648394584655762,
                    9.66005802154541,
                    6.6386003494262695,
                    0.4189804196357727,
                    1.2680623531341553,
                    -0.19559508562088013,
                    0.6094434261322021,
                    4.7057881355285645,
                    9.16813850402832,
                    10.852151870727539,
                    12.268829345703125,
                    4.950634002685547,
                    2.2117340564727783,
                    -5.192543029785156,
                    1.3542112112045288,
                    36.181541442871094,
                    18.54143714904785,
                    1.1426732540130615,
                    4.720999717712402,
                    5.170130729675293,
                    4.572731018066406,
                    11.424160957336426,
                    7.377610206604004,
                    -3.9054927825927734,
                    0.5273377299308777,
                    6.628028392791748,
                    2.850278377532959,
                    2.011338233947754,
                    5.347480297088623,
                    1.6687544584274292,
                    3.410536289215088,
                    1.7396104335784912,
                    3.3631839752197266,
                    4.833617210388184,
                    3.221684694290161,
                    2.1152374744415283,
                    -0.517480731010437,
                    -0.9486321210861206,
                    1.276712417602539,
                    3.0454673767089844,
                    3.11635422706604,
                    5.494734287261963,
                    8.111061096191406,
                    5.924690246582031,
                    4.733096122741699,
                    2.207695245742798,
                    5.406214714050293,
                    2.9589996337890625,
                    1.4139903783798218,
                    1.033860206604004,
                    3.6507394313812256,
                    -0.5311298966407776,
                    -1.6904042959213257,
                    -1.7296254634857178,
                    -0.15256065130233765,
                    -0.31406450271606445,
                    -1.8713905811309814,
                    -6.988437652587891,
                    -3.9449667930603027,
                    -4.579470157623291,
                    -4.854340076446533,
                    28.120908737182617,
                    86.3311538696289,
                    2.612729787826538,
                    6.4103498458862305,
                    3.5557966232299805,
                    -0.8084883689880371,
                    -5.557098388671875,
                    23.7469425201416,
                    -2.330594778060913,
                    -2.3678483963012695,
                    -9.042778015136719,
                    0.578200101852417,
                    -1.5798513889312744,
                    0.16485634446144104,
                    3.7721848487854004,
                    -1.5153180360794067,
                    -3.263430118560791,
                    -2.127169132232666,
                    13.90551471710205,
                    0.8736923933029175,
                    1.2366137504577637,
                    -0.9873532056808472,
                    7.230771541595459,
                    4.949235916137695,
                    6.671578407287598,
                    6.583639144897461,
                    4.619747638702393,
                    4.497164249420166,
                    -3.4125616550445557,
                    4.397016525268555,
                    3.8095450401306152,
                    -0.7319209575653076,
                    0.19427037239074707,
                    1.7119227647781372,
                    3.432398796081543,
                    10.294708251953125,
                    10.105098724365234,
                    12.532341957092285,
                    15.44661808013916,
                    8.671761512756348,
                    6.552689552307129,
                    -0.1983795166015625,
                    1.1470592021942139,
                    5.011134147644043,
                    6.336577415466309,
                    0.45314401388168335,
                    9.886824607849121,
                    12.043749809265137,
                    11.737128257751465,
                    11.939702033996582,
                    10.943755149841309,
                    14.761763572692871,
                    17.31498146057129,
                    15.658102989196777,
                    14.462525367736816,
                    8.916966438293457,
                    11.141685485839844,
                    14.876103401184082,
                    8.194454193115234,
                    2.3616485595703125,
                    9.377633094787598,
                    14.53161907196045,
                    66.34271240234375,
                    94.78181457519531,
                    97.31765747070312,
                    51.28279495239258,
                    13.11330509185791,
                    14.998007774353027,
                    11.830878257751465,
                    9.60030460357666,
                    13.537442207336426,
                    17.004003524780273,
                    12.158490180969238,
                    9.19059944152832,
                    9.996745109558105,
                    13.58785343170166,
                    16.472002029418945,
                    17.583797454833984,
                    15.167698860168457,
                    5.462932109832764,
                    10.040029525756836,
                    16.3812198638916,
                    15.409611701965332,
                    11.094130516052246,
                    14.212677001953125,
                    18.943937301635742,
                    21.830795288085938,
                    16.606897354125977,
                    12.322142601013184,
                    18.032503128051758,
                    18.71531105041504,
                    16.70331382751465,
                    16.06279182434082,
                    14.614568710327148,
                    16.07980728149414,
                    12.668427467346191,
                    11.892224311828613,
                    13.378413200378418,
                    13.335402488708496,
                    14.002107620239258,
                    16.024188995361328,
                    18.85212516784668,
                    20.818910598754883,
                    20.031057357788086,
                    21.31431007385254,
                    21.568132400512695,
                    22.619665145874023,
                    21.607332229614258,
                    21.906360626220703,
                    25.420114517211914,
                    25.64198112487793,
                    18.871488571166992,
                    19.45392608642578,
                    24.05815315246582,
                    23.8456974029541,
                    17.041831970214844,
                    11.079310417175293,
                    11.510039329528809,
                    15.521201133728027,
                    20.48126220703125,
                    21.69879913330078,
                    20.530153274536133,
                    23.37002944946289,
                    25.25052261352539,
                    29.497446060180664,
                    30.51287269592285,
                    29.604015350341797,
                    29.100393295288086,
                    25.521398544311523,
                    21.280731201171875,
                    20.20389175415039,
                    21.200536727905273,
                    21.70561408996582,
                    23.333677291870117,
                    22.2799129486084,
                    21.761999130249023,
                    23.517362594604492,
                    25.18589973449707,
                    26.318387985229492,
                    28.182218551635742,
                    24.60890007019043,
                    20.233598709106445,
                    21.503835678100586,
                    23.38199806213379,
                    25.90218162536621,
                    27.807283401489258,
                    30.216691970825195,
                    31.656259536743164,
                    26.627859115600586,
                    29.91912078857422,
                    25.274328231811523,
                    19.750104904174805,
                    22.123533248901367,
                    25.92081642150879,
                    28.050024032592773,
                    29.650117874145508,
                    27.613975524902344,
                    26.811283111572266,
                    24.456756591796875,
                    25.857654571533203,
                    27.1829776763916,
                    23.669540405273438,
                    26.93739128112793,
                    29.460710525512695,
                    30.79463005065918,
                    30.14760971069336,
                    27.683395385742188,
                    25.954938888549805,
                    28.31966781616211,
                    26.801557540893555,
                    24.958723068237305,
                    23.695974349975586,
                    25.531158447265625,
                    27.28959083557129,
                    26.636335372924805,
                    28.39936637878418,
                    26.627439498901367,
                    24.612150192260742,
                    24.49632453918457,
                    22.942668914794922,
                    23.776281356811523,
                    24.064542770385742,
                    24.055870056152344,
                    24.125566482543945,
                    24.23267936706543,
                    26.950559616088867,
                    27.93983268737793,
                    24.6723690032959,
                    24.77088737487793,
                    27.0797119140625,
                    28.96430015563965,
                    30.6541748046875,
                    31.732341766357422,
                    30.483713150024414,
                    26.216901779174805,
                    25.67428970336914,
                    26.392404556274414,
                    26.41861915588379,
                    26.94428062438965,
                    25.983972549438477,
                    26.61629867553711,
                    25.77232551574707,
                    26.630277633666992,
                    28.57253646850586,
                    28.769147872924805,
                    27.332656860351562,
                    28.745494842529297,
                    26.434446334838867,
                    25.785694122314453,
                    25.975507736206055,
                    24.407615661621094,
                    24.01505470275879,
                    21.859403610229492,
                    23.790868759155273,
                    23.919954299926758,
                    24.095300674438477,
                    24.56474494934082,
                    24.760009765625,
                    25.536043167114258,
                    24.69921112060547,
                    24.255468368530273,
                    23.202354431152344,
                    22.94161605834961,
                    24.111637115478516,
                    23.176305770874023,
                    21.372726440429688,
                    22.458406448364258,
                    23.15005874633789,
                    21.746347427368164,
                    17.168798446655273,
                    17.53694725036621,
                    18.72722816467285,
                    19.95274543762207,
                    22.5290584564209,
                    20.615217208862305,
                    20.99705696105957,
                    21.131855010986328,
                    23.958587646484375,
                    24.607831954956055,
                    23.867507934570312,
                    19.71062660217285,
                    19.957773208618164,
                    18.14305305480957,
                    15.035593032836914,
                    15.35874080657959,
                    15.940154075622559,
                    17.663881301879883,
                    18.977231979370117,
                    15.65555191040039,
                    16.345182418823242,
                    18.67698097229004,
                    18.15947151184082,
                    12.494878768920898,
                    12.150989532470703,
                    16.01020622253418,
                    18.32877540588379,
                    15.283702850341797,
                    11.330355644226074,
                    13.476635932922363,
                    14.506689071655273,
                    17.54043197631836,
                    18.89548110961914,
                    20.25297737121582,
                    19.99053382873535,
                    18.734331130981445,
                    9.825726509094238,
                    13.232147216796875,
                    15.61168098449707,
                    13.37055492401123,
                    10.977462768554688,
                    5.7980122566223145,
                    5.146068572998047,
                    9.5708589553833,
                    6.083860397338867,
                    7.377297401428223,
                    11.34167194366455,
                    14.995916366577148,
                    15.749494552612305,
                    17.127859115600586,
                    18.084074020385742,
                    15.606473922729492,
                    17.389127731323242,
                    16.508136749267578,
                    11.202256202697754,
                    7.862173080444336,
                    8.358365058898926,
                    10.812650680541992,
                    9.788691520690918,
                    8.705910682678223,
                    4.9674530029296875,
                    6.667773246765137,
                    10.944101333618164,
                    11.678177833557129,
                    7.154429912567139,
                    9.614838600158691,
                    5.094085693359375,
                    8.141483306884766,
                    12.452666282653809,
                    11.061907768249512,
                    7.964935302734375,
                    6.972009181976318,
                    11.826700210571289,
                    6.794875621795654,
                    4.730368614196777,
                    7.648394584655762,
                    9.66005802154541,
                    6.6386003494262695,
                    0.4189804196357727,
                    1.2680623531341553,
                    -0.19559508562088013,
                    0.6094434261322021,
                    4.7057881355285645,
                    9.16813850402832,
                    10.852151870727539,
                    12.268829345703125,
                    4.950634002685547,
                    2.2117340564727783,
                    -5.192543029785156,
                    1.3542112112045288,
                    36.181541442871094,
                    18.54143714904785,
                    1.1426732540130615,
                    4.720999717712402,
                    5.170130729675293,
                    4.572731018066406,
                    11.424160957336426,
                    7.377610206604004,
                    -3.9054927825927734,
                    0.5273377299308777,
                    6.628028392791748,
                    2.850278377532959,
                    2.011338233947754,
                    5.347480297088623,
                    1.6687544584274292,
                    3.410536289215088,
                    1.7396104335784912,
                    3.3631839752197266,
                    4.833617210388184,
                    3.221684694290161,
                    2.1152374744415283,
                    -0.517480731010437,
                    -0.9486321210861206,
                    1.276712417602539,
                    3.0454673767089844,
                    3.11635422706604,
                    5.494734287261963,
                    8.111061096191406,
                    5.924690246582031,
                    4.733096122741699,
                    2.207695245742798,
                    5.406214714050293,
                    2.9589996337890625,
                    1.4139903783798218,
                    1.033860206604004,
                    3.6507394313812256,
                    -0.5311298966407776,
                    -1.6904042959213257,
                    -1.7296254634857178,
                    -0.15256065130233765,
                    -0.31406450271606445,
                    -1.8713905811309814,
                    -6.988437652587891,
                    -3.9449667930603027,
                    -4.579470157623291,
                    -4.854340076446533,
                    28.120908737182617,
                    86.3311538696289,
                    2.612729787826538,
                    6.4103498458862305,
                    3.5557966232299805,
                    -0.8084883689880371,
                    -5.557098388671875,
                    23.7469425201416,
                    -2.330594778060913,
                    -2.3678483963012695,
                    -9.042778015136719,
                    0.578200101852417,
                    -1.5798513889312744,
                    0.16485634446144104,
                    3.7721848487854004,
                    -1.5153180360794067,
                    -3.263430118560791,
                    -2.127169132232666,
                    13.90551471710205,
                    0.8736923933029175,
                    1.2366137504577637,
                    -0.9873532056808472,
                    7.230771541595459,
                    4.949235916137695,
                    6.671578407287598,
                    6.583639144897461,
                    4.619747638702393,
                    4.497164249420166,
                    -3.4125616550445557,
                    4.397016525268555,
                    3.8095450401306152,
                    -0.7319209575653076,
                    0.19427037239074707,
                    1.7119227647781372,
                    3.432398796081543,
                    10.294708251953125,
                    10.105098724365234,
                    12.532341957092285,
                    15.44661808013916,
                    8.671761512756348,
                    6.552689552307129,
                    -0.1983795166015625,
                    1.1470592021942139,
                    5.011134147644043,
                    6.336577415466309,
                    0.45314401388168335,
                    9.886824607849121,
                    12.043749809265137,
                    11.737128257751465,
                    11.939702033996582,
                    10.943755149841309,
                    14.761763572692871,
                    17.31498146057129,
                    15.658102989196777,
                    14.462525367736816,
                    8.916966438293457,
                    11.141685485839844,
                    14.876103401184082,
                    8.194454193115234,
                    2.3616485595703125,
                    9.377633094787598,
                    14.53161907196045,
                    66.34271240234375,
                    94.78181457519531,
                    97.31765747070312,
                    51.28279495239258,
                    13.11330509185791,
                    14.998007774353027,
                    11.830878257751465,
                    9.60030460357666,
                    13.537442207336426,
                    17.004003524780273,
                    12.158490180969238,
                    9.19059944152832,
                    9.996745109558105,
                    13.58785343170166,
                    16.472002029418945,
                    17.583797454833984,
                    15.167698860168457,
                    5.462932109832764,
                    10.040029525756836,
                    16.3812198638916,
                    15.409611701965332,
                    11.094130516052246,
                    14.212677001953125,
                    18.943937301635742,
                    21.830795288085938,
                    16.606897354125977,
                    12.322142601013184,
                    18.032503128051758,
                    18.71531105041504,
                    16.70331382751465,
                    16.06279182434082,
                    14.614568710327148,
                    16.07980728149414,
                    12.668427467346191,
                    11.892224311828613,
                    13.378413200378418,
                    13.335402488708496,
                    14.002107620239258,
                    16.024188995361328,
                    18.85212516784668,
                    20.818910598754883,
                    20.031057357788086,
                    21.31431007385254,
                    21.568132400512695,
                    22.619665145874023,
                    21.607332229614258,
                    21.906360626220703,
                    25.420114517211914,
                    25.64198112487793,
                    18.871488571166992,
                    19.45392608642578,
                    24.05815315246582,
                    23.8456974029541,
                    17.041831970214844,
                    11.079310417175293,
                    11.510039329528809,
                    15.521201133728027,
                    20.48126220703125,
                    21.69879913330078,
                    20.530153274536133,
                    23.37002944946289,
                    25.25052261352539,
                    29.497446060180664,
                    30.51287269592285,
                    29.604015350341797,
                    29.100393295288086,
                    25.521398544311523,
                    21.280731201171875,
                    20.20389175415039,
                    21.200536727905273,
                    21.70561408996582,
                    23.333677291870117,
                    22.2799129486084,
                    21.761999130249023,
                    23.517362594604492,
                    25.18589973449707,
                    26.318387985229492,
                    28.182218551635742,
                    24.60890007019043,
                    20.233598709106445,
                    21.503835678100586,
                    23.38199806213379,
                    25.90218162536621,
                    27.807283401489258,
                    30.216691970825195,
                    31.656259536743164,
                    26.627859115600586,
                    29.91912078857422,
                    25.274328231811523,
                    19.750104904174805,
                    22.123533248901367,
                    25.92081642150879,
                    28.050024032592773,
                    29.650117874145508,
                    27.613975524902344,
                    26.811283111572266,
                    24.456756591796875,
                    25.857654571533203,
                    27.1829776763916,
                    23.669540405273438,
                    26.93739128112793,
                    29.460710525512695,
                    30.79463005065918,
                    30.14760971069336,
                    27.683395385742188,
                    25.954938888549805,
                    28.31966781616211,
                    26.801557540893555,
                    24.958723068237305,
                    23.695974349975586,
                    25.531158447265625,
                    27.28959083557129,
                    26.636335372924805,
                    28.39936637878418,
                    26.627439498901367,
                    24.612150192260742,
                    24.49632453918457,
                    22.942668914794922,
                    23.776281356811523,
                    24.064542770385742,
                    24.055870056152344,
                    24.125566482543945,
                    24.23267936706543,
                    26.950559616088867,
                    27.93983268737793,
                    24.6723690032959,
                    24.77088737487793,
                    27.0797119140625,
                    28.96430015563965,
                    30.6541748046875,
                    31.732341766357422,
                    30.483713150024414,
                    26.216901779174805,
                    25.67428970336914,
                    26.392404556274414,
                    26.41861915588379,
                    26.94428062438965,
                    25.983972549438477,
                    26.61629867553711,
                    25.77232551574707,
                    26.630277633666992,
                    28.57253646850586,
                    28.769147872924805,
                    27.332656860351562,
                    28.745494842529297,
                    26.434446334838867,
                    25.785694122314453,
                    25.975507736206055,
                    24.407615661621094,
                    24.01505470275879,
                    21.859403610229492,
                    23.790868759155273,
                    23.919954299926758,
                    24.095300674438477,
                    24.56474494934082,
                    24.760009765625,
                    25.536043167114258,
                    24.69921112060547,
                    24.255468368530273,
                    23.202354431152344,
                    22.94161605834961,
                    24.111637115478516,
                    23.176305770874023,
                    21.372726440429688,
                    22.458406448364258,
                    23.15005874633789,
                    21.746347427368164,
                    17.168798446655273,
                    17.53694725036621,
                    18.72722816467285,
                    19.95274543762207,
                    22.5290584564209,
                    20.615217208862305,
                    20.99705696105957,
                    21.131855010986328,
                    23.958587646484375,
                    24.607831954956055,
                    23.867507934570312,
                    19.71062660217285,
                    19.957773208618164,
                    18.14305305480957,
                    15.035593032836914,
                    15.35874080657959,
                    15.940154075622559,
                    17.663881301879883,
                    18.977231979370117,
                    15.65555191040039,
                    16.345182418823242,
                    18.67698097229004,
                    18.15947151184082,
                    12.494878768920898,
                    12.150989532470703,
                    16.01020622253418,
                    18.32877540588379,
                    15.283702850341797,
                    11.330355644226074,
                    13.476635932922363,
                    14.506689071655273,
                    17.54043197631836,
                    18.89548110961914,
                    20.25297737121582,
                    19.99053382873535,
                    18.734331130981445,
                    9.825726509094238,
                    13.232147216796875,
                    15.61168098449707,
                    13.37055492401123,
                    10.977462768554688,
                    5.7980122566223145,
                    5.146068572998047,
                    9.5708589553833,
                    9.050152778625488,
                    8.779759407043457,
                    12.11991024017334,
                    16.130281448364258,
                    14.886034965515137,
                    14.882960319519043,
                    16.224349975585938,
                    12.121407508850098,
                    14.473631858825684,
                    12.245123863220215,
                    7.476541042327881,
                    5.200620651245117,
                    7.263455390930176,
                    11.105340003967285,
                    10.820481300354004,
                    10.56688404083252,
                    8.705107688903809,
                    10.3868989944458,
                    12.173357963562012,
                    10.416428565979004,
                    3.887965679168701,
                    9.563821792602539,
                    3.5539019107818604,
                    6.216161727905273,
                    9.962483406066895,
                    8.424603462219238,
                    5.355704307556152,
                    4.8732123374938965,
                    10.020376205444336,
                    4.817195892333984,
                    5.356208324432373,
                    10.233716011047363,
                    10.223854064941406,
                    6.690167427062988,
                    -0.16861140727996826,
                    1.2680623531341553,
                    -0.19559508562088013,
                    0.6094434261322021,
                    4.7057881355285645,
                    9.16813850402832,
                    10.852151870727539,
                    12.268829345703125,
                    4.950634002685547,
                    2.2117340564727783,
                    -5.192543029785156,
                    1.3542112112045288,
                    36.181541442871094,
                    18.54143714904785,
                    1.1426732540130615,
                    4.720999717712402,
                    5.170130729675293,
                    4.572731018066406,
                    11.424160957336426,
                    7.377610206604004,
                    -3.9054932594299316,
                    0.5273371934890747,
                    6.628027439117432,
                    2.8502790927886963,
                    2.011338233947754,
                    5.347479820251465,
                    1.66875422000885,
                    3.410536289215088,
                    1.7396106719970703,
                    3.3631844520568848,
                    4.833617210388184,
                    3.221684694290161,
                    2.11523699760437,
                    -0.5174805521965027,
                    -0.9486318826675415
                  ],
                  "type": "scatter"
                }
              ],
              "layout": {
                "template": {
                  "data": {
                    "histogram2dcontour": [
                      {
                        "type": "histogram2dcontour",
                        "colorbar": {
                          "outlinewidth": 0,
                          "ticks": ""
                        },
                        "colorscale": [
                          [
                            0,
                            "#0d0887"
                          ],
                          [
                            0.1111111111111111,
                            "#46039f"
                          ],
                          [
                            0.2222222222222222,
                            "#7201a8"
                          ],
                          [
                            0.3333333333333333,
                            "#9c179e"
                          ],
                          [
                            0.4444444444444444,
                            "#bd3786"
                          ],
                          [
                            0.5555555555555556,
                            "#d8576b"
                          ],
                          [
                            0.6666666666666666,
                            "#ed7953"
                          ],
                          [
                            0.7777777777777778,
                            "#fb9f3a"
                          ],
                          [
                            0.8888888888888888,
                            "#fdca26"
                          ],
                          [
                            1,
                            "#f0f921"
                          ]
                        ]
                      }
                    ],
                    "choropleth": [
                      {
                        "type": "choropleth",
                        "colorbar": {
                          "outlinewidth": 0,
                          "ticks": ""
                        }
                      }
                    ],
                    "histogram2d": [
                      {
                        "type": "histogram2d",
                        "colorbar": {
                          "outlinewidth": 0,
                          "ticks": ""
                        },
                        "colorscale": [
                          [
                            0,
                            "#0d0887"
                          ],
                          [
                            0.1111111111111111,
                            "#46039f"
                          ],
                          [
                            0.2222222222222222,
                            "#7201a8"
                          ],
                          [
                            0.3333333333333333,
                            "#9c179e"
                          ],
                          [
                            0.4444444444444444,
                            "#bd3786"
                          ],
                          [
                            0.5555555555555556,
                            "#d8576b"
                          ],
                          [
                            0.6666666666666666,
                            "#ed7953"
                          ],
                          [
                            0.7777777777777778,
                            "#fb9f3a"
                          ],
                          [
                            0.8888888888888888,
                            "#fdca26"
                          ],
                          [
                            1,
                            "#f0f921"
                          ]
                        ]
                      }
                    ],
                    "heatmap": [
                      {
                        "type": "heatmap",
                        "colorbar": {
                          "outlinewidth": 0,
                          "ticks": ""
                        },
                        "colorscale": [
                          [
                            0,
                            "#0d0887"
                          ],
                          [
                            0.1111111111111111,
                            "#46039f"
                          ],
                          [
                            0.2222222222222222,
                            "#7201a8"
                          ],
                          [
                            0.3333333333333333,
                            "#9c179e"
                          ],
                          [
                            0.4444444444444444,
                            "#bd3786"
                          ],
                          [
                            0.5555555555555556,
                            "#d8576b"
                          ],
                          [
                            0.6666666666666666,
                            "#ed7953"
                          ],
                          [
                            0.7777777777777778,
                            "#fb9f3a"
                          ],
                          [
                            0.8888888888888888,
                            "#fdca26"
                          ],
                          [
                            1,
                            "#f0f921"
                          ]
                        ]
                      }
                    ],
                    "heatmapgl": [
                      {
                        "type": "heatmapgl",
                        "colorbar": {
                          "outlinewidth": 0,
                          "ticks": ""
                        },
                        "colorscale": [
                          [
                            0,
                            "#0d0887"
                          ],
                          [
                            0.1111111111111111,
                            "#46039f"
                          ],
                          [
                            0.2222222222222222,
                            "#7201a8"
                          ],
                          [
                            0.3333333333333333,
                            "#9c179e"
                          ],
                          [
                            0.4444444444444444,
                            "#bd3786"
                          ],
                          [
                            0.5555555555555556,
                            "#d8576b"
                          ],
                          [
                            0.6666666666666666,
                            "#ed7953"
                          ],
                          [
                            0.7777777777777778,
                            "#fb9f3a"
                          ],
                          [
                            0.8888888888888888,
                            "#fdca26"
                          ],
                          [
                            1,
                            "#f0f921"
                          ]
                        ]
                      }
                    ],
                    "contourcarpet": [
                      {
                        "type": "contourcarpet",
                        "colorbar": {
                          "outlinewidth": 0,
                          "ticks": ""
                        }
                      }
                    ],
                    "contour": [
                      {
                        "type": "contour",
                        "colorbar": {
                          "outlinewidth": 0,
                          "ticks": ""
                        },
                        "colorscale": [
                          [
                            0,
                            "#0d0887"
                          ],
                          [
                            0.1111111111111111,
                            "#46039f"
                          ],
                          [
                            0.2222222222222222,
                            "#7201a8"
                          ],
                          [
                            0.3333333333333333,
                            "#9c179e"
                          ],
                          [
                            0.4444444444444444,
                            "#bd3786"
                          ],
                          [
                            0.5555555555555556,
                            "#d8576b"
                          ],
                          [
                            0.6666666666666666,
                            "#ed7953"
                          ],
                          [
                            0.7777777777777778,
                            "#fb9f3a"
                          ],
                          [
                            0.8888888888888888,
                            "#fdca26"
                          ],
                          [
                            1,
                            "#f0f921"
                          ]
                        ]
                      }
                    ],
                    "surface": [
                      {
                        "type": "surface",
                        "colorbar": {
                          "outlinewidth": 0,
                          "ticks": ""
                        },
                        "colorscale": [
                          [
                            0,
                            "#0d0887"
                          ],
                          [
                            0.1111111111111111,
                            "#46039f"
                          ],
                          [
                            0.2222222222222222,
                            "#7201a8"
                          ],
                          [
                            0.3333333333333333,
                            "#9c179e"
                          ],
                          [
                            0.4444444444444444,
                            "#bd3786"
                          ],
                          [
                            0.5555555555555556,
                            "#d8576b"
                          ],
                          [
                            0.6666666666666666,
                            "#ed7953"
                          ],
                          [
                            0.7777777777777778,
                            "#fb9f3a"
                          ],
                          [
                            0.8888888888888888,
                            "#fdca26"
                          ],
                          [
                            1,
                            "#f0f921"
                          ]
                        ]
                      }
                    ],
                    "mesh3d": [
                      {
                        "type": "mesh3d",
                        "colorbar": {
                          "outlinewidth": 0,
                          "ticks": ""
                        }
                      }
                    ],
                    "scatter": [
                      {
                        "fillpattern": {
                          "fillmode": "overlay",
                          "size": 10,
                          "solidity": 0.2
                        },
                        "type": "scatter"
                      }
                    ],
                    "parcoords": [
                      {
                        "type": "parcoords",
                        "line": {
                          "colorbar": {
                            "outlinewidth": 0,
                            "ticks": ""
                          }
                        }
                      }
                    ],
                    "scatterpolargl": [
                      {
                        "type": "scatterpolargl",
                        "marker": {
                          "colorbar": {
                            "outlinewidth": 0,
                            "ticks": ""
                          }
                        }
                      }
                    ],
                    "bar": [
                      {
                        "error_x": {
                          "color": "#2a3f5f"
                        },
                        "error_y": {
                          "color": "#2a3f5f"
                        },
                        "marker": {
                          "line": {
                            "color": "#E5ECF6",
                            "width": 0.5
                          },
                          "pattern": {
                            "fillmode": "overlay",
                            "size": 10,
                            "solidity": 0.2
                          }
                        },
                        "type": "bar"
                      }
                    ],
                    "scattergeo": [
                      {
                        "type": "scattergeo",
                        "marker": {
                          "colorbar": {
                            "outlinewidth": 0,
                            "ticks": ""
                          }
                        }
                      }
                    ],
                    "scatterpolar": [
                      {
                        "type": "scatterpolar",
                        "marker": {
                          "colorbar": {
                            "outlinewidth": 0,
                            "ticks": ""
                          }
                        }
                      }
                    ],
                    "histogram": [
                      {
                        "marker": {
                          "pattern": {
                            "fillmode": "overlay",
                            "size": 10,
                            "solidity": 0.2
                          }
                        },
                        "type": "histogram"
                      }
                    ],
                    "scattergl": [
                      {
                        "type": "scattergl",
                        "marker": {
                          "colorbar": {
                            "outlinewidth": 0,
                            "ticks": ""
                          }
                        }
                      }
                    ],
                    "scatter3d": [
                      {
                        "type": "scatter3d",
                        "line": {
                          "colorbar": {
                            "outlinewidth": 0,
                            "ticks": ""
                          }
                        },
                        "marker": {
                          "colorbar": {
                            "outlinewidth": 0,
                            "ticks": ""
                          }
                        }
                      }
                    ],
                    "scattermapbox": [
                      {
                        "type": "scattermapbox",
                        "marker": {
                          "colorbar": {
                            "outlinewidth": 0,
                            "ticks": ""
                          }
                        }
                      }
                    ],
                    "scatterternary": [
                      {
                        "type": "scatterternary",
                        "marker": {
                          "colorbar": {
                            "outlinewidth": 0,
                            "ticks": ""
                          }
                        }
                      }
                    ],
                    "scattercarpet": [
                      {
                        "type": "scattercarpet",
                        "marker": {
                          "colorbar": {
                            "outlinewidth": 0,
                            "ticks": ""
                          }
                        }
                      }
                    ],
                    "carpet": [
                      {
                        "aaxis": {
                          "endlinecolor": "#2a3f5f",
                          "gridcolor": "white",
                          "linecolor": "white",
                          "minorgridcolor": "white",
                          "startlinecolor": "#2a3f5f"
                        },
                        "baxis": {
                          "endlinecolor": "#2a3f5f",
                          "gridcolor": "white",
                          "linecolor": "white",
                          "minorgridcolor": "white",
                          "startlinecolor": "#2a3f5f"
                        },
                        "type": "carpet"
                      }
                    ],
                    "table": [
                      {
                        "cells": {
                          "fill": {
                            "color": "#EBF0F8"
                          },
                          "line": {
                            "color": "white"
                          }
                        },
                        "header": {
                          "fill": {
                            "color": "#C8D4E3"
                          },
                          "line": {
                            "color": "white"
                          }
                        },
                        "type": "table"
                      }
                    ],
                    "barpolar": [
                      {
                        "marker": {
                          "line": {
                            "color": "#E5ECF6",
                            "width": 0.5
                          },
                          "pattern": {
                            "fillmode": "overlay",
                            "size": 10,
                            "solidity": 0.2
                          }
                        },
                        "type": "barpolar"
                      }
                    ],
                    "pie": [
                      {
                        "automargin": true,
                        "type": "pie"
                      }
                    ]
                  },
                  "layout": {
                    "autotypenumbers": "strict",
                    "colorway": [
                      "#636efa",
                      "#EF553B",
                      "#00cc96",
                      "#ab63fa",
                      "#FFA15A",
                      "#19d3f3",
                      "#FF6692",
                      "#B6E880",
                      "#FF97FF",
                      "#FECB52"
                    ],
                    "font": {
                      "color": "#2a3f5f"
                    },
                    "hovermode": "closest",
                    "hoverlabel": {
                      "align": "left"
                    },
                    "paper_bgcolor": "white",
                    "plot_bgcolor": "#E5ECF6",
                    "polar": {
                      "bgcolor": "#E5ECF6",
                      "angularaxis": {
                        "gridcolor": "white",
                        "linecolor": "white",
                        "ticks": ""
                      },
                      "radialaxis": {
                        "gridcolor": "white",
                        "linecolor": "white",
                        "ticks": ""
                      }
                    },
                    "ternary": {
                      "bgcolor": "#E5ECF6",
                      "aaxis": {
                        "gridcolor": "white",
                        "linecolor": "white",
                        "ticks": ""
                      },
                      "baxis": {
                        "gridcolor": "white",
                        "linecolor": "white",
                        "ticks": ""
                      },
                      "caxis": {
                        "gridcolor": "white",
                        "linecolor": "white",
                        "ticks": ""
                      }
                    },
                    "coloraxis": {
                      "colorbar": {
                        "outlinewidth": 0,
                        "ticks": ""
                      }
                    },
                    "colorscale": {
                      "sequential": [
                        [
                          0,
                          "#0d0887"
                        ],
                        [
                          0.1111111111111111,
                          "#46039f"
                        ],
                        [
                          0.2222222222222222,
                          "#7201a8"
                        ],
                        [
                          0.3333333333333333,
                          "#9c179e"
                        ],
                        [
                          0.4444444444444444,
                          "#bd3786"
                        ],
                        [
                          0.5555555555555556,
                          "#d8576b"
                        ],
                        [
                          0.6666666666666666,
                          "#ed7953"
                        ],
                        [
                          0.7777777777777778,
                          "#fb9f3a"
                        ],
                        [
                          0.8888888888888888,
                          "#fdca26"
                        ],
                        [
                          1,
                          "#f0f921"
                        ]
                      ],
                      "sequentialminus": [
                        [
                          0,
                          "#0d0887"
                        ],
                        [
                          0.1111111111111111,
                          "#46039f"
                        ],
                        [
                          0.2222222222222222,
                          "#7201a8"
                        ],
                        [
                          0.3333333333333333,
                          "#9c179e"
                        ],
                        [
                          0.4444444444444444,
                          "#bd3786"
                        ],
                        [
                          0.5555555555555556,
                          "#d8576b"
                        ],
                        [
                          0.6666666666666666,
                          "#ed7953"
                        ],
                        [
                          0.7777777777777778,
                          "#fb9f3a"
                        ],
                        [
                          0.8888888888888888,
                          "#fdca26"
                        ],
                        [
                          1,
                          "#f0f921"
                        ]
                      ],
                      "diverging": [
                        [
                          0,
                          "#8e0152"
                        ],
                        [
                          0.1,
                          "#c51b7d"
                        ],
                        [
                          0.2,
                          "#de77ae"
                        ],
                        [
                          0.3,
                          "#f1b6da"
                        ],
                        [
                          0.4,
                          "#fde0ef"
                        ],
                        [
                          0.5,
                          "#f7f7f7"
                        ],
                        [
                          0.6,
                          "#e6f5d0"
                        ],
                        [
                          0.7,
                          "#b8e186"
                        ],
                        [
                          0.8,
                          "#7fbc41"
                        ],
                        [
                          0.9,
                          "#4d9221"
                        ],
                        [
                          1,
                          "#276419"
                        ]
                      ]
                    },
                    "xaxis": {
                      "gridcolor": "white",
                      "linecolor": "white",
                      "ticks": "",
                      "title": {
                        "standoff": 15
                      },
                      "zerolinecolor": "white",
                      "automargin": true,
                      "zerolinewidth": 2
                    },
                    "yaxis": {
                      "gridcolor": "white",
                      "linecolor": "white",
                      "ticks": "",
                      "title": {
                        "standoff": 15
                      },
                      "zerolinecolor": "white",
                      "automargin": true,
                      "zerolinewidth": 2
                    },
                    "scene": {
                      "xaxis": {
                        "backgroundcolor": "#E5ECF6",
                        "gridcolor": "white",
                        "linecolor": "white",
                        "showbackground": true,
                        "ticks": "",
                        "zerolinecolor": "white",
                        "gridwidth": 2
                      },
                      "yaxis": {
                        "backgroundcolor": "#E5ECF6",
                        "gridcolor": "white",
                        "linecolor": "white",
                        "showbackground": true,
                        "ticks": "",
                        "zerolinecolor": "white",
                        "gridwidth": 2
                      },
                      "zaxis": {
                        "backgroundcolor": "#E5ECF6",
                        "gridcolor": "white",
                        "linecolor": "white",
                        "showbackground": true,
                        "ticks": "",
                        "zerolinecolor": "white",
                        "gridwidth": 2
                      }
                    },
                    "shapedefaults": {
                      "line": {
                        "color": "#2a3f5f"
                      }
                    },
                    "annotationdefaults": {
                      "arrowcolor": "#2a3f5f",
                      "arrowhead": 0,
                      "arrowwidth": 1
                    },
                    "geo": {
                      "bgcolor": "white",
                      "landcolor": "#E5ECF6",
                      "subunitcolor": "white",
                      "showland": true,
                      "showlakes": true,
                      "lakecolor": "white"
                    },
                    "title": {
                      "x": 0.05
                    },
                    "mapbox": {
                      "style": "light"
                    }
                  }
                },
                "xaxis": {
                  "rangeslider": {
                    "visible": true
                  },
                  "title": {
                    "text": "Date"
                  },
                  "type": "date"
                },
                "yaxis": {
                  "title": {
                    "text": "Value"
                  }
                }
              },
              "config": {
                "plotlyServerURL": "https://plot.ly"
              }
            },
            "text/html": [
              "<div>                            <div id=\"a0ef975a-f2d3-493a-8c5a-a78b2614260d\" class=\"plotly-graph-div\" style=\"height:525px; width:100%;\"></div>            <script type=\"text/javascript\">                require([\"plotly\"], function(Plotly) {                    window.PLOTLYENV=window.PLOTLYENV || {};                                    if (document.getElementById(\"a0ef975a-f2d3-493a-8c5a-a78b2614260d\")) {                    Plotly.newPlot(                        \"a0ef975a-f2d3-493a-8c5a-a78b2614260d\",                        [{\"mode\":\"lines\",\"name\":\"Actual\",\"x\":[\"2020-08-18T00:00:00\",\"2020-08-19T00:00:00\",\"2020-08-20T00:00:00\",\"2020-08-21T00:00:00\",\"2020-08-22T00:00:00\",\"2020-08-23T00:00:00\",\"2020-08-24T00:00:00\",\"2020-08-25T00:00:00\",\"2020-08-26T00:00:00\",\"2020-08-27T00:00:00\",\"2020-08-28T00:00:00\",\"2020-08-29T00:00:00\",\"2020-08-30T00:00:00\",\"2020-08-31T00:00:00\",\"2020-09-01T00:00:00\",\"2020-09-02T00:00:00\",\"2020-09-03T00:00:00\",\"2020-09-04T00:00:00\",\"2020-09-05T00:00:00\",\"2020-09-06T00:00:00\",\"2020-09-07T00:00:00\",\"2020-09-08T00:00:00\",\"2020-09-09T00:00:00\",\"2020-09-10T00:00:00\",\"2020-09-11T00:00:00\",\"2020-09-12T00:00:00\",\"2020-09-13T00:00:00\",\"2020-09-14T00:00:00\",\"2020-09-15T00:00:00\",\"2020-09-16T00:00:00\",\"2020-09-17T00:00:00\",\"2020-09-18T00:00:00\",\"2020-09-19T00:00:00\",\"2020-09-20T00:00:00\",\"2020-09-21T00:00:00\",\"2020-09-22T00:00:00\",\"2020-09-23T00:00:00\",\"2020-09-24T00:00:00\",\"2020-09-25T00:00:00\",\"2020-09-26T00:00:00\",\"2020-09-27T00:00:00\",\"2020-09-28T00:00:00\",\"2020-09-29T00:00:00\",\"2020-09-30T00:00:00\",\"2020-10-01T00:00:00\",\"2020-10-02T00:00:00\",\"2020-10-03T00:00:00\",\"2020-10-04T00:00:00\",\"2020-10-05T00:00:00\",\"2020-10-06T00:00:00\",\"2020-10-07T00:00:00\",\"2020-10-08T00:00:00\",\"2020-10-09T00:00:00\",\"2020-10-10T00:00:00\",\"2020-10-11T00:00:00\",\"2020-10-12T00:00:00\",\"2020-10-13T00:00:00\",\"2020-10-14T00:00:00\",\"2020-10-15T00:00:00\",\"2020-10-16T00:00:00\",\"2020-10-17T00:00:00\",\"2020-10-18T00:00:00\",\"2020-10-19T00:00:00\",\"2020-10-20T00:00:00\",\"2020-10-21T00:00:00\",\"2020-10-22T00:00:00\",\"2020-10-23T00:00:00\",\"2020-10-24T00:00:00\",\"2020-10-25T00:00:00\",\"2020-10-26T00:00:00\",\"2020-10-27T00:00:00\",\"2020-10-28T00:00:00\",\"2020-10-29T00:00:00\",\"2020-10-30T00:00:00\",\"2020-10-31T00:00:00\",\"2020-11-01T00:00:00\",\"2020-11-02T00:00:00\",\"2020-11-03T00:00:00\",\"2020-11-04T00:00:00\",\"2020-11-05T00:00:00\",\"2020-11-06T00:00:00\",\"2020-11-07T00:00:00\",\"2020-11-08T00:00:00\",\"2020-11-09T00:00:00\",\"2020-11-10T00:00:00\",\"2020-11-11T00:00:00\",\"2020-11-12T00:00:00\",\"2020-11-13T00:00:00\",\"2020-11-14T00:00:00\",\"2020-11-15T00:00:00\",\"2020-11-16T00:00:00\",\"2020-11-17T00:00:00\",\"2020-11-18T00:00:00\",\"2020-11-19T00:00:00\",\"2020-11-20T00:00:00\",\"2020-11-21T00:00:00\",\"2020-11-22T00:00:00\",\"2020-11-23T00:00:00\",\"2020-11-24T00:00:00\",\"2020-11-25T00:00:00\",\"2020-11-26T00:00:00\",\"2020-11-27T00:00:00\",\"2020-11-28T00:00:00\",\"2020-11-29T00:00:00\",\"2020-11-30T00:00:00\",\"2020-12-01T00:00:00\",\"2020-12-02T00:00:00\",\"2020-12-03T00:00:00\",\"2020-12-04T00:00:00\",\"2020-12-05T00:00:00\",\"2020-12-06T00:00:00\",\"2020-12-07T00:00:00\",\"2020-12-08T00:00:00\",\"2020-12-09T00:00:00\",\"2020-12-10T00:00:00\",\"2020-12-11T00:00:00\",\"2020-12-12T00:00:00\",\"2020-12-13T00:00:00\",\"2020-12-14T00:00:00\",\"2020-12-15T00:00:00\",\"2020-12-16T00:00:00\",\"2020-12-17T00:00:00\",\"2020-12-18T00:00:00\",\"2020-12-19T00:00:00\",\"2020-12-20T00:00:00\",\"2020-12-21T00:00:00\",\"2020-12-22T00:00:00\",\"2020-12-23T00:00:00\",\"2020-12-24T00:00:00\",\"2020-12-25T00:00:00\",\"2020-12-26T00:00:00\",\"2020-12-27T00:00:00\",\"2020-12-28T00:00:00\",\"2020-12-29T00:00:00\",\"2020-12-30T00:00:00\",\"2020-12-31T00:00:00\",\"2021-01-01T00:00:00\",\"2021-01-02T00:00:00\",\"2021-01-03T00:00:00\",\"2021-01-04T00:00:00\",\"2021-01-05T00:00:00\",\"2021-01-06T00:00:00\",\"2021-01-07T00:00:00\",\"2021-01-08T00:00:00\",\"2021-01-09T00:00:00\",\"2021-01-10T00:00:00\",\"2021-01-11T00:00:00\",\"2021-01-12T00:00:00\",\"2021-01-13T00:00:00\",\"2021-01-14T00:00:00\",\"2021-01-15T00:00:00\",\"2021-01-16T00:00:00\",\"2021-01-17T00:00:00\",\"2021-01-18T00:00:00\",\"2021-01-19T00:00:00\",\"2021-01-20T00:00:00\",\"2021-01-21T00:00:00\",\"2021-01-22T00:00:00\",\"2021-01-23T00:00:00\",\"2021-01-24T00:00:00\",\"2021-01-25T00:00:00\",\"2021-01-26T00:00:00\",\"2021-01-27T00:00:00\",\"2021-01-28T00:00:00\",\"2021-01-29T00:00:00\",\"2021-01-30T00:00:00\",\"2021-01-31T00:00:00\",\"2021-02-01T00:00:00\",\"2021-02-02T00:00:00\",\"2021-02-03T00:00:00\",\"2021-02-04T00:00:00\",\"2021-02-05T00:00:00\",\"2021-02-06T00:00:00\",\"2021-02-07T00:00:00\",\"2021-02-08T00:00:00\",\"2021-02-09T00:00:00\",\"2021-02-10T00:00:00\",\"2021-02-11T00:00:00\",\"2021-02-12T00:00:00\",\"2021-02-13T00:00:00\",\"2021-02-14T00:00:00\",\"2021-02-15T00:00:00\",\"2021-02-16T00:00:00\",\"2021-02-17T00:00:00\",\"2021-02-18T00:00:00\",\"2021-02-19T00:00:00\",\"2021-02-20T00:00:00\",\"2021-02-21T00:00:00\",\"2021-02-22T00:00:00\",\"2021-02-23T00:00:00\",\"2021-02-24T00:00:00\",\"2021-02-25T00:00:00\",\"2021-02-26T00:00:00\",\"2021-02-27T00:00:00\",\"2021-02-28T00:00:00\",\"2021-03-01T00:00:00\",\"2021-03-02T00:00:00\",\"2021-03-03T00:00:00\",\"2021-03-04T00:00:00\",\"2021-03-05T00:00:00\",\"2021-03-06T00:00:00\",\"2021-03-07T00:00:00\",\"2021-03-08T00:00:00\",\"2021-03-09T00:00:00\",\"2021-03-10T00:00:00\",\"2021-03-11T00:00:00\",\"2021-03-12T00:00:00\",\"2021-03-13T00:00:00\",\"2021-03-14T00:00:00\",\"2021-03-15T00:00:00\",\"2021-03-16T00:00:00\",\"2021-03-17T00:00:00\",\"2021-03-18T00:00:00\",\"2021-03-19T00:00:00\",\"2021-03-20T00:00:00\",\"2021-03-21T00:00:00\",\"2021-03-22T00:00:00\",\"2021-03-23T00:00:00\",\"2021-03-24T00:00:00\",\"2021-03-25T00:00:00\",\"2021-03-26T00:00:00\",\"2021-03-27T00:00:00\",\"2021-03-28T00:00:00\",\"2021-03-29T00:00:00\",\"2021-03-30T00:00:00\",\"2021-03-31T00:00:00\",\"2021-04-01T00:00:00\",\"2021-04-02T00:00:00\",\"2021-04-03T00:00:00\",\"2021-04-04T00:00:00\",\"2021-04-05T00:00:00\",\"2021-04-06T00:00:00\",\"2021-04-07T00:00:00\",\"2021-04-08T00:00:00\",\"2021-04-09T00:00:00\",\"2021-04-10T00:00:00\",\"2021-04-11T00:00:00\",\"2021-04-12T00:00:00\",\"2021-04-13T00:00:00\",\"2021-04-14T00:00:00\",\"2021-04-15T00:00:00\",\"2021-04-16T00:00:00\",\"2021-04-17T00:00:00\",\"2021-04-18T00:00:00\",\"2021-04-19T00:00:00\",\"2021-04-20T00:00:00\",\"2021-04-21T00:00:00\",\"2021-04-22T00:00:00\",\"2021-04-23T00:00:00\",\"2021-04-24T00:00:00\",\"2021-04-25T00:00:00\",\"2021-04-26T00:00:00\",\"2021-04-27T00:00:00\",\"2021-04-28T00:00:00\",\"2021-04-29T00:00:00\",\"2021-04-30T00:00:00\",\"2021-05-01T00:00:00\",\"2021-05-02T00:00:00\",\"2021-05-03T00:00:00\",\"2021-05-04T00:00:00\",\"2021-05-05T00:00:00\",\"2021-05-06T00:00:00\",\"2021-05-07T00:00:00\",\"2021-05-08T00:00:00\",\"2021-05-09T00:00:00\",\"2021-05-10T00:00:00\",\"2021-05-11T00:00:00\",\"2021-05-12T00:00:00\",\"2021-05-13T00:00:00\",\"2021-05-14T00:00:00\",\"2021-05-15T00:00:00\",\"2021-05-16T00:00:00\",\"2021-05-17T00:00:00\",\"2021-05-18T00:00:00\",\"2021-05-19T00:00:00\",\"2021-05-20T00:00:00\",\"2021-05-21T00:00:00\",\"2021-05-22T00:00:00\",\"2021-05-23T00:00:00\",\"2021-05-24T00:00:00\",\"2021-05-25T00:00:00\",\"2021-05-26T00:00:00\",\"2021-05-27T00:00:00\",\"2021-05-28T00:00:00\",\"2021-05-29T00:00:00\",\"2021-05-30T00:00:00\",\"2021-05-31T00:00:00\",\"2021-06-01T00:00:00\",\"2021-06-02T00:00:00\",\"2021-06-03T00:00:00\",\"2021-06-04T00:00:00\",\"2021-06-05T00:00:00\",\"2021-06-06T00:00:00\",\"2021-06-07T00:00:00\",\"2021-06-08T00:00:00\",\"2021-06-09T00:00:00\",\"2021-06-10T00:00:00\",\"2021-06-11T00:00:00\",\"2021-06-12T00:00:00\",\"2021-06-13T00:00:00\",\"2021-06-14T00:00:00\",\"2021-06-15T00:00:00\",\"2021-06-16T00:00:00\",\"2021-06-17T00:00:00\",\"2021-06-18T00:00:00\",\"2021-06-19T00:00:00\",\"2021-06-20T00:00:00\",\"2021-06-21T00:00:00\",\"2021-06-22T00:00:00\",\"2021-06-23T00:00:00\",\"2021-06-24T00:00:00\",\"2021-06-25T00:00:00\",\"2021-06-26T00:00:00\",\"2021-06-27T00:00:00\",\"2021-06-28T00:00:00\",\"2021-06-29T00:00:00\",\"2021-06-30T00:00:00\",\"2021-07-01T00:00:00\",\"2021-07-02T00:00:00\",\"2021-07-03T00:00:00\",\"2021-07-04T00:00:00\",\"2021-07-05T00:00:00\",\"2021-07-06T00:00:00\",\"2021-07-07T00:00:00\",\"2021-07-08T00:00:00\",\"2021-07-09T00:00:00\",\"2021-07-10T00:00:00\",\"2021-07-11T00:00:00\",\"2021-07-12T00:00:00\",\"2021-07-13T00:00:00\",\"2021-07-14T00:00:00\",\"2021-07-15T00:00:00\",\"2021-07-16T00:00:00\",\"2021-07-17T00:00:00\",\"2021-07-18T00:00:00\",\"2021-07-19T00:00:00\",\"2021-07-20T00:00:00\",\"2021-07-21T00:00:00\",\"2021-07-22T00:00:00\",\"2021-07-23T00:00:00\",\"2021-07-24T00:00:00\",\"2021-07-25T00:00:00\",\"2021-07-26T00:00:00\",\"2021-07-27T00:00:00\",\"2021-07-28T00:00:00\",\"2021-07-29T00:00:00\",\"2021-07-30T00:00:00\",\"2021-07-31T00:00:00\",\"2021-08-01T00:00:00\",\"2021-08-02T00:00:00\",\"2021-08-03T00:00:00\",\"2021-08-04T00:00:00\",\"2021-08-05T00:00:00\",\"2021-08-06T00:00:00\",\"2021-08-07T00:00:00\",\"2021-08-08T00:00:00\",\"2021-08-09T00:00:00\",\"2021-08-10T00:00:00\",\"2021-08-11T00:00:00\",\"2021-08-12T00:00:00\",\"2021-08-13T00:00:00\",\"2021-08-14T00:00:00\",\"2021-08-15T00:00:00\",\"2021-08-16T00:00:00\",\"2021-08-17T00:00:00\",\"2021-08-18T00:00:00\",\"2021-08-19T00:00:00\",\"2021-08-20T00:00:00\",\"2021-08-21T00:00:00\",\"2021-08-22T00:00:00\",\"2021-08-23T00:00:00\",\"2021-08-24T00:00:00\",\"2021-08-25T00:00:00\",\"2021-08-26T00:00:00\",\"2021-08-27T00:00:00\",\"2021-08-28T00:00:00\",\"2021-08-29T00:00:00\",\"2021-08-30T00:00:00\",\"2021-08-31T00:00:00\",\"2021-09-01T00:00:00\",\"2021-09-02T00:00:00\",\"2021-09-03T00:00:00\",\"2021-09-04T00:00:00\",\"2021-09-05T00:00:00\",\"2021-09-06T00:00:00\",\"2021-09-07T00:00:00\",\"2021-09-08T00:00:00\",\"2021-09-09T00:00:00\",\"2021-09-10T00:00:00\",\"2021-09-11T00:00:00\",\"2021-09-12T00:00:00\",\"2021-09-13T00:00:00\",\"2021-09-14T00:00:00\",\"2021-09-15T00:00:00\",\"2021-09-16T00:00:00\",\"2021-09-17T00:00:00\",\"2021-09-18T00:00:00\",\"2021-09-19T00:00:00\",\"2021-09-20T00:00:00\",\"2021-09-21T00:00:00\",\"2021-09-22T00:00:00\",\"2021-09-23T00:00:00\",\"2021-09-24T00:00:00\",\"2021-09-25T00:00:00\",\"2021-09-26T00:00:00\",\"2023-11-02T00:00:00\",\"2023-11-03T00:00:00\",\"2023-11-04T00:00:00\",\"2023-11-05T00:00:00\",\"2023-11-06T00:00:00\",\"2023-11-07T00:00:00\",\"2023-11-08T00:00:00\",\"2023-11-09T00:00:00\",\"2023-11-10T00:00:00\",\"2023-11-11T00:00:00\",\"2023-11-12T00:00:00\",\"2023-11-13T00:00:00\",\"2023-11-14T00:00:00\",\"2023-11-15T00:00:00\",\"2023-11-16T00:00:00\",\"2023-11-17T00:00:00\",\"2023-11-18T00:00:00\",\"2023-11-19T00:00:00\",\"2023-11-20T00:00:00\",\"2023-11-21T00:00:00\",\"2023-11-22T00:00:00\",\"2023-11-23T00:00:00\",\"2023-11-24T00:00:00\",\"2023-11-25T00:00:00\",\"2023-11-26T00:00:00\",\"2023-11-27T00:00:00\",\"2023-11-28T00:00:00\",\"2023-11-29T00:00:00\",\"2023-11-30T00:00:00\",\"2023-12-01T00:00:00\",\"2023-12-02T00:00:00\",\"2023-12-03T00:00:00\",\"2023-12-04T00:00:00\",\"2023-12-05T00:00:00\",\"2023-12-06T00:00:00\"],\"y\":[22.5,21.4,21.7,24.15,26.950000000000003,26.65,28.05,26.7,22.2,25.55,25.549999999999997,24.7,22.75,21.1,21.95,23.35,25.25,25.0,22.5,23.35,22.5,24.45,23.9,25.3,21.1,19.700000000000003,19.700000000000003,19.45,15.549999999999999,17.5,20.85,16.950000000000003,13.6,14.15,13.850000000000001,15.3,20.0,20.299999999999997,20.85,20.8,22.75,22.8,21.35,18.65,18.9,15.0,15.0,15.0,16.4,17.25,19.45,14.75,15.3,18.05,16.65,11.65,13.05,14.7,17.8,13.6,10.85,12.25,14.45,17.8,17.5,18.9,18.9,14.75,9.45,12.8,13.05,12.5,10.55,5.550000000000001,3.9,9.45,5.0,8.05,10.55,15.25,17.200000000000003,18.3,18.6,18.049999999999997,19.45,20.0,13.9,9.15,8.35,11.4,9.75,6.1,0.6000000000000001,3.95,12.2,13.600000000000001,10.85,10.6,6.95,10.25,15.55,13.899999999999999,10.0,8.6,13.6,9.75,4.15,5.85,8.9,6.1000000000000005,2.5,2.2,0.6000000000000001,1.4,5.800000000000001,8.9,11.1,12.5,5.0,1.45,-2.4,-1.8499999999999999,-2.15,-3.3,1.9500000000000002,5.3,5.55,4.7,10.55,7.250000000000001,-2.15,-0.75,5.85,2.55,1.9999999999999998,5.550000000000001,2.5,6.4,2.2,3.9,3.9,3.05,2.0,0.04999999999999982,-0.75,1.7,0.34999999999999987,3.65,3.9,6.65,5.55,5.550000000000001,4.2,5.0,3.9,0.8500000000000001,1.15,4.7,-1.0499999999999998,-2.75,-1.0500000000000003,0.30000000000000004,1.15,-2.75,-6.85,-4.1,-4.9,-2.2,-0.2,0.5999999999999999,2.8,5.550000000000001,3.9000000000000004,0.050000000000000266,-4.8999999999999995,-1.05,-0.7500000000000001,-1.3,-3.8,-2.4,0.2999999999999998,0.8500000000000001,5.85,-2.2,-2.65,-0.75,-0.7500000000000001,-0.75,1.95,4.7,8.049999999999999,7.2,3.9,6.65,6.1,4.45,-2.7,5.55,2.25,-1.0500000000000003,-0.25,1.7,1.4499999999999997,11.7,8.6,14.2,15.55,5.85,5.85,-0.19999999999999996,0.5999999999999999,4.7,6.65,2.8,7.8,11.399999999999999,11.149999999999999,12.5,10.8,14.7,19.45,15.3,12.25,10.0,10.850000000000001,14.7,8.85,0.8999999999999999,5.85,12.75,14.45,14.700000000000001,16.4,15.25,12.2,15.850000000000001,11.100000000000001,8.9,12.5,15.55,10.8,8.35,9.7,13.600000000000001,14.7,18.049999999999997,11.95,5.550000000000001,10.85,16.65,13.3,10.3,12.8,20.25,19.45,14.75,11.95,20.55,15.0,16.95,13.899999999999999,14.45,14.149999999999999,10.850000000000001,13.05,11.95,14.399999999999999,13.9,16.1,17.75,19.450000000000003,19.45,19.450000000000003,21.7,24.15,19.7,20.25,25.0,25.55,17.5,18.6,24.15,22.75,15.0,9.45,9.45,15.25,19.15,20.299999999999997,19.45,21.4,25.299999999999997,28.849999999999998,28.599999999999998,27.200000000000003,27.200000000000003,23.6,18.65,18.65,20.549999999999997,20.3,22.799999999999997,20.85,19.75,23.049999999999997,24.700000000000003,24.45,26.95,20.3,18.6,20.55,22.5,24.15,27.5,28.849999999999998,30.3,29.75,25.549999999999997,21.4,16.95,20.85,23.85,27.5,27.25,25.299999999999997,25.25,23.6,23.35,26.1,21.4,25.6,27.5,29.45,27.799999999999997,25.549999999999997,24.45,26.4,23.9,23.299999999999997,23.85,24.15,23.6,26.65,27.25,23.9,22.8,23.6,20.3,21.95,21.95,22.200000000000003,21.9,23.9,26.1,26.700000000000003,21.95,23.9,25.299999999999997,27.25,28.6,30.0,27.75,24.700000000000003,24.450000000000003,25.0,25.8,26.65,25.85,25.3,22.75,25.0,26.95,27.5,29.2,28.9,23.35,21.9,26.1,25.55,21.4,20.55,19.15,21.1,21.35,23.9,22.200000000000003,24.450000000000003,22.2,20.25,20.0,23.049999999999997,23.85,23.049999999999997,25.549999999999997,23.049999999999997,22.25,24.75,21.1,20.549999999999997,20.799999999999997,24.15,21.950000000000003,18.05,18.9,18.9,5.3,9.2,12.200000000000001,13.850000000000001,10.0,14.75,9.149999999999999,9.75,9.45,9.2,4.45,5.55,8.649999999999999,7.8,13.05,15.25,11.1,8.600000000000001,5.3,4.75,10.55,8.9,5.6,1.7000000000000002,7.5,7.75,2.5,0.2999999999999998,5.85,8.35,11.95,10.3,8.899999999999999,4.699999999999999,3.3499999999999996],\"type\":\"scatter\"},{\"mode\":\"lines\",\"name\":\"Prediction\",\"x\":[\"2021-08-14T00:00:00\",\"2021-08-15T00:00:00\",\"2021-08-16T00:00:00\",\"2021-08-17T00:00:00\",\"2021-08-18T00:00:00\",\"2021-08-19T00:00:00\",\"2021-08-20T00:00:00\",\"2021-08-21T00:00:00\",\"2021-08-22T00:00:00\",\"2021-08-23T00:00:00\",\"2021-08-24T00:00:00\",\"2021-08-25T00:00:00\",\"2021-08-26T00:00:00\",\"2021-08-27T00:00:00\",\"2021-08-28T00:00:00\",\"2021-08-29T00:00:00\",\"2021-08-30T00:00:00\",\"2021-08-31T00:00:00\",\"2021-09-01T00:00:00\",\"2021-09-02T00:00:00\",\"2021-09-03T00:00:00\",\"2021-09-04T00:00:00\",\"2021-09-05T00:00:00\",\"2021-09-06T00:00:00\",\"2021-09-07T00:00:00\",\"2021-09-08T00:00:00\",\"2021-09-09T00:00:00\",\"2021-09-10T00:00:00\",\"2021-09-11T00:00:00\",\"2021-09-12T00:00:00\",\"2021-09-13T00:00:00\",\"2021-09-14T00:00:00\",\"2021-09-15T00:00:00\",\"2021-09-16T00:00:00\",\"2021-09-17T00:00:00\",\"2021-09-18T00:00:00\",\"2021-09-19T00:00:00\",\"2021-09-20T00:00:00\",\"2021-09-21T00:00:00\",\"2021-09-22T00:00:00\",\"2021-09-23T00:00:00\",\"2021-09-24T00:00:00\",\"2021-09-25T00:00:00\",\"2021-09-26T00:00:00\",\"2021-09-27T00:00:00\",\"2021-09-28T00:00:00\",\"2021-09-29T00:00:00\",\"2021-09-30T00:00:00\",\"2021-10-01T00:00:00\",\"2021-10-02T00:00:00\",\"2021-10-03T00:00:00\",\"2021-10-04T00:00:00\",\"2021-10-05T00:00:00\",\"2021-10-06T00:00:00\",\"2021-10-07T00:00:00\",\"2021-10-08T00:00:00\",\"2021-10-09T00:00:00\",\"2021-10-10T00:00:00\",\"2021-10-11T00:00:00\",\"2021-10-12T00:00:00\",\"2021-10-13T00:00:00\",\"2021-10-14T00:00:00\",\"2021-10-15T00:00:00\",\"2021-10-16T00:00:00\",\"2021-10-17T00:00:00\",\"2021-10-18T00:00:00\",\"2021-10-19T00:00:00\",\"2021-10-20T00:00:00\",\"2021-10-21T00:00:00\",\"2021-10-22T00:00:00\",\"2021-10-23T00:00:00\",\"2021-10-24T00:00:00\",\"2021-10-25T00:00:00\",\"2021-10-26T00:00:00\",\"2021-10-27T00:00:00\",\"2021-10-28T00:00:00\",\"2021-10-29T00:00:00\",\"2021-10-30T00:00:00\",\"2021-10-31T00:00:00\",\"2021-11-01T00:00:00\",\"2021-11-02T00:00:00\",\"2021-11-03T00:00:00\",\"2021-11-04T00:00:00\",\"2021-11-05T00:00:00\",\"2021-11-06T00:00:00\",\"2021-11-07T00:00:00\",\"2021-11-08T00:00:00\",\"2021-11-09T00:00:00\",\"2021-11-10T00:00:00\",\"2021-11-11T00:00:00\",\"2021-11-12T00:00:00\",\"2021-11-13T00:00:00\",\"2021-11-14T00:00:00\",\"2021-11-15T00:00:00\",\"2021-11-16T00:00:00\",\"2021-11-17T00:00:00\",\"2021-11-18T00:00:00\",\"2021-11-19T00:00:00\",\"2021-11-20T00:00:00\",\"2021-11-21T00:00:00\",\"2021-11-22T00:00:00\",\"2021-11-23T00:00:00\",\"2021-11-24T00:00:00\",\"2021-11-25T00:00:00\",\"2021-11-26T00:00:00\",\"2021-11-27T00:00:00\",\"2021-11-28T00:00:00\",\"2021-11-29T00:00:00\",\"2021-11-30T00:00:00\",\"2021-12-01T00:00:00\",\"2021-12-02T00:00:00\",\"2021-12-03T00:00:00\",\"2021-12-04T00:00:00\",\"2021-12-05T00:00:00\",\"2021-12-06T00:00:00\",\"2021-12-07T00:00:00\",\"2021-12-08T00:00:00\",\"2021-12-09T00:00:00\",\"2021-12-10T00:00:00\",\"2021-12-11T00:00:00\",\"2021-12-12T00:00:00\",\"2021-12-13T00:00:00\",\"2021-12-14T00:00:00\",\"2021-12-15T00:00:00\",\"2021-12-16T00:00:00\",\"2021-12-17T00:00:00\",\"2021-12-18T00:00:00\",\"2021-12-19T00:00:00\",\"2021-12-20T00:00:00\",\"2021-12-21T00:00:00\",\"2021-12-22T00:00:00\",\"2021-12-23T00:00:00\",\"2021-12-24T00:00:00\",\"2021-12-25T00:00:00\",\"2021-12-26T00:00:00\",\"2021-12-27T00:00:00\",\"2021-12-28T00:00:00\",\"2021-12-29T00:00:00\",\"2021-12-30T00:00:00\",\"2021-12-31T00:00:00\",\"2022-01-01T00:00:00\",\"2022-01-02T00:00:00\",\"2022-01-03T00:00:00\",\"2022-01-04T00:00:00\",\"2022-01-05T00:00:00\",\"2022-01-06T00:00:00\",\"2022-01-07T00:00:00\",\"2022-01-08T00:00:00\",\"2022-01-09T00:00:00\",\"2022-01-10T00:00:00\",\"2022-01-11T00:00:00\",\"2022-01-12T00:00:00\",\"2022-01-13T00:00:00\",\"2022-01-14T00:00:00\",\"2022-01-15T00:00:00\",\"2022-01-16T00:00:00\",\"2022-01-17T00:00:00\",\"2022-01-18T00:00:00\",\"2022-01-19T00:00:00\",\"2022-01-20T00:00:00\",\"2022-01-21T00:00:00\",\"2022-01-22T00:00:00\",\"2022-01-23T00:00:00\",\"2022-01-24T00:00:00\",\"2022-01-25T00:00:00\",\"2022-01-26T00:00:00\",\"2022-01-27T00:00:00\",\"2022-01-28T00:00:00\",\"2022-01-29T00:00:00\",\"2022-01-30T00:00:00\",\"2022-01-31T00:00:00\",\"2022-02-01T00:00:00\",\"2022-02-02T00:00:00\",\"2022-02-03T00:00:00\",\"2022-02-04T00:00:00\",\"2022-02-05T00:00:00\",\"2022-02-06T00:00:00\",\"2022-02-07T00:00:00\",\"2022-02-08T00:00:00\",\"2022-02-09T00:00:00\",\"2022-02-10T00:00:00\",\"2022-02-11T00:00:00\",\"2022-02-12T00:00:00\",\"2022-02-13T00:00:00\",\"2022-02-14T00:00:00\",\"2022-02-15T00:00:00\",\"2022-02-16T00:00:00\",\"2022-02-17T00:00:00\",\"2022-02-18T00:00:00\",\"2022-02-19T00:00:00\",\"2022-02-20T00:00:00\",\"2022-02-21T00:00:00\",\"2022-02-22T00:00:00\",\"2022-02-23T00:00:00\",\"2022-02-24T00:00:00\",\"2022-02-25T00:00:00\",\"2022-02-26T00:00:00\",\"2022-02-27T00:00:00\",\"2022-02-28T00:00:00\",\"2022-03-01T00:00:00\",\"2022-03-02T00:00:00\",\"2022-03-03T00:00:00\",\"2022-03-04T00:00:00\",\"2022-03-05T00:00:00\",\"2022-03-06T00:00:00\",\"2022-03-07T00:00:00\",\"2022-03-08T00:00:00\",\"2022-03-09T00:00:00\",\"2022-03-10T00:00:00\",\"2022-03-11T00:00:00\",\"2022-03-12T00:00:00\",\"2022-03-13T00:00:00\",\"2022-03-14T00:00:00\",\"2022-03-15T00:00:00\",\"2022-03-16T00:00:00\",\"2022-03-17T00:00:00\",\"2022-03-18T00:00:00\",\"2022-03-19T00:00:00\",\"2022-03-20T00:00:00\",\"2022-03-21T00:00:00\",\"2022-03-22T00:00:00\",\"2022-03-23T00:00:00\",\"2022-03-24T00:00:00\",\"2022-03-25T00:00:00\",\"2022-03-26T00:00:00\",\"2022-03-27T00:00:00\",\"2022-03-28T00:00:00\",\"2022-03-29T00:00:00\",\"2022-03-30T00:00:00\",\"2022-03-31T00:00:00\",\"2022-04-01T00:00:00\",\"2022-04-02T00:00:00\",\"2022-04-03T00:00:00\",\"2022-04-04T00:00:00\",\"2022-04-05T00:00:00\",\"2022-04-06T00:00:00\",\"2022-04-07T00:00:00\",\"2022-04-08T00:00:00\",\"2022-04-09T00:00:00\",\"2022-04-10T00:00:00\",\"2022-04-11T00:00:00\",\"2022-04-12T00:00:00\",\"2022-04-13T00:00:00\",\"2022-04-14T00:00:00\",\"2022-04-15T00:00:00\",\"2022-04-16T00:00:00\",\"2022-04-17T00:00:00\",\"2022-04-18T00:00:00\",\"2022-04-19T00:00:00\",\"2022-04-20T00:00:00\",\"2022-04-21T00:00:00\",\"2022-04-22T00:00:00\",\"2022-04-23T00:00:00\",\"2022-04-24T00:00:00\",\"2022-04-25T00:00:00\",\"2022-04-26T00:00:00\",\"2022-04-27T00:00:00\",\"2022-04-28T00:00:00\",\"2022-04-29T00:00:00\",\"2022-04-30T00:00:00\",\"2022-05-01T00:00:00\",\"2022-05-02T00:00:00\",\"2022-05-03T00:00:00\",\"2022-05-04T00:00:00\",\"2022-05-05T00:00:00\",\"2022-05-06T00:00:00\",\"2022-05-07T00:00:00\",\"2022-05-08T00:00:00\",\"2022-05-09T00:00:00\",\"2022-05-10T00:00:00\",\"2022-05-11T00:00:00\",\"2022-05-12T00:00:00\",\"2022-05-13T00:00:00\",\"2022-05-14T00:00:00\",\"2022-05-15T00:00:00\",\"2022-05-16T00:00:00\",\"2022-05-17T00:00:00\",\"2022-05-18T00:00:00\",\"2022-05-19T00:00:00\",\"2022-05-20T00:00:00\",\"2022-05-21T00:00:00\",\"2022-05-22T00:00:00\",\"2022-05-23T00:00:00\",\"2022-05-24T00:00:00\",\"2022-05-25T00:00:00\",\"2022-05-26T00:00:00\",\"2022-05-27T00:00:00\",\"2022-05-28T00:00:00\",\"2022-05-29T00:00:00\",\"2022-05-30T00:00:00\",\"2022-05-31T00:00:00\",\"2022-06-01T00:00:00\",\"2022-06-02T00:00:00\",\"2022-06-03T00:00:00\",\"2022-06-04T00:00:00\",\"2022-06-05T00:00:00\",\"2022-06-06T00:00:00\",\"2022-06-07T00:00:00\",\"2022-06-08T00:00:00\",\"2022-06-09T00:00:00\",\"2022-06-10T00:00:00\",\"2022-06-11T00:00:00\",\"2022-06-12T00:00:00\",\"2022-06-13T00:00:00\",\"2022-06-14T00:00:00\",\"2022-06-15T00:00:00\",\"2022-06-16T00:00:00\",\"2022-06-17T00:00:00\",\"2022-06-18T00:00:00\",\"2022-06-19T00:00:00\",\"2022-06-20T00:00:00\",\"2022-06-21T00:00:00\",\"2022-06-22T00:00:00\",\"2022-06-23T00:00:00\",\"2022-06-24T00:00:00\",\"2022-06-25T00:00:00\",\"2022-06-26T00:00:00\",\"2022-06-27T00:00:00\",\"2022-06-28T00:00:00\",\"2022-06-29T00:00:00\",\"2022-06-30T00:00:00\",\"2022-07-01T00:00:00\",\"2022-07-02T00:00:00\",\"2022-07-03T00:00:00\",\"2022-07-04T00:00:00\",\"2022-07-05T00:00:00\",\"2022-07-06T00:00:00\",\"2022-07-07T00:00:00\",\"2022-07-08T00:00:00\",\"2022-07-09T00:00:00\",\"2022-07-10T00:00:00\",\"2022-07-11T00:00:00\",\"2022-07-12T00:00:00\",\"2022-07-13T00:00:00\",\"2022-07-14T00:00:00\",\"2022-07-15T00:00:00\",\"2022-07-16T00:00:00\",\"2022-07-17T00:00:00\",\"2022-07-18T00:00:00\",\"2022-07-19T00:00:00\",\"2022-07-20T00:00:00\",\"2022-07-21T00:00:00\",\"2022-07-22T00:00:00\",\"2022-07-23T00:00:00\",\"2022-07-24T00:00:00\",\"2022-07-25T00:00:00\",\"2022-07-26T00:00:00\",\"2022-07-27T00:00:00\",\"2022-07-28T00:00:00\",\"2022-07-29T00:00:00\",\"2022-07-30T00:00:00\",\"2022-07-31T00:00:00\",\"2022-08-01T00:00:00\",\"2022-08-02T00:00:00\",\"2022-08-03T00:00:00\",\"2022-08-04T00:00:00\",\"2022-08-05T00:00:00\",\"2022-08-06T00:00:00\",\"2022-08-07T00:00:00\",\"2022-08-08T00:00:00\",\"2022-08-09T00:00:00\",\"2022-08-10T00:00:00\",\"2022-08-11T00:00:00\",\"2022-08-12T00:00:00\",\"2022-08-13T00:00:00\",\"2022-08-14T00:00:00\",\"2022-08-15T00:00:00\",\"2022-08-16T00:00:00\",\"2022-08-17T00:00:00\",\"2022-08-18T00:00:00\",\"2022-08-19T00:00:00\",\"2022-08-20T00:00:00\",\"2022-08-21T00:00:00\",\"2022-08-22T00:00:00\",\"2022-08-23T00:00:00\",\"2022-08-24T00:00:00\",\"2022-08-25T00:00:00\",\"2022-08-26T00:00:00\",\"2022-08-27T00:00:00\",\"2022-08-28T00:00:00\",\"2022-08-29T00:00:00\",\"2022-08-30T00:00:00\",\"2022-08-31T00:00:00\",\"2022-09-01T00:00:00\",\"2022-09-02T00:00:00\",\"2022-09-03T00:00:00\",\"2022-09-04T00:00:00\",\"2022-09-05T00:00:00\",\"2022-09-06T00:00:00\",\"2022-09-07T00:00:00\",\"2022-09-08T00:00:00\",\"2022-09-09T00:00:00\",\"2022-09-10T00:00:00\",\"2022-09-11T00:00:00\",\"2022-09-12T00:00:00\",\"2022-09-13T00:00:00\",\"2022-09-14T00:00:00\",\"2022-09-15T00:00:00\",\"2022-09-16T00:00:00\",\"2022-09-17T00:00:00\",\"2022-09-18T00:00:00\",\"2022-09-19T00:00:00\",\"2022-09-20T00:00:00\",\"2022-09-21T00:00:00\",\"2022-09-22T00:00:00\",\"2022-09-23T00:00:00\",\"2022-09-24T00:00:00\",\"2022-09-25T00:00:00\",\"2022-09-26T00:00:00\",\"2022-09-27T00:00:00\",\"2022-09-28T00:00:00\",\"2022-09-29T00:00:00\",\"2022-09-30T00:00:00\",\"2022-10-01T00:00:00\",\"2022-10-02T00:00:00\",\"2022-10-03T00:00:00\",\"2022-10-04T00:00:00\",\"2022-10-05T00:00:00\",\"2022-10-06T00:00:00\",\"2022-10-07T00:00:00\",\"2022-10-08T00:00:00\",\"2022-10-09T00:00:00\",\"2022-10-10T00:00:00\",\"2022-10-11T00:00:00\",\"2022-10-12T00:00:00\",\"2022-10-13T00:00:00\",\"2022-10-14T00:00:00\",\"2022-10-15T00:00:00\",\"2022-10-16T00:00:00\",\"2022-10-17T00:00:00\",\"2022-10-18T00:00:00\",\"2022-10-19T00:00:00\",\"2022-10-20T00:00:00\",\"2022-10-21T00:00:00\",\"2022-10-22T00:00:00\",\"2022-10-23T00:00:00\",\"2022-10-24T00:00:00\",\"2022-10-25T00:00:00\",\"2022-10-26T00:00:00\",\"2022-10-27T00:00:00\",\"2022-10-28T00:00:00\",\"2022-10-29T00:00:00\",\"2022-10-30T00:00:00\",\"2022-10-31T00:00:00\",\"2022-11-01T00:00:00\",\"2022-11-02T00:00:00\",\"2022-11-03T00:00:00\",\"2022-11-04T00:00:00\",\"2022-11-05T00:00:00\",\"2022-11-06T00:00:00\",\"2022-11-07T00:00:00\",\"2022-11-08T00:00:00\",\"2022-11-09T00:00:00\",\"2022-11-10T00:00:00\",\"2022-11-11T00:00:00\",\"2022-11-12T00:00:00\",\"2022-11-13T00:00:00\",\"2022-11-14T00:00:00\",\"2022-11-15T00:00:00\",\"2022-11-16T00:00:00\",\"2022-11-17T00:00:00\",\"2022-11-18T00:00:00\",\"2022-11-19T00:00:00\",\"2022-11-20T00:00:00\",\"2022-11-21T00:00:00\",\"2022-11-22T00:00:00\",\"2022-11-23T00:00:00\",\"2022-11-24T00:00:00\",\"2022-11-25T00:00:00\",\"2022-11-26T00:00:00\",\"2022-11-27T00:00:00\",\"2022-11-28T00:00:00\",\"2022-11-29T00:00:00\",\"2022-11-30T00:00:00\",\"2022-12-01T00:00:00\",\"2022-12-02T00:00:00\",\"2022-12-03T00:00:00\",\"2022-12-04T00:00:00\",\"2022-12-05T00:00:00\",\"2022-12-06T00:00:00\",\"2022-12-07T00:00:00\",\"2022-12-08T00:00:00\",\"2022-12-09T00:00:00\",\"2022-12-10T00:00:00\",\"2022-12-11T00:00:00\",\"2022-12-12T00:00:00\",\"2022-12-13T00:00:00\",\"2022-12-14T00:00:00\",\"2022-12-15T00:00:00\",\"2022-12-16T00:00:00\",\"2022-12-17T00:00:00\",\"2022-12-18T00:00:00\",\"2022-12-19T00:00:00\",\"2022-12-20T00:00:00\",\"2022-12-21T00:00:00\",\"2022-12-22T00:00:00\",\"2022-12-23T00:00:00\",\"2022-12-24T00:00:00\",\"2022-12-25T00:00:00\",\"2022-12-26T00:00:00\",\"2022-12-27T00:00:00\",\"2022-12-28T00:00:00\",\"2022-12-29T00:00:00\",\"2022-12-30T00:00:00\",\"2022-12-31T00:00:00\",\"2023-01-01T00:00:00\",\"2023-01-02T00:00:00\",\"2023-01-03T00:00:00\",\"2023-01-04T00:00:00\",\"2023-01-05T00:00:00\",\"2023-01-06T00:00:00\",\"2023-01-07T00:00:00\",\"2023-01-08T00:00:00\",\"2023-01-09T00:00:00\",\"2023-01-10T00:00:00\",\"2023-01-11T00:00:00\",\"2023-01-12T00:00:00\",\"2023-01-13T00:00:00\",\"2023-01-14T00:00:00\",\"2023-01-15T00:00:00\",\"2023-01-16T00:00:00\",\"2023-01-17T00:00:00\",\"2023-01-18T00:00:00\",\"2023-01-19T00:00:00\",\"2023-01-20T00:00:00\",\"2023-01-21T00:00:00\",\"2023-01-22T00:00:00\",\"2023-01-23T00:00:00\",\"2023-01-24T00:00:00\",\"2023-01-25T00:00:00\",\"2023-01-26T00:00:00\",\"2023-01-27T00:00:00\",\"2023-01-28T00:00:00\",\"2023-01-29T00:00:00\",\"2023-01-30T00:00:00\",\"2023-01-31T00:00:00\",\"2023-02-01T00:00:00\",\"2023-02-02T00:00:00\",\"2023-02-03T00:00:00\",\"2023-02-04T00:00:00\",\"2023-02-05T00:00:00\",\"2023-02-06T00:00:00\",\"2023-02-07T00:00:00\",\"2023-02-08T00:00:00\",\"2023-02-09T00:00:00\",\"2023-02-10T00:00:00\",\"2023-02-11T00:00:00\",\"2023-02-12T00:00:00\",\"2023-02-13T00:00:00\",\"2023-02-14T00:00:00\",\"2023-02-15T00:00:00\",\"2023-02-16T00:00:00\",\"2023-02-17T00:00:00\",\"2023-02-18T00:00:00\",\"2023-02-19T00:00:00\",\"2023-02-20T00:00:00\",\"2023-02-21T00:00:00\",\"2023-02-22T00:00:00\",\"2023-02-23T00:00:00\",\"2023-02-24T00:00:00\",\"2023-02-25T00:00:00\",\"2023-02-26T00:00:00\",\"2023-02-27T00:00:00\",\"2023-02-28T00:00:00\",\"2023-03-01T00:00:00\",\"2023-03-02T00:00:00\",\"2023-03-03T00:00:00\",\"2023-03-04T00:00:00\",\"2023-03-05T00:00:00\",\"2023-03-06T00:00:00\",\"2023-03-07T00:00:00\",\"2023-03-08T00:00:00\",\"2023-03-09T00:00:00\",\"2023-03-10T00:00:00\",\"2023-03-11T00:00:00\",\"2023-03-12T00:00:00\",\"2023-03-13T00:00:00\",\"2023-03-14T00:00:00\",\"2023-03-15T00:00:00\",\"2023-03-16T00:00:00\",\"2023-03-17T00:00:00\",\"2023-03-18T00:00:00\",\"2023-03-19T00:00:00\",\"2023-03-20T00:00:00\",\"2023-03-21T00:00:00\",\"2023-03-22T00:00:00\",\"2023-03-23T00:00:00\",\"2023-03-24T00:00:00\",\"2023-03-25T00:00:00\",\"2023-03-26T00:00:00\",\"2023-03-27T00:00:00\",\"2023-03-28T00:00:00\",\"2023-03-29T00:00:00\",\"2023-03-30T00:00:00\",\"2023-03-31T00:00:00\",\"2023-04-01T00:00:00\",\"2023-04-02T00:00:00\",\"2023-04-03T00:00:00\",\"2023-04-04T00:00:00\",\"2023-04-05T00:00:00\",\"2023-04-06T00:00:00\",\"2023-04-07T00:00:00\",\"2023-04-08T00:00:00\",\"2023-04-09T00:00:00\",\"2023-04-10T00:00:00\",\"2023-04-11T00:00:00\",\"2023-04-12T00:00:00\",\"2023-04-13T00:00:00\",\"2023-04-14T00:00:00\",\"2023-04-15T00:00:00\",\"2023-04-16T00:00:00\",\"2023-04-17T00:00:00\",\"2023-04-18T00:00:00\",\"2023-04-19T00:00:00\",\"2023-04-20T00:00:00\",\"2023-04-21T00:00:00\",\"2023-04-22T00:00:00\",\"2023-04-23T00:00:00\",\"2023-04-24T00:00:00\",\"2023-04-25T00:00:00\",\"2023-04-26T00:00:00\",\"2023-04-27T00:00:00\",\"2023-04-28T00:00:00\",\"2023-04-29T00:00:00\",\"2023-04-30T00:00:00\",\"2023-05-01T00:00:00\",\"2023-05-02T00:00:00\",\"2023-05-03T00:00:00\",\"2023-05-04T00:00:00\",\"2023-05-05T00:00:00\",\"2023-05-06T00:00:00\",\"2023-05-07T00:00:00\",\"2023-05-08T00:00:00\",\"2023-05-09T00:00:00\",\"2023-05-10T00:00:00\",\"2023-05-11T00:00:00\",\"2023-05-12T00:00:00\",\"2023-05-13T00:00:00\",\"2023-05-14T00:00:00\",\"2023-05-15T00:00:00\",\"2023-05-16T00:00:00\",\"2023-05-17T00:00:00\",\"2023-05-18T00:00:00\",\"2023-05-19T00:00:00\",\"2023-05-20T00:00:00\",\"2023-05-21T00:00:00\",\"2023-05-22T00:00:00\",\"2023-05-23T00:00:00\",\"2023-05-24T00:00:00\",\"2023-05-25T00:00:00\",\"2023-05-26T00:00:00\",\"2023-05-27T00:00:00\",\"2023-05-28T00:00:00\",\"2023-05-29T00:00:00\",\"2023-05-30T00:00:00\",\"2023-05-31T00:00:00\",\"2023-06-01T00:00:00\",\"2023-06-02T00:00:00\",\"2023-06-03T00:00:00\",\"2023-06-04T00:00:00\",\"2023-06-05T00:00:00\",\"2023-06-06T00:00:00\",\"2023-06-07T00:00:00\",\"2023-06-08T00:00:00\",\"2023-06-09T00:00:00\",\"2023-06-10T00:00:00\",\"2023-06-11T00:00:00\",\"2023-06-12T00:00:00\",\"2023-06-13T00:00:00\",\"2023-06-14T00:00:00\",\"2023-06-15T00:00:00\",\"2023-06-16T00:00:00\",\"2023-06-17T00:00:00\",\"2023-06-18T00:00:00\",\"2023-06-19T00:00:00\",\"2023-06-20T00:00:00\",\"2023-06-21T00:00:00\",\"2023-06-22T00:00:00\",\"2023-06-23T00:00:00\",\"2023-06-24T00:00:00\",\"2023-06-25T00:00:00\",\"2023-06-26T00:00:00\",\"2023-06-27T00:00:00\",\"2023-06-28T00:00:00\",\"2023-06-29T00:00:00\",\"2023-06-30T00:00:00\",\"2023-07-01T00:00:00\",\"2023-07-02T00:00:00\",\"2023-07-03T00:00:00\",\"2023-07-04T00:00:00\",\"2023-07-05T00:00:00\",\"2023-07-06T00:00:00\",\"2023-07-07T00:00:00\",\"2023-07-08T00:00:00\",\"2023-07-09T00:00:00\",\"2023-07-10T00:00:00\",\"2023-07-11T00:00:00\",\"2023-07-12T00:00:00\",\"2023-07-13T00:00:00\",\"2023-07-14T00:00:00\",\"2023-07-15T00:00:00\",\"2023-07-16T00:00:00\",\"2023-07-17T00:00:00\",\"2023-07-18T00:00:00\",\"2023-07-19T00:00:00\",\"2023-07-20T00:00:00\",\"2023-07-21T00:00:00\",\"2023-07-22T00:00:00\",\"2023-07-23T00:00:00\",\"2023-07-24T00:00:00\",\"2023-07-25T00:00:00\",\"2023-07-26T00:00:00\",\"2023-07-27T00:00:00\",\"2023-07-28T00:00:00\",\"2023-07-29T00:00:00\",\"2023-07-30T00:00:00\",\"2023-07-31T00:00:00\",\"2023-08-01T00:00:00\",\"2023-08-02T00:00:00\",\"2023-08-03T00:00:00\",\"2023-08-04T00:00:00\",\"2023-08-05T00:00:00\",\"2023-08-06T00:00:00\",\"2023-08-07T00:00:00\",\"2023-08-08T00:00:00\",\"2023-08-09T00:00:00\",\"2023-08-10T00:00:00\",\"2023-08-11T00:00:00\",\"2023-08-12T00:00:00\",\"2023-08-13T00:00:00\",\"2023-08-14T00:00:00\",\"2023-08-15T00:00:00\",\"2023-08-16T00:00:00\",\"2023-08-17T00:00:00\",\"2023-08-18T00:00:00\",\"2023-08-19T00:00:00\",\"2023-08-20T00:00:00\",\"2023-08-21T00:00:00\",\"2023-08-22T00:00:00\",\"2023-08-23T00:00:00\",\"2023-08-24T00:00:00\",\"2023-08-25T00:00:00\",\"2023-08-26T00:00:00\",\"2023-08-27T00:00:00\",\"2023-08-28T00:00:00\",\"2023-08-29T00:00:00\",\"2023-08-30T00:00:00\",\"2023-08-31T00:00:00\",\"2023-09-01T00:00:00\",\"2023-09-02T00:00:00\",\"2023-09-03T00:00:00\",\"2023-09-04T00:00:00\",\"2023-09-05T00:00:00\",\"2023-09-06T00:00:00\",\"2023-09-07T00:00:00\",\"2023-09-08T00:00:00\",\"2023-09-09T00:00:00\",\"2023-09-10T00:00:00\",\"2023-09-11T00:00:00\",\"2023-09-12T00:00:00\",\"2023-09-13T00:00:00\",\"2023-09-14T00:00:00\",\"2023-09-15T00:00:00\",\"2023-09-16T00:00:00\",\"2023-09-17T00:00:00\",\"2023-09-18T00:00:00\",\"2023-09-19T00:00:00\",\"2023-09-20T00:00:00\",\"2023-09-21T00:00:00\",\"2023-09-22T00:00:00\",\"2023-09-23T00:00:00\",\"2023-09-24T00:00:00\",\"2023-09-25T00:00:00\",\"2023-09-26T00:00:00\",\"2023-09-27T00:00:00\",\"2023-09-28T00:00:00\",\"2023-09-29T00:00:00\",\"2023-09-30T00:00:00\",\"2023-10-01T00:00:00\",\"2023-10-02T00:00:00\",\"2023-10-03T00:00:00\",\"2023-10-04T00:00:00\",\"2023-10-05T00:00:00\",\"2023-10-06T00:00:00\",\"2023-10-07T00:00:00\",\"2023-10-08T00:00:00\",\"2023-10-09T00:00:00\",\"2023-10-10T00:00:00\",\"2023-10-11T00:00:00\",\"2023-10-12T00:00:00\",\"2023-10-13T00:00:00\",\"2023-10-14T00:00:00\",\"2023-10-15T00:00:00\",\"2023-10-16T00:00:00\",\"2023-10-17T00:00:00\",\"2023-10-18T00:00:00\",\"2023-10-19T00:00:00\",\"2023-10-20T00:00:00\",\"2023-10-21T00:00:00\",\"2023-10-22T00:00:00\",\"2023-10-23T00:00:00\",\"2023-10-24T00:00:00\",\"2023-10-25T00:00:00\",\"2023-10-26T00:00:00\",\"2023-10-27T00:00:00\",\"2023-10-28T00:00:00\",\"2023-10-29T00:00:00\",\"2023-10-30T00:00:00\",\"2023-10-31T00:00:00\",\"2023-11-01T00:00:00\",\"2023-11-02T00:00:00\",\"2023-11-03T00:00:00\",\"2023-11-04T00:00:00\",\"2023-11-05T00:00:00\",\"2023-11-06T00:00:00\",\"2023-11-07T00:00:00\",\"2023-11-08T00:00:00\",\"2023-11-09T00:00:00\",\"2023-11-10T00:00:00\",\"2023-11-11T00:00:00\",\"2023-11-12T00:00:00\",\"2023-11-13T00:00:00\",\"2023-11-14T00:00:00\",\"2023-11-15T00:00:00\",\"2023-11-16T00:00:00\",\"2023-11-17T00:00:00\",\"2023-11-18T00:00:00\",\"2023-11-19T00:00:00\",\"2023-11-20T00:00:00\",\"2023-11-21T00:00:00\",\"2023-11-22T00:00:00\",\"2023-11-23T00:00:00\",\"2023-11-24T00:00:00\",\"2023-11-25T00:00:00\",\"2023-11-26T00:00:00\",\"2023-11-27T00:00:00\",\"2023-11-28T00:00:00\",\"2023-11-29T00:00:00\",\"2023-11-30T00:00:00\",\"2023-12-01T00:00:00\",\"2023-12-02T00:00:00\",\"2023-12-03T00:00:00\",\"2023-12-04T00:00:00\",\"2023-12-05T00:00:00\",\"2023-12-06T00:00:00\",\"2023-12-07T00:00:00\",\"2023-12-08T00:00:00\",\"2023-12-09T00:00:00\",\"2023-12-10T00:00:00\",\"2023-12-11T00:00:00\",\"2023-12-12T00:00:00\",\"2023-12-13T00:00:00\",\"2023-12-14T00:00:00\",\"2023-12-15T00:00:00\",\"2023-12-16T00:00:00\",\"2023-12-17T00:00:00\",\"2023-12-18T00:00:00\",\"2023-12-19T00:00:00\",\"2023-12-20T00:00:00\",\"2023-12-21T00:00:00\",\"2023-12-22T00:00:00\",\"2023-12-23T00:00:00\",\"2023-12-24T00:00:00\",\"2023-12-25T00:00:00\",\"2023-12-26T00:00:00\",\"2023-12-27T00:00:00\",\"2023-12-28T00:00:00\",\"2023-12-29T00:00:00\",\"2023-12-30T00:00:00\",\"2023-12-31T00:00:00\",\"2024-01-01T00:00:00\",\"2024-01-02T00:00:00\",\"2024-01-03T00:00:00\",\"2024-01-04T00:00:00\",\"2024-01-05T00:00:00\",\"2024-01-06T00:00:00\",\"2024-01-07T00:00:00\",\"2024-01-08T00:00:00\",\"2024-01-09T00:00:00\"],\"y\":[30.483713150024414,26.216901779174805,25.67428970336914,26.392404556274414,27.871564865112305,28.92279624938965,28.42134666442871,27.422529220581055,24.780466079711914,25.762754440307617,28.282258987426758,29.910947799682617,30.326379776000977,31.140653610229492,25.52048683166504,23.729825973510742,27.45526695251465,25.165197372436523,23.385814666748047,24.358808517456055,21.821826934814453,23.036348342895508,23.644411087036133,24.634876251220703,25.079423904418945,25.973539352416992,23.458669662475586,21.737688064575195,22.801923751831055,25.121383666992188,26.19847869873047,24.78369140625,26.440202713012695,25.993906021118164,24.991893768310547,25.01630210876465,21.60353660583496,21.86979866027832,22.6396427154541,25.265050888061523,25.43449592590332,19.542612075805664,20.089818954467773,19.701704025268555,23.958587646484375,24.607831954956055,23.867507934570312,19.71062660217285,19.957773208618164,18.14305305480957,15.035593032836914,15.35874080657959,15.940154075622559,17.663881301879883,18.977231979370117,15.65555191040039,16.345182418823242,18.67698097229004,18.15947151184082,12.494878768920898,12.150989532470703,16.01020622253418,18.32877540588379,15.283702850341797,11.330355644226074,13.476635932922363,14.506689071655273,17.54043197631836,18.89548110961914,20.25297737121582,19.99053382873535,18.734331130981445,9.825726509094238,13.232147216796875,15.61168098449707,13.37055492401123,10.977462768554688,5.7980122566223145,5.146068572998047,9.5708589553833,6.083860397338867,7.377297401428223,11.34167194366455,14.995916366577148,15.749494552612305,17.127859115600586,18.084074020385742,15.606473922729492,17.389127731323242,16.508136749267578,11.202256202697754,7.862173080444336,8.358365058898926,10.812650680541992,9.788691520690918,8.705910682678223,4.9674530029296875,6.667773246765137,10.944101333618164,11.678177833557129,7.154429912567139,9.614838600158691,5.094085693359375,8.141483306884766,12.452666282653809,11.061907768249512,7.964935302734375,6.972009181976318,11.826700210571289,6.794875621795654,4.730368614196777,7.648394584655762,9.66005802154541,6.6386003494262695,0.4189804196357727,1.2680623531341553,-0.19559508562088013,0.6094434261322021,4.7057881355285645,9.16813850402832,10.852151870727539,12.268829345703125,4.950634002685547,2.2117340564727783,-5.192543029785156,1.3542112112045288,36.181541442871094,18.54143714904785,1.1426732540130615,4.720999717712402,5.170130729675293,4.572731018066406,11.424160957336426,7.377610206604004,-3.9054927825927734,0.5273377299308777,6.628028392791748,2.850278377532959,2.011338233947754,5.347480297088623,1.6687544584274292,3.410536289215088,1.7396104335784912,3.3631839752197266,4.833617210388184,3.221684694290161,2.1152374744415283,-0.517480731010437,-0.9486321210861206,1.276712417602539,3.0454673767089844,3.11635422706604,5.494734287261963,8.111061096191406,5.924690246582031,4.733096122741699,2.207695245742798,5.406214714050293,2.9589996337890625,1.4139903783798218,1.033860206604004,3.6507394313812256,-0.5311298966407776,-1.6904042959213257,-1.7296254634857178,-0.15256065130233765,-0.31406450271606445,-1.8713905811309814,-6.988437652587891,-3.9449667930603027,-4.579470157623291,-4.854340076446533,28.120908737182617,86.3311538696289,2.612729787826538,6.4103498458862305,3.5557966232299805,-0.8084883689880371,-5.557098388671875,23.7469425201416,-2.330594778060913,-2.3678483963012695,-9.042778015136719,0.578200101852417,-1.5798513889312744,0.16485634446144104,3.7721848487854004,-1.5153180360794067,-3.263430118560791,-2.127169132232666,13.90551471710205,0.8736923933029175,1.2366137504577637,-0.9873532056808472,7.230771541595459,4.949235916137695,6.671578407287598,6.583639144897461,4.619747638702393,4.497164249420166,-3.4125616550445557,4.397016525268555,3.8095450401306152,-0.7319209575653076,0.19427037239074707,1.7119227647781372,3.432398796081543,10.294708251953125,10.105098724365234,12.532341957092285,15.44661808013916,8.671761512756348,6.552689552307129,-0.1983795166015625,1.1470592021942139,5.011134147644043,6.336577415466309,0.45314401388168335,9.886824607849121,12.043749809265137,11.737128257751465,11.939702033996582,10.943755149841309,14.761763572692871,17.31498146057129,15.658102989196777,14.462525367736816,8.916966438293457,11.141685485839844,14.876103401184082,8.194454193115234,2.3616485595703125,9.377633094787598,14.53161907196045,66.34271240234375,94.78181457519531,97.31765747070312,51.28279495239258,13.11330509185791,14.998007774353027,11.830878257751465,9.60030460357666,13.537442207336426,17.004003524780273,12.158490180969238,9.19059944152832,9.996745109558105,13.58785343170166,16.472002029418945,17.583797454833984,15.167698860168457,5.462932109832764,10.040029525756836,16.3812198638916,15.409611701965332,11.094130516052246,14.212677001953125,18.943937301635742,21.830795288085938,16.606897354125977,12.322142601013184,18.032503128051758,18.71531105041504,16.70331382751465,16.06279182434082,14.614568710327148,16.07980728149414,12.668427467346191,11.892224311828613,13.378413200378418,13.335402488708496,14.002107620239258,16.024188995361328,18.85212516784668,20.818910598754883,20.031057357788086,21.31431007385254,21.568132400512695,22.619665145874023,21.607332229614258,21.906360626220703,25.420114517211914,25.64198112487793,18.871488571166992,19.45392608642578,24.05815315246582,23.8456974029541,17.041831970214844,11.079310417175293,11.510039329528809,15.521201133728027,20.48126220703125,21.69879913330078,20.530153274536133,23.37002944946289,25.25052261352539,29.497446060180664,30.51287269592285,29.604015350341797,29.100393295288086,25.521398544311523,21.280731201171875,20.20389175415039,21.200536727905273,21.70561408996582,23.333677291870117,22.2799129486084,21.761999130249023,23.517362594604492,25.18589973449707,26.318387985229492,28.182218551635742,24.60890007019043,20.233598709106445,21.503835678100586,23.38199806213379,25.90218162536621,27.807283401489258,30.216691970825195,31.656259536743164,26.627859115600586,29.91912078857422,25.274328231811523,19.750104904174805,22.123533248901367,25.92081642150879,28.050024032592773,29.650117874145508,27.613975524902344,26.811283111572266,24.456756591796875,25.857654571533203,27.1829776763916,23.669540405273438,26.93739128112793,29.460710525512695,30.79463005065918,30.14760971069336,27.683395385742188,25.954938888549805,28.31966781616211,26.801557540893555,24.958723068237305,23.695974349975586,25.531158447265625,27.28959083557129,26.636335372924805,28.39936637878418,26.627439498901367,24.612150192260742,24.49632453918457,22.942668914794922,23.776281356811523,24.064542770385742,24.055870056152344,24.125566482543945,24.23267936706543,26.950559616088867,27.93983268737793,24.6723690032959,24.77088737487793,27.0797119140625,28.96430015563965,30.6541748046875,31.732341766357422,30.483713150024414,26.216901779174805,25.67428970336914,26.392404556274414,26.41861915588379,26.94428062438965,25.983972549438477,26.61629867553711,25.77232551574707,26.630277633666992,28.57253646850586,28.769147872924805,27.332656860351562,28.745494842529297,26.434446334838867,25.785694122314453,25.975507736206055,24.407615661621094,24.01505470275879,21.859403610229492,23.790868759155273,23.919954299926758,24.095300674438477,24.56474494934082,24.760009765625,25.536043167114258,24.69921112060547,24.255468368530273,23.202354431152344,22.94161605834961,24.111637115478516,23.176305770874023,21.372726440429688,22.458406448364258,23.15005874633789,21.746347427368164,17.168798446655273,17.53694725036621,18.72722816467285,19.95274543762207,22.5290584564209,20.615217208862305,20.99705696105957,21.131855010986328,23.958587646484375,24.607831954956055,23.867507934570312,19.71062660217285,19.957773208618164,18.14305305480957,15.035593032836914,15.35874080657959,15.940154075622559,17.663881301879883,18.977231979370117,15.65555191040039,16.345182418823242,18.67698097229004,18.15947151184082,12.494878768920898,12.150989532470703,16.01020622253418,18.32877540588379,15.283702850341797,11.330355644226074,13.476635932922363,14.506689071655273,17.54043197631836,18.89548110961914,20.25297737121582,19.99053382873535,18.734331130981445,9.825726509094238,13.232147216796875,15.61168098449707,13.37055492401123,10.977462768554688,5.7980122566223145,5.146068572998047,9.5708589553833,6.083860397338867,7.377297401428223,11.34167194366455,14.995916366577148,15.749494552612305,17.127859115600586,18.084074020385742,15.606473922729492,17.389127731323242,16.508136749267578,11.202256202697754,7.862173080444336,8.358365058898926,10.812650680541992,9.788691520690918,8.705910682678223,4.9674530029296875,6.667773246765137,10.944101333618164,11.678177833557129,7.154429912567139,9.614838600158691,5.094085693359375,8.141483306884766,12.452666282653809,11.061907768249512,7.964935302734375,6.972009181976318,11.826700210571289,6.794875621795654,4.730368614196777,7.648394584655762,9.66005802154541,6.6386003494262695,0.4189804196357727,1.2680623531341553,-0.19559508562088013,0.6094434261322021,4.7057881355285645,9.16813850402832,10.852151870727539,12.268829345703125,4.950634002685547,2.2117340564727783,-5.192543029785156,1.3542112112045288,36.181541442871094,18.54143714904785,1.1426732540130615,4.720999717712402,5.170130729675293,4.572731018066406,11.424160957336426,7.377610206604004,-3.9054927825927734,0.5273377299308777,6.628028392791748,2.850278377532959,2.011338233947754,5.347480297088623,1.6687544584274292,3.410536289215088,1.7396104335784912,3.3631839752197266,4.833617210388184,3.221684694290161,2.1152374744415283,-0.517480731010437,-0.9486321210861206,1.276712417602539,3.0454673767089844,3.11635422706604,5.494734287261963,8.111061096191406,5.924690246582031,4.733096122741699,2.207695245742798,5.406214714050293,2.9589996337890625,1.4139903783798218,1.033860206604004,3.6507394313812256,-0.5311298966407776,-1.6904042959213257,-1.7296254634857178,-0.15256065130233765,-0.31406450271606445,-1.8713905811309814,-6.988437652587891,-3.9449667930603027,-4.579470157623291,-4.854340076446533,28.120908737182617,86.3311538696289,2.612729787826538,6.4103498458862305,3.5557966232299805,-0.8084883689880371,-5.557098388671875,23.7469425201416,-2.330594778060913,-2.3678483963012695,-9.042778015136719,0.578200101852417,-1.5798513889312744,0.16485634446144104,3.7721848487854004,-1.5153180360794067,-3.263430118560791,-2.127169132232666,13.90551471710205,0.8736923933029175,1.2366137504577637,-0.9873532056808472,7.230771541595459,4.949235916137695,6.671578407287598,6.583639144897461,4.619747638702393,4.497164249420166,-3.4125616550445557,4.397016525268555,3.8095450401306152,-0.7319209575653076,0.19427037239074707,1.7119227647781372,3.432398796081543,10.294708251953125,10.105098724365234,12.532341957092285,15.44661808013916,8.671761512756348,6.552689552307129,-0.1983795166015625,1.1470592021942139,5.011134147644043,6.336577415466309,0.45314401388168335,9.886824607849121,12.043749809265137,11.737128257751465,11.939702033996582,10.943755149841309,14.761763572692871,17.31498146057129,15.658102989196777,14.462525367736816,8.916966438293457,11.141685485839844,14.876103401184082,8.194454193115234,2.3616485595703125,9.377633094787598,14.53161907196045,66.34271240234375,94.78181457519531,97.31765747070312,51.28279495239258,13.11330509185791,14.998007774353027,11.830878257751465,9.60030460357666,13.537442207336426,17.004003524780273,12.158490180969238,9.19059944152832,9.996745109558105,13.58785343170166,16.472002029418945,17.583797454833984,15.167698860168457,5.462932109832764,10.040029525756836,16.3812198638916,15.409611701965332,11.094130516052246,14.212677001953125,18.943937301635742,21.830795288085938,16.606897354125977,12.322142601013184,18.032503128051758,18.71531105041504,16.70331382751465,16.06279182434082,14.614568710327148,16.07980728149414,12.668427467346191,11.892224311828613,13.378413200378418,13.335402488708496,14.002107620239258,16.024188995361328,18.85212516784668,20.818910598754883,20.031057357788086,21.31431007385254,21.568132400512695,22.619665145874023,21.607332229614258,21.906360626220703,25.420114517211914,25.64198112487793,18.871488571166992,19.45392608642578,24.05815315246582,23.8456974029541,17.041831970214844,11.079310417175293,11.510039329528809,15.521201133728027,20.48126220703125,21.69879913330078,20.530153274536133,23.37002944946289,25.25052261352539,29.497446060180664,30.51287269592285,29.604015350341797,29.100393295288086,25.521398544311523,21.280731201171875,20.20389175415039,21.200536727905273,21.70561408996582,23.333677291870117,22.2799129486084,21.761999130249023,23.517362594604492,25.18589973449707,26.318387985229492,28.182218551635742,24.60890007019043,20.233598709106445,21.503835678100586,23.38199806213379,25.90218162536621,27.807283401489258,30.216691970825195,31.656259536743164,26.627859115600586,29.91912078857422,25.274328231811523,19.750104904174805,22.123533248901367,25.92081642150879,28.050024032592773,29.650117874145508,27.613975524902344,26.811283111572266,24.456756591796875,25.857654571533203,27.1829776763916,23.669540405273438,26.93739128112793,29.460710525512695,30.79463005065918,30.14760971069336,27.683395385742188,25.954938888549805,28.31966781616211,26.801557540893555,24.958723068237305,23.695974349975586,25.531158447265625,27.28959083557129,26.636335372924805,28.39936637878418,26.627439498901367,24.612150192260742,24.49632453918457,22.942668914794922,23.776281356811523,24.064542770385742,24.055870056152344,24.125566482543945,24.23267936706543,26.950559616088867,27.93983268737793,24.6723690032959,24.77088737487793,27.0797119140625,28.96430015563965,30.6541748046875,31.732341766357422,30.483713150024414,26.216901779174805,25.67428970336914,26.392404556274414,26.41861915588379,26.94428062438965,25.983972549438477,26.61629867553711,25.77232551574707,26.630277633666992,28.57253646850586,28.769147872924805,27.332656860351562,28.745494842529297,26.434446334838867,25.785694122314453,25.975507736206055,24.407615661621094,24.01505470275879,21.859403610229492,23.790868759155273,23.919954299926758,24.095300674438477,24.56474494934082,24.760009765625,25.536043167114258,24.69921112060547,24.255468368530273,23.202354431152344,22.94161605834961,24.111637115478516,23.176305770874023,21.372726440429688,22.458406448364258,23.15005874633789,21.746347427368164,17.168798446655273,17.53694725036621,18.72722816467285,19.95274543762207,22.5290584564209,20.615217208862305,20.99705696105957,21.131855010986328,23.958587646484375,24.607831954956055,23.867507934570312,19.71062660217285,19.957773208618164,18.14305305480957,15.035593032836914,15.35874080657959,15.940154075622559,17.663881301879883,18.977231979370117,15.65555191040039,16.345182418823242,18.67698097229004,18.15947151184082,12.494878768920898,12.150989532470703,16.01020622253418,18.32877540588379,15.283702850341797,11.330355644226074,13.476635932922363,14.506689071655273,17.54043197631836,18.89548110961914,20.25297737121582,19.99053382873535,18.734331130981445,9.825726509094238,13.232147216796875,15.61168098449707,13.37055492401123,10.977462768554688,5.7980122566223145,5.146068572998047,9.5708589553833,9.050152778625488,8.779759407043457,12.11991024017334,16.130281448364258,14.886034965515137,14.882960319519043,16.224349975585938,12.121407508850098,14.473631858825684,12.245123863220215,7.476541042327881,5.200620651245117,7.263455390930176,11.105340003967285,10.820481300354004,10.56688404083252,8.705107688903809,10.3868989944458,12.173357963562012,10.416428565979004,3.887965679168701,9.563821792602539,3.5539019107818604,6.216161727905273,9.962483406066895,8.424603462219238,5.355704307556152,4.8732123374938965,10.020376205444336,4.817195892333984,5.356208324432373,10.233716011047363,10.223854064941406,6.690167427062988,-0.16861140727996826,1.2680623531341553,-0.19559508562088013,0.6094434261322021,4.7057881355285645,9.16813850402832,10.852151870727539,12.268829345703125,4.950634002685547,2.2117340564727783,-5.192543029785156,1.3542112112045288,36.181541442871094,18.54143714904785,1.1426732540130615,4.720999717712402,5.170130729675293,4.572731018066406,11.424160957336426,7.377610206604004,-3.9054932594299316,0.5273371934890747,6.628027439117432,2.8502790927886963,2.011338233947754,5.347479820251465,1.66875422000885,3.410536289215088,1.7396106719970703,3.3631844520568848,4.833617210388184,3.221684694290161,2.11523699760437,-0.5174805521965027,-0.9486318826675415],\"type\":\"scatter\"}],                        {\"template\":{\"data\":{\"histogram2dcontour\":[{\"type\":\"histogram2dcontour\",\"colorbar\":{\"outlinewidth\":0,\"ticks\":\"\"},\"colorscale\":[[0.0,\"#0d0887\"],[0.1111111111111111,\"#46039f\"],[0.2222222222222222,\"#7201a8\"],[0.3333333333333333,\"#9c179e\"],[0.4444444444444444,\"#bd3786\"],[0.5555555555555556,\"#d8576b\"],[0.6666666666666666,\"#ed7953\"],[0.7777777777777778,\"#fb9f3a\"],[0.8888888888888888,\"#fdca26\"],[1.0,\"#f0f921\"]]}],\"choropleth\":[{\"type\":\"choropleth\",\"colorbar\":{\"outlinewidth\":0,\"ticks\":\"\"}}],\"histogram2d\":[{\"type\":\"histogram2d\",\"colorbar\":{\"outlinewidth\":0,\"ticks\":\"\"},\"colorscale\":[[0.0,\"#0d0887\"],[0.1111111111111111,\"#46039f\"],[0.2222222222222222,\"#7201a8\"],[0.3333333333333333,\"#9c179e\"],[0.4444444444444444,\"#bd3786\"],[0.5555555555555556,\"#d8576b\"],[0.6666666666666666,\"#ed7953\"],[0.7777777777777778,\"#fb9f3a\"],[0.8888888888888888,\"#fdca26\"],[1.0,\"#f0f921\"]]}],\"heatmap\":[{\"type\":\"heatmap\",\"colorbar\":{\"outlinewidth\":0,\"ticks\":\"\"},\"colorscale\":[[0.0,\"#0d0887\"],[0.1111111111111111,\"#46039f\"],[0.2222222222222222,\"#7201a8\"],[0.3333333333333333,\"#9c179e\"],[0.4444444444444444,\"#bd3786\"],[0.5555555555555556,\"#d8576b\"],[0.6666666666666666,\"#ed7953\"],[0.7777777777777778,\"#fb9f3a\"],[0.8888888888888888,\"#fdca26\"],[1.0,\"#f0f921\"]]}],\"heatmapgl\":[{\"type\":\"heatmapgl\",\"colorbar\":{\"outlinewidth\":0,\"ticks\":\"\"},\"colorscale\":[[0.0,\"#0d0887\"],[0.1111111111111111,\"#46039f\"],[0.2222222222222222,\"#7201a8\"],[0.3333333333333333,\"#9c179e\"],[0.4444444444444444,\"#bd3786\"],[0.5555555555555556,\"#d8576b\"],[0.6666666666666666,\"#ed7953\"],[0.7777777777777778,\"#fb9f3a\"],[0.8888888888888888,\"#fdca26\"],[1.0,\"#f0f921\"]]}],\"contourcarpet\":[{\"type\":\"contourcarpet\",\"colorbar\":{\"outlinewidth\":0,\"ticks\":\"\"}}],\"contour\":[{\"type\":\"contour\",\"colorbar\":{\"outlinewidth\":0,\"ticks\":\"\"},\"colorscale\":[[0.0,\"#0d0887\"],[0.1111111111111111,\"#46039f\"],[0.2222222222222222,\"#7201a8\"],[0.3333333333333333,\"#9c179e\"],[0.4444444444444444,\"#bd3786\"],[0.5555555555555556,\"#d8576b\"],[0.6666666666666666,\"#ed7953\"],[0.7777777777777778,\"#fb9f3a\"],[0.8888888888888888,\"#fdca26\"],[1.0,\"#f0f921\"]]}],\"surface\":[{\"type\":\"surface\",\"colorbar\":{\"outlinewidth\":0,\"ticks\":\"\"},\"colorscale\":[[0.0,\"#0d0887\"],[0.1111111111111111,\"#46039f\"],[0.2222222222222222,\"#7201a8\"],[0.3333333333333333,\"#9c179e\"],[0.4444444444444444,\"#bd3786\"],[0.5555555555555556,\"#d8576b\"],[0.6666666666666666,\"#ed7953\"],[0.7777777777777778,\"#fb9f3a\"],[0.8888888888888888,\"#fdca26\"],[1.0,\"#f0f921\"]]}],\"mesh3d\":[{\"type\":\"mesh3d\",\"colorbar\":{\"outlinewidth\":0,\"ticks\":\"\"}}],\"scatter\":[{\"fillpattern\":{\"fillmode\":\"overlay\",\"size\":10,\"solidity\":0.2},\"type\":\"scatter\"}],\"parcoords\":[{\"type\":\"parcoords\",\"line\":{\"colorbar\":{\"outlinewidth\":0,\"ticks\":\"\"}}}],\"scatterpolargl\":[{\"type\":\"scatterpolargl\",\"marker\":{\"colorbar\":{\"outlinewidth\":0,\"ticks\":\"\"}}}],\"bar\":[{\"error_x\":{\"color\":\"#2a3f5f\"},\"error_y\":{\"color\":\"#2a3f5f\"},\"marker\":{\"line\":{\"color\":\"#E5ECF6\",\"width\":0.5},\"pattern\":{\"fillmode\":\"overlay\",\"size\":10,\"solidity\":0.2}},\"type\":\"bar\"}],\"scattergeo\":[{\"type\":\"scattergeo\",\"marker\":{\"colorbar\":{\"outlinewidth\":0,\"ticks\":\"\"}}}],\"scatterpolar\":[{\"type\":\"scatterpolar\",\"marker\":{\"colorbar\":{\"outlinewidth\":0,\"ticks\":\"\"}}}],\"histogram\":[{\"marker\":{\"pattern\":{\"fillmode\":\"overlay\",\"size\":10,\"solidity\":0.2}},\"type\":\"histogram\"}],\"scattergl\":[{\"type\":\"scattergl\",\"marker\":{\"colorbar\":{\"outlinewidth\":0,\"ticks\":\"\"}}}],\"scatter3d\":[{\"type\":\"scatter3d\",\"line\":{\"colorbar\":{\"outlinewidth\":0,\"ticks\":\"\"}},\"marker\":{\"colorbar\":{\"outlinewidth\":0,\"ticks\":\"\"}}}],\"scattermapbox\":[{\"type\":\"scattermapbox\",\"marker\":{\"colorbar\":{\"outlinewidth\":0,\"ticks\":\"\"}}}],\"scatterternary\":[{\"type\":\"scatterternary\",\"marker\":{\"colorbar\":{\"outlinewidth\":0,\"ticks\":\"\"}}}],\"scattercarpet\":[{\"type\":\"scattercarpet\",\"marker\":{\"colorbar\":{\"outlinewidth\":0,\"ticks\":\"\"}}}],\"carpet\":[{\"aaxis\":{\"endlinecolor\":\"#2a3f5f\",\"gridcolor\":\"white\",\"linecolor\":\"white\",\"minorgridcolor\":\"white\",\"startlinecolor\":\"#2a3f5f\"},\"baxis\":{\"endlinecolor\":\"#2a3f5f\",\"gridcolor\":\"white\",\"linecolor\":\"white\",\"minorgridcolor\":\"white\",\"startlinecolor\":\"#2a3f5f\"},\"type\":\"carpet\"}],\"table\":[{\"cells\":{\"fill\":{\"color\":\"#EBF0F8\"},\"line\":{\"color\":\"white\"}},\"header\":{\"fill\":{\"color\":\"#C8D4E3\"},\"line\":{\"color\":\"white\"}},\"type\":\"table\"}],\"barpolar\":[{\"marker\":{\"line\":{\"color\":\"#E5ECF6\",\"width\":0.5},\"pattern\":{\"fillmode\":\"overlay\",\"size\":10,\"solidity\":0.2}},\"type\":\"barpolar\"}],\"pie\":[{\"automargin\":true,\"type\":\"pie\"}]},\"layout\":{\"autotypenumbers\":\"strict\",\"colorway\":[\"#636efa\",\"#EF553B\",\"#00cc96\",\"#ab63fa\",\"#FFA15A\",\"#19d3f3\",\"#FF6692\",\"#B6E880\",\"#FF97FF\",\"#FECB52\"],\"font\":{\"color\":\"#2a3f5f\"},\"hovermode\":\"closest\",\"hoverlabel\":{\"align\":\"left\"},\"paper_bgcolor\":\"white\",\"plot_bgcolor\":\"#E5ECF6\",\"polar\":{\"bgcolor\":\"#E5ECF6\",\"angularaxis\":{\"gridcolor\":\"white\",\"linecolor\":\"white\",\"ticks\":\"\"},\"radialaxis\":{\"gridcolor\":\"white\",\"linecolor\":\"white\",\"ticks\":\"\"}},\"ternary\":{\"bgcolor\":\"#E5ECF6\",\"aaxis\":{\"gridcolor\":\"white\",\"linecolor\":\"white\",\"ticks\":\"\"},\"baxis\":{\"gridcolor\":\"white\",\"linecolor\":\"white\",\"ticks\":\"\"},\"caxis\":{\"gridcolor\":\"white\",\"linecolor\":\"white\",\"ticks\":\"\"}},\"coloraxis\":{\"colorbar\":{\"outlinewidth\":0,\"ticks\":\"\"}},\"colorscale\":{\"sequential\":[[0.0,\"#0d0887\"],[0.1111111111111111,\"#46039f\"],[0.2222222222222222,\"#7201a8\"],[0.3333333333333333,\"#9c179e\"],[0.4444444444444444,\"#bd3786\"],[0.5555555555555556,\"#d8576b\"],[0.6666666666666666,\"#ed7953\"],[0.7777777777777778,\"#fb9f3a\"],[0.8888888888888888,\"#fdca26\"],[1.0,\"#f0f921\"]],\"sequentialminus\":[[0.0,\"#0d0887\"],[0.1111111111111111,\"#46039f\"],[0.2222222222222222,\"#7201a8\"],[0.3333333333333333,\"#9c179e\"],[0.4444444444444444,\"#bd3786\"],[0.5555555555555556,\"#d8576b\"],[0.6666666666666666,\"#ed7953\"],[0.7777777777777778,\"#fb9f3a\"],[0.8888888888888888,\"#fdca26\"],[1.0,\"#f0f921\"]],\"diverging\":[[0,\"#8e0152\"],[0.1,\"#c51b7d\"],[0.2,\"#de77ae\"],[0.3,\"#f1b6da\"],[0.4,\"#fde0ef\"],[0.5,\"#f7f7f7\"],[0.6,\"#e6f5d0\"],[0.7,\"#b8e186\"],[0.8,\"#7fbc41\"],[0.9,\"#4d9221\"],[1,\"#276419\"]]},\"xaxis\":{\"gridcolor\":\"white\",\"linecolor\":\"white\",\"ticks\":\"\",\"title\":{\"standoff\":15},\"zerolinecolor\":\"white\",\"automargin\":true,\"zerolinewidth\":2},\"yaxis\":{\"gridcolor\":\"white\",\"linecolor\":\"white\",\"ticks\":\"\",\"title\":{\"standoff\":15},\"zerolinecolor\":\"white\",\"automargin\":true,\"zerolinewidth\":2},\"scene\":{\"xaxis\":{\"backgroundcolor\":\"#E5ECF6\",\"gridcolor\":\"white\",\"linecolor\":\"white\",\"showbackground\":true,\"ticks\":\"\",\"zerolinecolor\":\"white\",\"gridwidth\":2},\"yaxis\":{\"backgroundcolor\":\"#E5ECF6\",\"gridcolor\":\"white\",\"linecolor\":\"white\",\"showbackground\":true,\"ticks\":\"\",\"zerolinecolor\":\"white\",\"gridwidth\":2},\"zaxis\":{\"backgroundcolor\":\"#E5ECF6\",\"gridcolor\":\"white\",\"linecolor\":\"white\",\"showbackground\":true,\"ticks\":\"\",\"zerolinecolor\":\"white\",\"gridwidth\":2}},\"shapedefaults\":{\"line\":{\"color\":\"#2a3f5f\"}},\"annotationdefaults\":{\"arrowcolor\":\"#2a3f5f\",\"arrowhead\":0,\"arrowwidth\":1},\"geo\":{\"bgcolor\":\"white\",\"landcolor\":\"#E5ECF6\",\"subunitcolor\":\"white\",\"showland\":true,\"showlakes\":true,\"lakecolor\":\"white\"},\"title\":{\"x\":0.05},\"mapbox\":{\"style\":\"light\"}}},\"xaxis\":{\"rangeslider\":{\"visible\":true},\"title\":{\"text\":\"Date\"},\"type\":\"date\"},\"yaxis\":{\"title\":{\"text\":\"Value\"}}},                        {\"responsive\": true}                    ).then(function(){\n",
              "                            \n",
              "var gd = document.getElementById('a0ef975a-f2d3-493a-8c5a-a78b2614260d');\n",
              "var x = new MutationObserver(function (mutations, observer) {{\n",
              "        var display = window.getComputedStyle(gd).display;\n",
              "        if (!display || display === 'none') {{\n",
              "            console.log([gd, 'removed!']);\n",
              "            Plotly.purge(gd);\n",
              "            observer.disconnect();\n",
              "        }}\n",
              "}});\n",
              "\n",
              "// Listen for the removal of the full notebook cells\n",
              "var notebookContainer = gd.closest('#notebook-container');\n",
              "if (notebookContainer) {{\n",
              "    x.observe(notebookContainer, {childList: true});\n",
              "}}\n",
              "\n",
              "// Listen for the clearing of the current output cell\n",
              "var outputEl = gd.closest('.output');\n",
              "if (outputEl) {{\n",
              "    x.observe(outputEl, {childList: true});\n",
              "}}\n",
              "\n",
              "                        })                };                });            </script>        </div>"
            ]
          },
          "metadata": {}
        }
      ],
      "source": [
        "predictions_predictions_flattened = [item for sublist in predictions_predictions for item in sublist]\n",
        "\n",
        "# Assuming 'df_combine' and 'scaled_df_pred' are your DataFrames and 'var4_flattened' is your prediction data\n",
        "\n",
        "fig_1 = go.Figure()\n",
        "\n",
        "# Adding line for df1\n",
        "fig_1.add_trace(go.Scatter(x=df_combine.index, y=df_combine['TAVG'], mode='lines', name='Actual'))\n",
        "\n",
        "# Adding line for df2\n",
        "fig_1.add_trace(go.Scatter(x=scaled_df_pred.index, y=predictions_predictions_flattened, mode='lines', name='Prediction'))\n",
        "\n",
        "# Updating layout with range slider\n",
        "fig_1.update_layout(\n",
        "    xaxis_title='Date',\n",
        "    yaxis_title='Value',\n",
        "    xaxis=dict(\n",
        "        rangeslider=dict(\n",
        "            visible=True\n",
        "        ),\n",
        "        type='date'  # Assuming x-axis is datetime, change if otherwise\n",
        "    )\n",
        ")\n",
        "\n",
        "# Show the plot\n",
        "fig_1.show()\n"
      ]
    },
    {
      "cell_type": "markdown",
      "metadata": {
        "id": "_o8VOuzw-aJw"
      },
      "source": [
        "# Dash board"
      ]
    },
    {
      "cell_type": "code",
      "execution_count": 24,
      "metadata": {
        "id": "fHkjvKdv-aJw",
        "colab": {
          "base_uri": "https://localhost:8080/",
          "height": 648
        },
        "outputId": "0bbaed47-83bf-4b09-b2d2-306948187e69"
      },
      "outputs": [
        {
          "output_type": "stream",
          "name": "stdout",
          "text": [
            "Collecting dash\n",
            "  Downloading dash-2.14.2-py3-none-any.whl (10.2 MB)\n",
            "\u001b[2K     \u001b[90m━━━━━━━━━━━━━━━━━━━━━━━━━━━━━━━━━━━━━━━━\u001b[0m \u001b[32m10.2/10.2 MB\u001b[0m \u001b[31m42.4 MB/s\u001b[0m eta \u001b[36m0:00:00\u001b[0m\n",
            "\u001b[?25hRequirement already satisfied: Flask<3.1,>=1.0.4 in /usr/local/lib/python3.10/dist-packages (from dash) (2.2.5)\n",
            "Requirement already satisfied: Werkzeug<3.1 in /usr/local/lib/python3.10/dist-packages (from dash) (3.0.1)\n",
            "Requirement already satisfied: plotly>=5.0.0 in /usr/local/lib/python3.10/dist-packages (from dash) (5.15.0)\n",
            "Collecting dash-html-components==2.0.0 (from dash)\n",
            "  Downloading dash_html_components-2.0.0-py3-none-any.whl (4.1 kB)\n",
            "Collecting dash-core-components==2.0.0 (from dash)\n",
            "  Downloading dash_core_components-2.0.0-py3-none-any.whl (3.8 kB)\n",
            "Collecting dash-table==5.0.0 (from dash)\n",
            "  Downloading dash_table-5.0.0-py3-none-any.whl (3.9 kB)\n",
            "Requirement already satisfied: typing-extensions>=4.1.1 in /usr/local/lib/python3.10/dist-packages (from dash) (4.5.0)\n",
            "Requirement already satisfied: requests in /usr/local/lib/python3.10/dist-packages (from dash) (2.31.0)\n",
            "Collecting retrying (from dash)\n",
            "  Downloading retrying-1.3.4-py3-none-any.whl (11 kB)\n",
            "Collecting ansi2html (from dash)\n",
            "  Downloading ansi2html-1.8.0-py3-none-any.whl (16 kB)\n",
            "Requirement already satisfied: nest-asyncio in /usr/local/lib/python3.10/dist-packages (from dash) (1.5.8)\n",
            "Requirement already satisfied: setuptools in /usr/local/lib/python3.10/dist-packages (from dash) (67.7.2)\n",
            "Requirement already satisfied: importlib-metadata in /usr/local/lib/python3.10/dist-packages (from dash) (6.8.0)\n",
            "Requirement already satisfied: Jinja2>=3.0 in /usr/local/lib/python3.10/dist-packages (from Flask<3.1,>=1.0.4->dash) (3.1.2)\n",
            "Requirement already satisfied: itsdangerous>=2.0 in /usr/local/lib/python3.10/dist-packages (from Flask<3.1,>=1.0.4->dash) (2.1.2)\n",
            "Requirement already satisfied: click>=8.0 in /usr/local/lib/python3.10/dist-packages (from Flask<3.1,>=1.0.4->dash) (8.1.7)\n",
            "Requirement already satisfied: tenacity>=6.2.0 in /usr/local/lib/python3.10/dist-packages (from plotly>=5.0.0->dash) (8.2.3)\n",
            "Requirement already satisfied: packaging in /usr/local/lib/python3.10/dist-packages (from plotly>=5.0.0->dash) (23.2)\n",
            "Requirement already satisfied: MarkupSafe>=2.1.1 in /usr/local/lib/python3.10/dist-packages (from Werkzeug<3.1->dash) (2.1.3)\n",
            "Requirement already satisfied: zipp>=0.5 in /usr/local/lib/python3.10/dist-packages (from importlib-metadata->dash) (3.17.0)\n",
            "Requirement already satisfied: charset-normalizer<4,>=2 in /usr/local/lib/python3.10/dist-packages (from requests->dash) (3.3.2)\n",
            "Requirement already satisfied: idna<4,>=2.5 in /usr/local/lib/python3.10/dist-packages (from requests->dash) (3.6)\n",
            "Requirement already satisfied: urllib3<3,>=1.21.1 in /usr/local/lib/python3.10/dist-packages (from requests->dash) (2.0.7)\n",
            "Requirement already satisfied: certifi>=2017.4.17 in /usr/local/lib/python3.10/dist-packages (from requests->dash) (2023.11.17)\n",
            "Requirement already satisfied: six>=1.7.0 in /usr/local/lib/python3.10/dist-packages (from retrying->dash) (1.16.0)\n",
            "Installing collected packages: dash-table, dash-html-components, dash-core-components, retrying, ansi2html, dash\n",
            "Successfully installed ansi2html-1.8.0 dash-2.14.2 dash-core-components-2.0.0 dash-html-components-2.0.0 dash-table-5.0.0 retrying-1.3.4\n"
          ]
        }
      ],
      "source": [
        "!pip install dash\n",
        "import dash\n",
        "from dash import dcc\n",
        "from dash import html\n",
        "from dash.dependencies import Input, Output\n",
        "\n"
      ]
    },
    {
      "cell_type": "markdown",
      "metadata": {
        "id": "IPkBSJ3P-aJw"
      },
      "source": [
        "# Generate Heatmp to dash"
      ]
    },
    {
      "cell_type": "code",
      "execution_count": 25,
      "metadata": {
        "id": "b5NjP07D-aJw"
      },
      "outputs": [],
      "source": [
        "def generate_heatmap(selected_features):\n",
        "\n",
        "    filtered_data = df_combine[selected_features]\n",
        "    correlation_matrix = filtered_data.corr()\n",
        "    fig = px.imshow(correlation_matrix,\n",
        "                    labels=dict(x=\"Features_1\", y=\"Features_2\", color=\"Correlation\"),\n",
        "                    x=correlation_matrix.columns,\n",
        "                    y=correlation_matrix.columns,\n",
        "                    color_continuous_scale='pinkyl')\n",
        "    fig.update_layout(title='Feature Correlation Heatmap', title_x=0.5)\n",
        "    return fig\n"
      ]
    },
    {
      "cell_type": "markdown",
      "metadata": {
        "id": "xVIE93rr-aJw"
      },
      "source": [
        "# Generate model digram"
      ]
    },
    {
      "cell_type": "code",
      "execution_count": 26,
      "metadata": {
        "id": "T7D1x-HJ-aJw"
      },
      "outputs": [],
      "source": [
        "import base64\n",
        "\n",
        "def encode_image(image_file):\n",
        "    with open(image_file, 'rb') as file:\n",
        "        return base64.b64encode(file.read()).decode('ascii')"
      ]
    },
    {
      "cell_type": "markdown",
      "metadata": {
        "id": "6iHUSg5D-aJw"
      },
      "source": [
        "# Generate Pred graph"
      ]
    },
    {
      "cell_type": "code",
      "execution_count": 27,
      "metadata": {
        "id": "tApaLr0C-aJw",
        "colab": {
          "base_uri": "https://localhost:8080/",
          "height": 542
        },
        "outputId": "2d7c8156-fad0-4ffe-948b-9d8161a1c625"
      },
      "outputs": [
        {
          "output_type": "display_data",
          "data": {
            "application/vnd.plotly.v1+json": {
              "data": [
                {
                  "marker": {
                    "color": "blue"
                  },
                  "mode": "markers",
                  "name": "Actual",
                  "x": [
                    0,
                    1,
                    2,
                    3,
                    4,
                    5,
                    6,
                    7,
                    8,
                    9,
                    10,
                    11,
                    12,
                    13,
                    14,
                    15,
                    16,
                    17,
                    18,
                    19,
                    20,
                    21,
                    22,
                    23,
                    24,
                    25,
                    26,
                    27,
                    28,
                    29,
                    30,
                    31,
                    32,
                    33,
                    34,
                    35,
                    36,
                    37,
                    38,
                    39,
                    40,
                    41,
                    42,
                    43,
                    44,
                    45,
                    46,
                    47,
                    48,
                    49,
                    50,
                    51,
                    52,
                    53,
                    54,
                    55,
                    56,
                    57,
                    58,
                    59,
                    60,
                    61,
                    62,
                    63,
                    64,
                    65,
                    66,
                    67,
                    68,
                    69,
                    70,
                    71,
                    72,
                    73,
                    74,
                    75,
                    76,
                    77,
                    78,
                    79,
                    80,
                    81,
                    82,
                    83,
                    84,
                    85,
                    86,
                    87
                  ],
                  "y": [
                    11.95,
                    10.55,
                    20.3,
                    14.75,
                    23.35,
                    25.299999999999997,
                    -2.65,
                    18.6,
                    4.699999999999999,
                    5.3,
                    0.8999999999999999,
                    9.45,
                    10.8,
                    21.1,
                    26.65,
                    5,
                    8.35,
                    6.65,
                    5.550000000000001,
                    3.9,
                    25.55,
                    -0.7500000000000001,
                    20.85,
                    3.9,
                    13.6,
                    5.85,
                    13.05,
                    19.45,
                    10.55,
                    11.65,
                    24.700000000000003,
                    27.5,
                    4.7,
                    26.1,
                    25.3,
                    10.55,
                    8.6,
                    13.899999999999999,
                    20.8,
                    12.5,
                    21.4,
                    -0.75,
                    12.75,
                    15.25,
                    0.8500000000000001,
                    14.15,
                    0.8500000000000001,
                    23.049999999999997,
                    8.05,
                    19.15,
                    23.9,
                    23.35,
                    3.9,
                    5.55,
                    22.5,
                    23.35,
                    24.15,
                    21.4,
                    13.05,
                    20.85,
                    4.2,
                    3.95,
                    19.45,
                    24.75,
                    9.45,
                    8.9,
                    19.700000000000003,
                    0.2999999999999998,
                    5.85,
                    1.4,
                    21.35,
                    20,
                    24.450000000000003,
                    25,
                    3.9000000000000004,
                    1.9500000000000002,
                    9.45,
                    23.9,
                    15,
                    9.75,
                    11.95,
                    11.1,
                    5.6,
                    14.7,
                    6.4,
                    21.1,
                    25,
                    18.9
                  ],
                  "type": "scatter"
                },
                {
                  "marker": {
                    "color": "red",
                    "symbol": "x"
                  },
                  "mode": "markers",
                  "name": "Predicted",
                  "x": [
                    0,
                    1,
                    2,
                    3,
                    4,
                    5,
                    6,
                    7,
                    8,
                    9,
                    10,
                    11,
                    12,
                    13,
                    14,
                    15,
                    16,
                    17,
                    18,
                    19,
                    20,
                    21,
                    22,
                    23,
                    24,
                    25,
                    26,
                    27,
                    28,
                    29,
                    30,
                    31,
                    32,
                    33,
                    34,
                    35,
                    36,
                    37,
                    38,
                    39,
                    40,
                    41,
                    42,
                    43,
                    44,
                    45,
                    46,
                    47,
                    48,
                    49,
                    50,
                    51,
                    52,
                    53,
                    54,
                    55,
                    56,
                    57,
                    58,
                    59,
                    60,
                    61,
                    62,
                    63,
                    64,
                    65,
                    66,
                    67,
                    68,
                    69,
                    70,
                    71,
                    72,
                    73,
                    74,
                    75,
                    76,
                    77,
                    78,
                    79,
                    80,
                    81,
                    82,
                    83,
                    84,
                    85,
                    86,
                    87
                  ],
                  "y": [
                    13.378413200378418,
                    11.020060539245605,
                    22.942668914794922,
                    16.606897354125977,
                    25.857654571533203,
                    25.25052261352539,
                    -3.263430118560791,
                    19.74281883239746,
                    6.690167427062988,
                    9.050152778625488,
                    2.3616485595703125,
                    9.5708589553833,
                    10.943755149841309,
                    21.60353660583496,
                    26.636335372924805,
                    3.9951627254486084,
                    4.817195892333984,
                    6.583639144897461,
                    5.7980122566223145,
                    2.9589996337890625,
                    26.366655349731445,
                    -2.330594778060913,
                    21.139345169067383,
                    6.671578407287598,
                    13.90715503692627,
                    6.628028392791748,
                    15.61168098449707,
                    17.31498146057129,
                    3.887965679168701,
                    12.494878768920898,
                    25.18589973449707,
                    29.460710525512695,
                    3.6507394313812256,
                    27.45526695251465,
                    27.422529220581055,
                    10.977462768554688,
                    10.105098724365234,
                    13.605127334594727,
                    22.453731536865234,
                    13.537442207336426,
                    23.385814666748047,
                    0.5273377299308777,
                    14.53161907196045,
                    13.924053192138672,
                    1.4139903783798218,
                    13.798323631286621,
                    0.16485634446144104,
                    23.517362594604492,
                    6.016419410705566,
                    21.821826934814453,
                    24.634876251220703,
                    24.928850173950195,
                    5.494734287261963,
                    5.170130729675293,
                    25.245527267456055,
                    24.452280044555664,
                    24.05815315246582,
                    23.37002944946289,
                    12.150989532470703,
                    22.2799129486084,
                    2.207695245742798,
                    2.8415653705596924,
                    20.530153274536133,
                    25.01630210876465,
                    11.510039329528809,
                    9.563821792602539,
                    20.671974182128906,
                    -1.5798513889312744,
                    10.020376205444336,
                    0.6094434261322021,
                    23.867507934570312,
                    22.801923751831055,
                    25.973539352416992,
                    25.420114517211914,
                    3.5557966232299805,
                    1.1426732540130615,
                    11.079310417175293,
                    26.24003791809082,
                    15.035593032836914,
                    8.878072738647461,
                    15.167698860168457,
                    10.852151870727539,
                    3.5539019107818604,
                    16.01020622253418,
                    3.410536289215088,
                    23.33677101135254,
                    26.549869537353516,
                    19.99053382873535
                  ],
                  "type": "scatter"
                }
              ],
              "layout": {
                "template": {
                  "data": {
                    "barpolar": [
                      {
                        "marker": {
                          "line": {
                            "color": "white",
                            "width": 0.5
                          },
                          "pattern": {
                            "fillmode": "overlay",
                            "size": 10,
                            "solidity": 0.2
                          }
                        },
                        "type": "barpolar"
                      }
                    ],
                    "bar": [
                      {
                        "error_x": {
                          "color": "#2a3f5f"
                        },
                        "error_y": {
                          "color": "#2a3f5f"
                        },
                        "marker": {
                          "line": {
                            "color": "white",
                            "width": 0.5
                          },
                          "pattern": {
                            "fillmode": "overlay",
                            "size": 10,
                            "solidity": 0.2
                          }
                        },
                        "type": "bar"
                      }
                    ],
                    "carpet": [
                      {
                        "aaxis": {
                          "endlinecolor": "#2a3f5f",
                          "gridcolor": "#C8D4E3",
                          "linecolor": "#C8D4E3",
                          "minorgridcolor": "#C8D4E3",
                          "startlinecolor": "#2a3f5f"
                        },
                        "baxis": {
                          "endlinecolor": "#2a3f5f",
                          "gridcolor": "#C8D4E3",
                          "linecolor": "#C8D4E3",
                          "minorgridcolor": "#C8D4E3",
                          "startlinecolor": "#2a3f5f"
                        },
                        "type": "carpet"
                      }
                    ],
                    "choropleth": [
                      {
                        "colorbar": {
                          "outlinewidth": 0,
                          "ticks": ""
                        },
                        "type": "choropleth"
                      }
                    ],
                    "contourcarpet": [
                      {
                        "colorbar": {
                          "outlinewidth": 0,
                          "ticks": ""
                        },
                        "type": "contourcarpet"
                      }
                    ],
                    "contour": [
                      {
                        "colorbar": {
                          "outlinewidth": 0,
                          "ticks": ""
                        },
                        "colorscale": [
                          [
                            0,
                            "#0d0887"
                          ],
                          [
                            0.1111111111111111,
                            "#46039f"
                          ],
                          [
                            0.2222222222222222,
                            "#7201a8"
                          ],
                          [
                            0.3333333333333333,
                            "#9c179e"
                          ],
                          [
                            0.4444444444444444,
                            "#bd3786"
                          ],
                          [
                            0.5555555555555556,
                            "#d8576b"
                          ],
                          [
                            0.6666666666666666,
                            "#ed7953"
                          ],
                          [
                            0.7777777777777778,
                            "#fb9f3a"
                          ],
                          [
                            0.8888888888888888,
                            "#fdca26"
                          ],
                          [
                            1,
                            "#f0f921"
                          ]
                        ],
                        "type": "contour"
                      }
                    ],
                    "heatmapgl": [
                      {
                        "colorbar": {
                          "outlinewidth": 0,
                          "ticks": ""
                        },
                        "colorscale": [
                          [
                            0,
                            "#0d0887"
                          ],
                          [
                            0.1111111111111111,
                            "#46039f"
                          ],
                          [
                            0.2222222222222222,
                            "#7201a8"
                          ],
                          [
                            0.3333333333333333,
                            "#9c179e"
                          ],
                          [
                            0.4444444444444444,
                            "#bd3786"
                          ],
                          [
                            0.5555555555555556,
                            "#d8576b"
                          ],
                          [
                            0.6666666666666666,
                            "#ed7953"
                          ],
                          [
                            0.7777777777777778,
                            "#fb9f3a"
                          ],
                          [
                            0.8888888888888888,
                            "#fdca26"
                          ],
                          [
                            1,
                            "#f0f921"
                          ]
                        ],
                        "type": "heatmapgl"
                      }
                    ],
                    "heatmap": [
                      {
                        "colorbar": {
                          "outlinewidth": 0,
                          "ticks": ""
                        },
                        "colorscale": [
                          [
                            0,
                            "#0d0887"
                          ],
                          [
                            0.1111111111111111,
                            "#46039f"
                          ],
                          [
                            0.2222222222222222,
                            "#7201a8"
                          ],
                          [
                            0.3333333333333333,
                            "#9c179e"
                          ],
                          [
                            0.4444444444444444,
                            "#bd3786"
                          ],
                          [
                            0.5555555555555556,
                            "#d8576b"
                          ],
                          [
                            0.6666666666666666,
                            "#ed7953"
                          ],
                          [
                            0.7777777777777778,
                            "#fb9f3a"
                          ],
                          [
                            0.8888888888888888,
                            "#fdca26"
                          ],
                          [
                            1,
                            "#f0f921"
                          ]
                        ],
                        "type": "heatmap"
                      }
                    ],
                    "histogram2dcontour": [
                      {
                        "colorbar": {
                          "outlinewidth": 0,
                          "ticks": ""
                        },
                        "colorscale": [
                          [
                            0,
                            "#0d0887"
                          ],
                          [
                            0.1111111111111111,
                            "#46039f"
                          ],
                          [
                            0.2222222222222222,
                            "#7201a8"
                          ],
                          [
                            0.3333333333333333,
                            "#9c179e"
                          ],
                          [
                            0.4444444444444444,
                            "#bd3786"
                          ],
                          [
                            0.5555555555555556,
                            "#d8576b"
                          ],
                          [
                            0.6666666666666666,
                            "#ed7953"
                          ],
                          [
                            0.7777777777777778,
                            "#fb9f3a"
                          ],
                          [
                            0.8888888888888888,
                            "#fdca26"
                          ],
                          [
                            1,
                            "#f0f921"
                          ]
                        ],
                        "type": "histogram2dcontour"
                      }
                    ],
                    "histogram2d": [
                      {
                        "colorbar": {
                          "outlinewidth": 0,
                          "ticks": ""
                        },
                        "colorscale": [
                          [
                            0,
                            "#0d0887"
                          ],
                          [
                            0.1111111111111111,
                            "#46039f"
                          ],
                          [
                            0.2222222222222222,
                            "#7201a8"
                          ],
                          [
                            0.3333333333333333,
                            "#9c179e"
                          ],
                          [
                            0.4444444444444444,
                            "#bd3786"
                          ],
                          [
                            0.5555555555555556,
                            "#d8576b"
                          ],
                          [
                            0.6666666666666666,
                            "#ed7953"
                          ],
                          [
                            0.7777777777777778,
                            "#fb9f3a"
                          ],
                          [
                            0.8888888888888888,
                            "#fdca26"
                          ],
                          [
                            1,
                            "#f0f921"
                          ]
                        ],
                        "type": "histogram2d"
                      }
                    ],
                    "histogram": [
                      {
                        "marker": {
                          "pattern": {
                            "fillmode": "overlay",
                            "size": 10,
                            "solidity": 0.2
                          }
                        },
                        "type": "histogram"
                      }
                    ],
                    "mesh3d": [
                      {
                        "colorbar": {
                          "outlinewidth": 0,
                          "ticks": ""
                        },
                        "type": "mesh3d"
                      }
                    ],
                    "parcoords": [
                      {
                        "line": {
                          "colorbar": {
                            "outlinewidth": 0,
                            "ticks": ""
                          }
                        },
                        "type": "parcoords"
                      }
                    ],
                    "pie": [
                      {
                        "automargin": true,
                        "type": "pie"
                      }
                    ],
                    "scatter3d": [
                      {
                        "line": {
                          "colorbar": {
                            "outlinewidth": 0,
                            "ticks": ""
                          }
                        },
                        "marker": {
                          "colorbar": {
                            "outlinewidth": 0,
                            "ticks": ""
                          }
                        },
                        "type": "scatter3d"
                      }
                    ],
                    "scattercarpet": [
                      {
                        "marker": {
                          "colorbar": {
                            "outlinewidth": 0,
                            "ticks": ""
                          }
                        },
                        "type": "scattercarpet"
                      }
                    ],
                    "scattergeo": [
                      {
                        "marker": {
                          "colorbar": {
                            "outlinewidth": 0,
                            "ticks": ""
                          }
                        },
                        "type": "scattergeo"
                      }
                    ],
                    "scattergl": [
                      {
                        "marker": {
                          "colorbar": {
                            "outlinewidth": 0,
                            "ticks": ""
                          }
                        },
                        "type": "scattergl"
                      }
                    ],
                    "scattermapbox": [
                      {
                        "marker": {
                          "colorbar": {
                            "outlinewidth": 0,
                            "ticks": ""
                          }
                        },
                        "type": "scattermapbox"
                      }
                    ],
                    "scatterpolargl": [
                      {
                        "marker": {
                          "colorbar": {
                            "outlinewidth": 0,
                            "ticks": ""
                          }
                        },
                        "type": "scatterpolargl"
                      }
                    ],
                    "scatterpolar": [
                      {
                        "marker": {
                          "colorbar": {
                            "outlinewidth": 0,
                            "ticks": ""
                          }
                        },
                        "type": "scatterpolar"
                      }
                    ],
                    "scatter": [
                      {
                        "fillpattern": {
                          "fillmode": "overlay",
                          "size": 10,
                          "solidity": 0.2
                        },
                        "type": "scatter"
                      }
                    ],
                    "scatterternary": [
                      {
                        "marker": {
                          "colorbar": {
                            "outlinewidth": 0,
                            "ticks": ""
                          }
                        },
                        "type": "scatterternary"
                      }
                    ],
                    "surface": [
                      {
                        "colorbar": {
                          "outlinewidth": 0,
                          "ticks": ""
                        },
                        "colorscale": [
                          [
                            0,
                            "#0d0887"
                          ],
                          [
                            0.1111111111111111,
                            "#46039f"
                          ],
                          [
                            0.2222222222222222,
                            "#7201a8"
                          ],
                          [
                            0.3333333333333333,
                            "#9c179e"
                          ],
                          [
                            0.4444444444444444,
                            "#bd3786"
                          ],
                          [
                            0.5555555555555556,
                            "#d8576b"
                          ],
                          [
                            0.6666666666666666,
                            "#ed7953"
                          ],
                          [
                            0.7777777777777778,
                            "#fb9f3a"
                          ],
                          [
                            0.8888888888888888,
                            "#fdca26"
                          ],
                          [
                            1,
                            "#f0f921"
                          ]
                        ],
                        "type": "surface"
                      }
                    ],
                    "table": [
                      {
                        "cells": {
                          "fill": {
                            "color": "#EBF0F8"
                          },
                          "line": {
                            "color": "white"
                          }
                        },
                        "header": {
                          "fill": {
                            "color": "#C8D4E3"
                          },
                          "line": {
                            "color": "white"
                          }
                        },
                        "type": "table"
                      }
                    ]
                  },
                  "layout": {
                    "annotationdefaults": {
                      "arrowcolor": "#2a3f5f",
                      "arrowhead": 0,
                      "arrowwidth": 1
                    },
                    "autotypenumbers": "strict",
                    "coloraxis": {
                      "colorbar": {
                        "outlinewidth": 0,
                        "ticks": ""
                      }
                    },
                    "colorscale": {
                      "diverging": [
                        [
                          0,
                          "#8e0152"
                        ],
                        [
                          0.1,
                          "#c51b7d"
                        ],
                        [
                          0.2,
                          "#de77ae"
                        ],
                        [
                          0.3,
                          "#f1b6da"
                        ],
                        [
                          0.4,
                          "#fde0ef"
                        ],
                        [
                          0.5,
                          "#f7f7f7"
                        ],
                        [
                          0.6,
                          "#e6f5d0"
                        ],
                        [
                          0.7,
                          "#b8e186"
                        ],
                        [
                          0.8,
                          "#7fbc41"
                        ],
                        [
                          0.9,
                          "#4d9221"
                        ],
                        [
                          1,
                          "#276419"
                        ]
                      ],
                      "sequential": [
                        [
                          0,
                          "#0d0887"
                        ],
                        [
                          0.1111111111111111,
                          "#46039f"
                        ],
                        [
                          0.2222222222222222,
                          "#7201a8"
                        ],
                        [
                          0.3333333333333333,
                          "#9c179e"
                        ],
                        [
                          0.4444444444444444,
                          "#bd3786"
                        ],
                        [
                          0.5555555555555556,
                          "#d8576b"
                        ],
                        [
                          0.6666666666666666,
                          "#ed7953"
                        ],
                        [
                          0.7777777777777778,
                          "#fb9f3a"
                        ],
                        [
                          0.8888888888888888,
                          "#fdca26"
                        ],
                        [
                          1,
                          "#f0f921"
                        ]
                      ],
                      "sequentialminus": [
                        [
                          0,
                          "#0d0887"
                        ],
                        [
                          0.1111111111111111,
                          "#46039f"
                        ],
                        [
                          0.2222222222222222,
                          "#7201a8"
                        ],
                        [
                          0.3333333333333333,
                          "#9c179e"
                        ],
                        [
                          0.4444444444444444,
                          "#bd3786"
                        ],
                        [
                          0.5555555555555556,
                          "#d8576b"
                        ],
                        [
                          0.6666666666666666,
                          "#ed7953"
                        ],
                        [
                          0.7777777777777778,
                          "#fb9f3a"
                        ],
                        [
                          0.8888888888888888,
                          "#fdca26"
                        ],
                        [
                          1,
                          "#f0f921"
                        ]
                      ]
                    },
                    "colorway": [
                      "#636efa",
                      "#EF553B",
                      "#00cc96",
                      "#ab63fa",
                      "#FFA15A",
                      "#19d3f3",
                      "#FF6692",
                      "#B6E880",
                      "#FF97FF",
                      "#FECB52"
                    ],
                    "font": {
                      "color": "#2a3f5f"
                    },
                    "geo": {
                      "bgcolor": "white",
                      "lakecolor": "white",
                      "landcolor": "white",
                      "showlakes": true,
                      "showland": true,
                      "subunitcolor": "#C8D4E3"
                    },
                    "hoverlabel": {
                      "align": "left"
                    },
                    "hovermode": "closest",
                    "mapbox": {
                      "style": "light"
                    },
                    "paper_bgcolor": "white",
                    "plot_bgcolor": "white",
                    "polar": {
                      "angularaxis": {
                        "gridcolor": "#EBF0F8",
                        "linecolor": "#EBF0F8",
                        "ticks": ""
                      },
                      "bgcolor": "white",
                      "radialaxis": {
                        "gridcolor": "#EBF0F8",
                        "linecolor": "#EBF0F8",
                        "ticks": ""
                      }
                    },
                    "scene": {
                      "xaxis": {
                        "backgroundcolor": "white",
                        "gridcolor": "#DFE8F3",
                        "gridwidth": 2,
                        "linecolor": "#EBF0F8",
                        "showbackground": true,
                        "ticks": "",
                        "zerolinecolor": "#EBF0F8"
                      },
                      "yaxis": {
                        "backgroundcolor": "white",
                        "gridcolor": "#DFE8F3",
                        "gridwidth": 2,
                        "linecolor": "#EBF0F8",
                        "showbackground": true,
                        "ticks": "",
                        "zerolinecolor": "#EBF0F8"
                      },
                      "zaxis": {
                        "backgroundcolor": "white",
                        "gridcolor": "#DFE8F3",
                        "gridwidth": 2,
                        "linecolor": "#EBF0F8",
                        "showbackground": true,
                        "ticks": "",
                        "zerolinecolor": "#EBF0F8"
                      }
                    },
                    "shapedefaults": {
                      "line": {
                        "color": "#2a3f5f"
                      }
                    },
                    "ternary": {
                      "aaxis": {
                        "gridcolor": "#DFE8F3",
                        "linecolor": "#A2B1C6",
                        "ticks": ""
                      },
                      "baxis": {
                        "gridcolor": "#DFE8F3",
                        "linecolor": "#A2B1C6",
                        "ticks": ""
                      },
                      "bgcolor": "white",
                      "caxis": {
                        "gridcolor": "#DFE8F3",
                        "linecolor": "#A2B1C6",
                        "ticks": ""
                      }
                    },
                    "title": {
                      "x": 0.05
                    },
                    "xaxis": {
                      "automargin": true,
                      "gridcolor": "#EBF0F8",
                      "linecolor": "#EBF0F8",
                      "ticks": "",
                      "title": {
                        "standoff": 15
                      },
                      "zerolinecolor": "#EBF0F8",
                      "zerolinewidth": 2
                    },
                    "yaxis": {
                      "automargin": true,
                      "gridcolor": "#EBF0F8",
                      "linecolor": "#EBF0F8",
                      "ticks": "",
                      "title": {
                        "standoff": 15
                      },
                      "zerolinecolor": "#EBF0F8",
                      "zerolinewidth": 2
                    }
                  }
                },
                "xaxis": {
                  "title": {
                    "text": "Sample Index"
                  }
                },
                "yaxis": {
                  "title": {
                    "text": "Temp"
                  }
                },
                "legend": {
                  "title": {
                    "text": "Legend"
                  }
                }
              },
              "config": {
                "plotlyServerURL": "https://plot.ly"
              }
            },
            "text/html": [
              "<div>                            <div id=\"4112ab67-57d2-4d56-8f20-7bdf481d51b9\" class=\"plotly-graph-div\" style=\"height:525px; width:100%;\"></div>            <script type=\"text/javascript\">                require([\"plotly\"], function(Plotly) {                    window.PLOTLYENV=window.PLOTLYENV || {};                                    if (document.getElementById(\"4112ab67-57d2-4d56-8f20-7bdf481d51b9\")) {                    Plotly.newPlot(                        \"4112ab67-57d2-4d56-8f20-7bdf481d51b9\",                        [{\"marker\":{\"color\":\"blue\"},\"mode\":\"markers\",\"name\":\"Actual\",\"x\":[0,1,2,3,4,5,6,7,8,9,10,11,12,13,14,15,16,17,18,19,20,21,22,23,24,25,26,27,28,29,30,31,32,33,34,35,36,37,38,39,40,41,42,43,44,45,46,47,48,49,50,51,52,53,54,55,56,57,58,59,60,61,62,63,64,65,66,67,68,69,70,71,72,73,74,75,76,77,78,79,80,81,82,83,84,85,86,87],\"y\":[11.95,10.55,20.3,14.75,23.35,25.299999999999997,-2.65,18.6,4.699999999999999,5.3,0.8999999999999999,9.45,10.8,21.1,26.65,5.0,8.35,6.65,5.550000000000001,3.9,25.55,-0.7500000000000001,20.85,3.9,13.6,5.85,13.05,19.45,10.55,11.65,24.700000000000003,27.5,4.7,26.1,25.3,10.55,8.6,13.899999999999999,20.8,12.5,21.4,-0.75,12.75,15.25,0.8500000000000001,14.15,0.8500000000000001,23.049999999999997,8.05,19.15,23.9,23.35,3.9,5.55,22.5,23.35,24.15,21.4,13.05,20.85,4.2,3.95,19.45,24.75,9.45,8.9,19.700000000000003,0.2999999999999998,5.85,1.4,21.35,20.0,24.450000000000003,25.0,3.9000000000000004,1.9500000000000002,9.45,23.9,15.0,9.75,11.95,11.1,5.6,14.7,6.4,21.1,25.0,18.9],\"type\":\"scatter\"},{\"marker\":{\"color\":\"red\",\"symbol\":\"x\"},\"mode\":\"markers\",\"name\":\"Predicted\",\"x\":[0,1,2,3,4,5,6,7,8,9,10,11,12,13,14,15,16,17,18,19,20,21,22,23,24,25,26,27,28,29,30,31,32,33,34,35,36,37,38,39,40,41,42,43,44,45,46,47,48,49,50,51,52,53,54,55,56,57,58,59,60,61,62,63,64,65,66,67,68,69,70,71,72,73,74,75,76,77,78,79,80,81,82,83,84,85,86,87],\"y\":[13.378413200378418,11.020060539245605,22.942668914794922,16.606897354125977,25.857654571533203,25.25052261352539,-3.263430118560791,19.74281883239746,6.690167427062988,9.050152778625488,2.3616485595703125,9.5708589553833,10.943755149841309,21.60353660583496,26.636335372924805,3.9951627254486084,4.817195892333984,6.583639144897461,5.7980122566223145,2.9589996337890625,26.366655349731445,-2.330594778060913,21.139345169067383,6.671578407287598,13.90715503692627,6.628028392791748,15.61168098449707,17.31498146057129,3.887965679168701,12.494878768920898,25.18589973449707,29.460710525512695,3.6507394313812256,27.45526695251465,27.422529220581055,10.977462768554688,10.105098724365234,13.605127334594727,22.453731536865234,13.537442207336426,23.385814666748047,0.5273377299308777,14.53161907196045,13.924053192138672,1.4139903783798218,13.798323631286621,0.16485634446144104,23.517362594604492,6.016419410705566,21.821826934814453,24.634876251220703,24.928850173950195,5.494734287261963,5.170130729675293,25.245527267456055,24.452280044555664,24.05815315246582,23.37002944946289,12.150989532470703,22.2799129486084,2.207695245742798,2.8415653705596924,20.530153274536133,25.01630210876465,11.510039329528809,9.563821792602539,20.671974182128906,-1.5798513889312744,10.020376205444336,0.6094434261322021,23.867507934570312,22.801923751831055,25.973539352416992,25.420114517211914,3.5557966232299805,1.1426732540130615,11.079310417175293,26.24003791809082,15.035593032836914,8.878072738647461,15.167698860168457,10.852151870727539,3.5539019107818604,16.01020622253418,3.410536289215088,23.33677101135254,26.549869537353516,19.99053382873535],\"type\":\"scatter\"}],                        {\"template\":{\"data\":{\"barpolar\":[{\"marker\":{\"line\":{\"color\":\"white\",\"width\":0.5},\"pattern\":{\"fillmode\":\"overlay\",\"size\":10,\"solidity\":0.2}},\"type\":\"barpolar\"}],\"bar\":[{\"error_x\":{\"color\":\"#2a3f5f\"},\"error_y\":{\"color\":\"#2a3f5f\"},\"marker\":{\"line\":{\"color\":\"white\",\"width\":0.5},\"pattern\":{\"fillmode\":\"overlay\",\"size\":10,\"solidity\":0.2}},\"type\":\"bar\"}],\"carpet\":[{\"aaxis\":{\"endlinecolor\":\"#2a3f5f\",\"gridcolor\":\"#C8D4E3\",\"linecolor\":\"#C8D4E3\",\"minorgridcolor\":\"#C8D4E3\",\"startlinecolor\":\"#2a3f5f\"},\"baxis\":{\"endlinecolor\":\"#2a3f5f\",\"gridcolor\":\"#C8D4E3\",\"linecolor\":\"#C8D4E3\",\"minorgridcolor\":\"#C8D4E3\",\"startlinecolor\":\"#2a3f5f\"},\"type\":\"carpet\"}],\"choropleth\":[{\"colorbar\":{\"outlinewidth\":0,\"ticks\":\"\"},\"type\":\"choropleth\"}],\"contourcarpet\":[{\"colorbar\":{\"outlinewidth\":0,\"ticks\":\"\"},\"type\":\"contourcarpet\"}],\"contour\":[{\"colorbar\":{\"outlinewidth\":0,\"ticks\":\"\"},\"colorscale\":[[0.0,\"#0d0887\"],[0.1111111111111111,\"#46039f\"],[0.2222222222222222,\"#7201a8\"],[0.3333333333333333,\"#9c179e\"],[0.4444444444444444,\"#bd3786\"],[0.5555555555555556,\"#d8576b\"],[0.6666666666666666,\"#ed7953\"],[0.7777777777777778,\"#fb9f3a\"],[0.8888888888888888,\"#fdca26\"],[1.0,\"#f0f921\"]],\"type\":\"contour\"}],\"heatmapgl\":[{\"colorbar\":{\"outlinewidth\":0,\"ticks\":\"\"},\"colorscale\":[[0.0,\"#0d0887\"],[0.1111111111111111,\"#46039f\"],[0.2222222222222222,\"#7201a8\"],[0.3333333333333333,\"#9c179e\"],[0.4444444444444444,\"#bd3786\"],[0.5555555555555556,\"#d8576b\"],[0.6666666666666666,\"#ed7953\"],[0.7777777777777778,\"#fb9f3a\"],[0.8888888888888888,\"#fdca26\"],[1.0,\"#f0f921\"]],\"type\":\"heatmapgl\"}],\"heatmap\":[{\"colorbar\":{\"outlinewidth\":0,\"ticks\":\"\"},\"colorscale\":[[0.0,\"#0d0887\"],[0.1111111111111111,\"#46039f\"],[0.2222222222222222,\"#7201a8\"],[0.3333333333333333,\"#9c179e\"],[0.4444444444444444,\"#bd3786\"],[0.5555555555555556,\"#d8576b\"],[0.6666666666666666,\"#ed7953\"],[0.7777777777777778,\"#fb9f3a\"],[0.8888888888888888,\"#fdca26\"],[1.0,\"#f0f921\"]],\"type\":\"heatmap\"}],\"histogram2dcontour\":[{\"colorbar\":{\"outlinewidth\":0,\"ticks\":\"\"},\"colorscale\":[[0.0,\"#0d0887\"],[0.1111111111111111,\"#46039f\"],[0.2222222222222222,\"#7201a8\"],[0.3333333333333333,\"#9c179e\"],[0.4444444444444444,\"#bd3786\"],[0.5555555555555556,\"#d8576b\"],[0.6666666666666666,\"#ed7953\"],[0.7777777777777778,\"#fb9f3a\"],[0.8888888888888888,\"#fdca26\"],[1.0,\"#f0f921\"]],\"type\":\"histogram2dcontour\"}],\"histogram2d\":[{\"colorbar\":{\"outlinewidth\":0,\"ticks\":\"\"},\"colorscale\":[[0.0,\"#0d0887\"],[0.1111111111111111,\"#46039f\"],[0.2222222222222222,\"#7201a8\"],[0.3333333333333333,\"#9c179e\"],[0.4444444444444444,\"#bd3786\"],[0.5555555555555556,\"#d8576b\"],[0.6666666666666666,\"#ed7953\"],[0.7777777777777778,\"#fb9f3a\"],[0.8888888888888888,\"#fdca26\"],[1.0,\"#f0f921\"]],\"type\":\"histogram2d\"}],\"histogram\":[{\"marker\":{\"pattern\":{\"fillmode\":\"overlay\",\"size\":10,\"solidity\":0.2}},\"type\":\"histogram\"}],\"mesh3d\":[{\"colorbar\":{\"outlinewidth\":0,\"ticks\":\"\"},\"type\":\"mesh3d\"}],\"parcoords\":[{\"line\":{\"colorbar\":{\"outlinewidth\":0,\"ticks\":\"\"}},\"type\":\"parcoords\"}],\"pie\":[{\"automargin\":true,\"type\":\"pie\"}],\"scatter3d\":[{\"line\":{\"colorbar\":{\"outlinewidth\":0,\"ticks\":\"\"}},\"marker\":{\"colorbar\":{\"outlinewidth\":0,\"ticks\":\"\"}},\"type\":\"scatter3d\"}],\"scattercarpet\":[{\"marker\":{\"colorbar\":{\"outlinewidth\":0,\"ticks\":\"\"}},\"type\":\"scattercarpet\"}],\"scattergeo\":[{\"marker\":{\"colorbar\":{\"outlinewidth\":0,\"ticks\":\"\"}},\"type\":\"scattergeo\"}],\"scattergl\":[{\"marker\":{\"colorbar\":{\"outlinewidth\":0,\"ticks\":\"\"}},\"type\":\"scattergl\"}],\"scattermapbox\":[{\"marker\":{\"colorbar\":{\"outlinewidth\":0,\"ticks\":\"\"}},\"type\":\"scattermapbox\"}],\"scatterpolargl\":[{\"marker\":{\"colorbar\":{\"outlinewidth\":0,\"ticks\":\"\"}},\"type\":\"scatterpolargl\"}],\"scatterpolar\":[{\"marker\":{\"colorbar\":{\"outlinewidth\":0,\"ticks\":\"\"}},\"type\":\"scatterpolar\"}],\"scatter\":[{\"fillpattern\":{\"fillmode\":\"overlay\",\"size\":10,\"solidity\":0.2},\"type\":\"scatter\"}],\"scatterternary\":[{\"marker\":{\"colorbar\":{\"outlinewidth\":0,\"ticks\":\"\"}},\"type\":\"scatterternary\"}],\"surface\":[{\"colorbar\":{\"outlinewidth\":0,\"ticks\":\"\"},\"colorscale\":[[0.0,\"#0d0887\"],[0.1111111111111111,\"#46039f\"],[0.2222222222222222,\"#7201a8\"],[0.3333333333333333,\"#9c179e\"],[0.4444444444444444,\"#bd3786\"],[0.5555555555555556,\"#d8576b\"],[0.6666666666666666,\"#ed7953\"],[0.7777777777777778,\"#fb9f3a\"],[0.8888888888888888,\"#fdca26\"],[1.0,\"#f0f921\"]],\"type\":\"surface\"}],\"table\":[{\"cells\":{\"fill\":{\"color\":\"#EBF0F8\"},\"line\":{\"color\":\"white\"}},\"header\":{\"fill\":{\"color\":\"#C8D4E3\"},\"line\":{\"color\":\"white\"}},\"type\":\"table\"}]},\"layout\":{\"annotationdefaults\":{\"arrowcolor\":\"#2a3f5f\",\"arrowhead\":0,\"arrowwidth\":1},\"autotypenumbers\":\"strict\",\"coloraxis\":{\"colorbar\":{\"outlinewidth\":0,\"ticks\":\"\"}},\"colorscale\":{\"diverging\":[[0,\"#8e0152\"],[0.1,\"#c51b7d\"],[0.2,\"#de77ae\"],[0.3,\"#f1b6da\"],[0.4,\"#fde0ef\"],[0.5,\"#f7f7f7\"],[0.6,\"#e6f5d0\"],[0.7,\"#b8e186\"],[0.8,\"#7fbc41\"],[0.9,\"#4d9221\"],[1,\"#276419\"]],\"sequential\":[[0.0,\"#0d0887\"],[0.1111111111111111,\"#46039f\"],[0.2222222222222222,\"#7201a8\"],[0.3333333333333333,\"#9c179e\"],[0.4444444444444444,\"#bd3786\"],[0.5555555555555556,\"#d8576b\"],[0.6666666666666666,\"#ed7953\"],[0.7777777777777778,\"#fb9f3a\"],[0.8888888888888888,\"#fdca26\"],[1.0,\"#f0f921\"]],\"sequentialminus\":[[0.0,\"#0d0887\"],[0.1111111111111111,\"#46039f\"],[0.2222222222222222,\"#7201a8\"],[0.3333333333333333,\"#9c179e\"],[0.4444444444444444,\"#bd3786\"],[0.5555555555555556,\"#d8576b\"],[0.6666666666666666,\"#ed7953\"],[0.7777777777777778,\"#fb9f3a\"],[0.8888888888888888,\"#fdca26\"],[1.0,\"#f0f921\"]]},\"colorway\":[\"#636efa\",\"#EF553B\",\"#00cc96\",\"#ab63fa\",\"#FFA15A\",\"#19d3f3\",\"#FF6692\",\"#B6E880\",\"#FF97FF\",\"#FECB52\"],\"font\":{\"color\":\"#2a3f5f\"},\"geo\":{\"bgcolor\":\"white\",\"lakecolor\":\"white\",\"landcolor\":\"white\",\"showlakes\":true,\"showland\":true,\"subunitcolor\":\"#C8D4E3\"},\"hoverlabel\":{\"align\":\"left\"},\"hovermode\":\"closest\",\"mapbox\":{\"style\":\"light\"},\"paper_bgcolor\":\"white\",\"plot_bgcolor\":\"white\",\"polar\":{\"angularaxis\":{\"gridcolor\":\"#EBF0F8\",\"linecolor\":\"#EBF0F8\",\"ticks\":\"\"},\"bgcolor\":\"white\",\"radialaxis\":{\"gridcolor\":\"#EBF0F8\",\"linecolor\":\"#EBF0F8\",\"ticks\":\"\"}},\"scene\":{\"xaxis\":{\"backgroundcolor\":\"white\",\"gridcolor\":\"#DFE8F3\",\"gridwidth\":2,\"linecolor\":\"#EBF0F8\",\"showbackground\":true,\"ticks\":\"\",\"zerolinecolor\":\"#EBF0F8\"},\"yaxis\":{\"backgroundcolor\":\"white\",\"gridcolor\":\"#DFE8F3\",\"gridwidth\":2,\"linecolor\":\"#EBF0F8\",\"showbackground\":true,\"ticks\":\"\",\"zerolinecolor\":\"#EBF0F8\"},\"zaxis\":{\"backgroundcolor\":\"white\",\"gridcolor\":\"#DFE8F3\",\"gridwidth\":2,\"linecolor\":\"#EBF0F8\",\"showbackground\":true,\"ticks\":\"\",\"zerolinecolor\":\"#EBF0F8\"}},\"shapedefaults\":{\"line\":{\"color\":\"#2a3f5f\"}},\"ternary\":{\"aaxis\":{\"gridcolor\":\"#DFE8F3\",\"linecolor\":\"#A2B1C6\",\"ticks\":\"\"},\"baxis\":{\"gridcolor\":\"#DFE8F3\",\"linecolor\":\"#A2B1C6\",\"ticks\":\"\"},\"bgcolor\":\"white\",\"caxis\":{\"gridcolor\":\"#DFE8F3\",\"linecolor\":\"#A2B1C6\",\"ticks\":\"\"}},\"title\":{\"x\":0.05},\"xaxis\":{\"automargin\":true,\"gridcolor\":\"#EBF0F8\",\"linecolor\":\"#EBF0F8\",\"ticks\":\"\",\"title\":{\"standoff\":15},\"zerolinecolor\":\"#EBF0F8\",\"zerolinewidth\":2},\"yaxis\":{\"automargin\":true,\"gridcolor\":\"#EBF0F8\",\"linecolor\":\"#EBF0F8\",\"ticks\":\"\",\"title\":{\"standoff\":15},\"zerolinecolor\":\"#EBF0F8\",\"zerolinewidth\":2}}},\"xaxis\":{\"title\":{\"text\":\"Sample Index\"}},\"yaxis\":{\"title\":{\"text\":\"Temp\"}},\"legend\":{\"title\":{\"text\":\"Legend\"}}},                        {\"responsive\": true}                    ).then(function(){\n",
              "                            \n",
              "var gd = document.getElementById('4112ab67-57d2-4d56-8f20-7bdf481d51b9');\n",
              "var x = new MutationObserver(function (mutations, observer) {{\n",
              "        var display = window.getComputedStyle(gd).display;\n",
              "        if (!display || display === 'none') {{\n",
              "            console.log([gd, 'removed!']);\n",
              "            Plotly.purge(gd);\n",
              "            observer.disconnect();\n",
              "        }}\n",
              "}});\n",
              "\n",
              "// Listen for the removal of the full notebook cells\n",
              "var notebookContainer = gd.closest('#notebook-container');\n",
              "if (notebookContainer) {{\n",
              "    x.observe(notebookContainer, {childList: true});\n",
              "}}\n",
              "\n",
              "// Listen for the clearing of the current output cell\n",
              "var outputEl = gd.closest('.output');\n",
              "if (outputEl) {{\n",
              "    x.observe(outputEl, {childList: true});\n",
              "}}\n",
              "\n",
              "                        })                };                });            </script>        </div>"
            ]
          },
          "metadata": {}
        }
      ],
      "source": [
        "import plotly.graph_objs as go\n",
        "\n",
        "predictions_flattened = [item for sublist in predictions for item in sublist]\n",
        "\n",
        "# Assuming y_test and predictions are your data\n",
        "scatter_plot = go.Figure()\n",
        "\n",
        "# Actual Values\n",
        "scatter_plot.add_trace(go.Scatter(\n",
        "    x=y_test.reset_index().index,\n",
        "    y=y_test.values,\n",
        "    mode='markers',\n",
        "    name='Actual',\n",
        "    marker=dict(color='blue')\n",
        "))\n",
        "\n",
        "# Predicted Values\n",
        "scatter_plot.add_trace(go.Scatter(\n",
        "    x=y_test.reset_index().index,\n",
        "    y=predictions_flattened,\n",
        "    mode='markers',\n",
        "    name='Predicted',\n",
        "    marker=dict(color='red', symbol='x')\n",
        "))\n",
        "\n",
        "# Updating layout\n",
        "scatter_plot.update_layout(\n",
        "    # title='Comparison of Actual and Predicted Average Temp per Day',title_x=0.5,\n",
        "    xaxis_title='Sample Index',\n",
        "    yaxis_title='Temp',\n",
        "    legend_title='Legend',\n",
        "    template='plotly_white'\n",
        ")\n"
      ]
    },
    {
      "cell_type": "markdown",
      "metadata": {
        "id": "2Bx2bgVv-aJx"
      },
      "source": [
        "# Main layout"
      ]
    },
    {
      "cell_type": "code",
      "execution_count": 28,
      "metadata": {
        "id": "qTbKlxOg-aJx"
      },
      "outputs": [],
      "source": [
        "from dash import Dash, html, dcc\n",
        "\n",
        "app = Dash(__name__)\n",
        "\n",
        "app.layout = html.Div([\n",
        "    html.H1('DATA 602 Final Project Weather Forcasting in Central Park', style={'textAlign': 'center'}),\n",
        "\n",
        "    # Dropdown and line chart for time series\n",
        "    dcc.Dropdown(\n",
        "        id='column-dropdown',\n",
        "        options=[{'label': col, 'value': col} for col in df_combine.columns],\n",
        "        value='TAVG'\n",
        "    ),\n",
        "    dcc.Graph(id='line-chart'),\n",
        "\n",
        "    # Flex container for heatmap and model diagram\n",
        "    html.Div([\n",
        "        # Heatmap\n",
        "        html.Div([\n",
        "            html.H2('Select Features for Correlation Heatmap'),\n",
        "            dcc.Dropdown(\n",
        "                id='feature-select-dropdown',\n",
        "                options=[{'label': col, 'value': col} for col in df_combine.columns],\n",
        "                value=df_combine.columns.tolist()[:5],  # Default selected values\n",
        "                multi=True\n",
        "            ),\n",
        "            dcc.Graph(id='feature-correlation-heatmap')\n",
        "        ], style={'flex': '1'}),\n",
        "\n",
        "        # Model Diagram\n",
        "        html.Div([\n",
        "            html.H2('Simple model diagram'),\n",
        "            html.Img(src='data:image/png;base64,{}'.format(encode_image('model_plot.jpg')),\n",
        "                     style={})\n",
        "        ], style={'flex': '1'})\n",
        "    ], style={'display': 'flex', 'flex-direction': 'row', 'align-items': 'stretch', 'textAlign': 'center', 'flex-flow': 'space-evenly', 'margin-bottom': '20px'}),  # Added margin-bottom here\n",
        "\n",
        "    # predicted map\n",
        "    html.Div([\n",
        "        html.H2('Comparison of Actual and Predicted Average Temp per Day',style={'textAlign': 'center'}),\n",
        "        dcc.Graph(figure=scatter_plot)\n",
        "    ], style={'flex': '1', 'flex-flow': 'space-evenly'}),\n",
        "    html.Div([\n",
        "        html.H2('Weather forcasting for Next few days',style={'textAlign': 'center'}),\n",
        "        dcc.Graph(figure=fig_1)\n",
        "    ], style={'flex': '1', 'flex-flow': 'space-evenly'})\n",
        "\n",
        "], style={'flex': '1', 'flex-flow': 'space-evenly'})\n"
      ]
    },
    {
      "cell_type": "markdown",
      "metadata": {
        "id": "blYLbNW5-aJx"
      },
      "source": [
        "# add callback"
      ]
    },
    {
      "cell_type": "code",
      "execution_count": 29,
      "metadata": {
        "id": "AwQ29Fzw-aJx"
      },
      "outputs": [],
      "source": [
        "@app.callback(\n",
        "    Output('line-chart', 'figure'),\n",
        "    [Input('column-dropdown', 'value')]\n",
        ")\n",
        "def update_chart(selected_column):\n",
        "    fig = px.line(df_combine, x=df_combine.index, y=['TAVG', selected_column])\n",
        "    fig.update_layout(title='Comparison of TAVG and Features Column', title_x=0.5)\n",
        "\n",
        "    return fig\n",
        "# callback for heatmap\n",
        "@app.callback(\n",
        "    Output('feature-correlation-heatmap', 'figure'),\n",
        "    [Input('feature-select-dropdown', 'value')]\n",
        ")\n",
        "def update_heatmap(selected_features):\n",
        "    return generate_heatmap(selected_features)\n",
        "\n"
      ]
    },
    {
      "cell_type": "code",
      "execution_count": 30,
      "metadata": {
        "id": "LVRSKaGc-aJx",
        "colab": {
          "base_uri": "https://localhost:8080/",
          "height": 670
        },
        "outputId": "63dcec91-6b5b-4c11-f09c-eda3893d95de"
      },
      "outputs": [
        {
          "output_type": "display_data",
          "data": {
            "text/plain": [
              "<IPython.core.display.Javascript object>"
            ],
            "application/javascript": [
              "(async (port, path, width, height, cache, element) => {\n",
              "    if (!google.colab.kernel.accessAllowed && !cache) {\n",
              "      return;\n",
              "    }\n",
              "    element.appendChild(document.createTextNode(''));\n",
              "    const url = await google.colab.kernel.proxyPort(port, {cache});\n",
              "    const iframe = document.createElement('iframe');\n",
              "    iframe.src = new URL(path, url).toString();\n",
              "    iframe.height = height;\n",
              "    iframe.width = width;\n",
              "    iframe.style.border = 0;\n",
              "    iframe.allow = [\n",
              "        'accelerometer',\n",
              "        'autoplay',\n",
              "        'camera',\n",
              "        'clipboard-read',\n",
              "        'clipboard-write',\n",
              "        'gyroscope',\n",
              "        'magnetometer',\n",
              "        'microphone',\n",
              "        'serial',\n",
              "        'usb',\n",
              "        'xr-spatial-tracking',\n",
              "    ].join('; ');\n",
              "    element.appendChild(iframe);\n",
              "  })(8050, \"/\", \"100%\", 650, false, window.element)"
            ]
          },
          "metadata": {}
        }
      ],
      "source": [
        "if __name__ == '__main__':\n",
        "    app.run_server(debug=True,host=\"127.0.0.1\", port=8050)\n"
      ]
    }
  ],
  "metadata": {
    "colab": {
      "provenance": [],
      "gpuType": "T4"
    },
    "kernelspec": {
      "display_name": "Python 3",
      "name": "python3"
    },
    "language_info": {
      "codemirror_mode": {
        "name": "ipython",
        "version": 3
      },
      "file_extension": ".py",
      "mimetype": "text/x-python",
      "name": "python",
      "nbconvert_exporter": "python",
      "pygments_lexer": "ipython3",
      "version": "3.11.0"
    },
    "accelerator": "GPU"
  },
  "nbformat": 4,
  "nbformat_minor": 0
}